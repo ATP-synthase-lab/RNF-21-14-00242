{
 "cells": [
  {
   "cell_type": "code",
   "execution_count": 1,
   "id": "2ff1eb2e",
   "metadata": {},
   "outputs": [],
   "source": [
    "from Bio.SearchIO import HmmerIO\n",
    "from Bio import AlignIO, SeqIO\n",
    "import re \n",
    "\n",
    "import pandas as pd\n",
    "import subprocess\n",
    "\n",
    "from glob import glob\n",
    "import os\n",
    "\n",
    "from tqdm.notebook import tqdm\n",
    "\n",
    "import pandas as pd\n",
    "from addict import Dict\n",
    "import sys\n",
    "sys.path.append('../03_acetyl')\n",
    "from funcs import *\n",
    "\n",
    "from matplotlib_venn import venn2\n",
    "\n",
    "import matplotlib\n",
    "matplotlib.style.use('seaborn-whitegrid')\n",
    "import matplotlib.pyplot as plt\n",
    "plt.rcParams['figure.dpi'] = 100"
   ]
  },
  {
   "cell_type": "code",
   "execution_count": 2,
   "id": "61db493a",
   "metadata": {},
   "outputs": [
    {
     "data": {
      "text/html": [
       "<div>\n",
       "<style scoped>\n",
       "    .dataframe tbody tr th:only-of-type {\n",
       "        vertical-align: middle;\n",
       "    }\n",
       "\n",
       "    .dataframe tbody tr th {\n",
       "        vertical-align: top;\n",
       "    }\n",
       "\n",
       "    .dataframe thead th {\n",
       "        text-align: right;\n",
       "    }\n",
       "</style>\n",
       "<table border=\"1\" class=\"dataframe\">\n",
       "  <thead>\n",
       "    <tr style=\"text-align: right;\">\n",
       "      <th></th>\n",
       "      <th>path</th>\n",
       "      <th>accession</th>\n",
       "      <th>assembly</th>\n",
       "      <th>kindom</th>\n",
       "      <th>species</th>\n",
       "    </tr>\n",
       "  </thead>\n",
       "  <tbody>\n",
       "    <tr>\n",
       "      <th>0</th>\n",
       "      <td>/media/pc208/es/litvinanna/gtdb-202/genomic_files_reps/protein_faa_reps/archaea/GB_GCA_000008085.1_protein.faa</td>\n",
       "      <td>GB_GCA_000008085.1</td>\n",
       "      <td>GCA_000008085.1</td>\n",
       "      <td>archaea</td>\n",
       "      <td>Nanoarchaeum equitans</td>\n",
       "    </tr>\n",
       "  </tbody>\n",
       "</table>\n",
       "</div>"
      ],
      "text/plain": [
       "                                                                                                             path  \\\n",
       "0  /media/pc208/es/litvinanna/gtdb-202/genomic_files_reps/protein_faa_reps/archaea/GB_GCA_000008085.1_protein.faa   \n",
       "\n",
       "            accession         assembly   kindom                species  \n",
       "0  GB_GCA_000008085.1  GCA_000008085.1  archaea  Nanoarchaeum equitans  "
      ]
     },
     "execution_count": 2,
     "metadata": {},
     "output_type": "execute_result"
    }
   ],
   "source": [
    "PATHES = pd.read_csv('../gtdb_info/pathes.csv')\n",
    "pd.options.display.max_colwidth = 120\n",
    "PATHES.head(1)"
   ]
  },
  {
   "cell_type": "code",
   "execution_count": 3,
   "id": "21b484ef",
   "metadata": {},
   "outputs": [
    {
     "name": "stdout",
     "output_type": "stream",
     "text": [
      "INFO: Pandarallel will run on 8 workers.\n",
      "INFO: Pandarallel will use Memory file system to transfer data between the main process and workers.\n"
     ]
    }
   ],
   "source": [
    "import pandas as pd\n",
    "from pandarallel import pandarallel\n",
    "pandarallel.initialize(nb_workers=8, progress_bar=True)\n",
    "from tqdm import tqdm\n",
    "tqdm.pandas()\n",
    "from hmm_search_funcs_for_atpases import *"
   ]
  },
  {
   "cell_type": "code",
   "execution_count": 5,
   "id": "85bb4267",
   "metadata": {},
   "outputs": [
    {
     "name": "stdout",
     "output_type": "stream",
     "text": [
      "\u001b[48;2;6;82;157mM\u001b[48;2;206;71;206mD\u001b[48;2;118;165;215mL\u001b[48;2;118;165;215mL\u001b[48;2;61;203;59mT\u001b[48;2;39;110;183mA\u001b[48;2;233;49;0mK\u001b[48;2;61;203;59mT\u001b[48;2;73;158;246mI\u001b[48;2;0;121;253mV\u001b[48;2;118;165;215mL\u001b[48;2;230;154;58mG\u001b[48;2;232;127;126mC\u001b[48;2;0;152;0mS\u001b[48;2;39;110;183mA\u001b[48;2;0;121;253mV\u001b[48;2;230;154;58mG\u001b[48;2;39;110;183mA\u001b[48;2;230;154;58mG\u001b[48;2;118;165;215mL\u001b[48;2;39;110;183mA\u001b[48;2;6;82;157mM\u001b[48;2;73;158;246mI\u001b[48;2;39;110;183mA\u001b[48;2;230;154;58mG\u001b[48;2;118;165;215mL\u001b[48;2;230;154;58mG\u001b[48;2;204;206;0mP\u001b[48;2;230;154;58mG\u001b[48;2;73;158;246mI\u001b[48;2;230;154;58mG\u001b[48;2;153;60;153mE\u001b[48;2;230;154;58mG\u001b[48;2;0;198;201mY\u001b[48;2;39;110;183mA\u001b[48;2;39;110;183mA\u001b[48;2;230;154;58mG\u001b[48;2;233;49;0mK\u001b[48;2;39;110;183mA\u001b[48;2;0;121;253mV\u001b[48;2;153;60;153mE\u001b[48;2;0;152;0mS\u001b[48;2;0;121;253mV\u001b[48;2;39;110;183mA\u001b[48;2;233;49;0mR\u001b[48;2;84;239;82mQ\u001b[48;2;204;206;0mP\u001b[48;2;153;60;153mE\u001b[48;2;39;110;183mA\u001b[48;2;233;49;0mR\u001b[48;2;230;154;58mG\u001b[48;2;0;152;0mS\u001b[48;2;73;158;246mI\u001b[48;2;73;158;246mI\u001b[48;2;0;152;0mS\u001b[48;2;61;203;59mT\u001b[48;2;6;82;157mM\u001b[48;2;73;158;246mI\u001b[48;2;118;165;215mL\u001b[48;2;230;154;58mG\u001b[48;2;84;239;82mQ\u001b[48;2;39;110;183mA\u001b[48;2;0;121;253mV\u001b[48;2;39;110;183mA\u001b[48;2;153;60;153mE\u001b[48;2;0;152;0mS\u001b[48;2;61;203;59mT\u001b[48;2;230;154;58mG\u001b[48;2;73;158;246mI\u001b[48;2;0;198;201mY\u001b[48;2;0;152;0mS\u001b[48;2;118;165;215mL\u001b[48;2;0;121;253mV\u001b[48;2;73;158;246mI\u001b[48;2;39;110;183mA\u001b[48;2;118;165;215mL\u001b[48;2;73;158;246mI\u001b[48;2;118;165;215mL\u001b[48;2;118;165;215mL\u001b[48;2;0;198;201mY\u001b[48;2;39;110;183mA\u001b[48;2;0;206;0mN\u001b[48;2;204;206;0mP\u001b[48;2;8;125;233mF\u001b[48;2;118;165;215mL\u001b[48;2;0;152;0mS\u001b[48;2;233;49;0mK\u001b[48;2;118;165;215mL\u001b[48;2;230;154;58mG\u001b[48;2;255;255;255m*"
     ]
    }
   ],
   "source": [
    "seq = next(get_seq_record(PATHES[PATHES.accession == 'GB_GCA_000007325.1'].path.iloc[0],'AE009951.2_920')).seq\n",
    "print_seq(seq)"
   ]
  },
  {
   "cell_type": "code",
   "execution_count": null,
   "id": "63119251",
   "metadata": {},
   "outputs": [],
   "source": []
  },
  {
   "cell_type": "markdown",
   "id": "d08d61af",
   "metadata": {},
   "source": [
    "# [optioanl] deal with c"
   ]
  },
  {
   "cell_type": "code",
   "execution_count": 75,
   "id": "7de8e0d5",
   "metadata": {},
   "outputs": [],
   "source": [
    "# c_dom = pd.concat([parse_hmmresults_dom(path) for path in tqdm(glob('hmmsearch_results/c_dom/*'))])\n",
    "# c_dom.to_csv('hmmsearch_results/c_dom.csv', index = False)"
   ]
  },
  {
   "cell_type": "code",
   "execution_count": 80,
   "id": "b26d339a",
   "metadata": {},
   "outputs": [
    {
     "data": {
      "text/plain": [
       "Text(0.5, 0, 'bitscore')"
      ]
     },
     "execution_count": 80,
     "metadata": {},
     "output_type": "execute_result"
    },
    {
     "data": {
      "image/png": "[encoded data removed]",
      "text/plain": [
       "<Figure size 400x200 with 1 Axes>"
      ]
     },
     "metadata": {},
     "output_type": "display_data"
    }
   ],
   "source": [
    "c_dom = pd.read_csv('hmmsearch_results/c_dom.csv')\n",
    "c_dom.shape\n",
    "c_dom.head(1)\n",
    "c_dom.query_span.hist(bins = 50, figsize = (4, 2))\n",
    "plt.xlabel('bitscore')"
   ]
  },
  {
   "cell_type": "code",
   "execution_count": 31,
   "id": "3612f2ef",
   "metadata": {},
   "outputs": [],
   "source": [
    "from sklearn.cluster import DBSCAN, KMeans, SpectralClustering, AgglomerativeClustering, OPTICS"
   ]
  },
  {
   "cell_type": "code",
   "execution_count": 68,
   "id": "6181ae44",
   "metadata": {},
   "outputs": [],
   "source": [
    "# clusters = SpectralClustering(3, n_jobs = 8, verbose = True).fit_predict(c_dom[['bitscore', 'query_span']])\n",
    "# clusters = DBSCAN(1, n_jobs = 2).fit_predict(c_dom[['bitscore', 'query_span']])\n",
    "# clusters = OPTICS().fit_predict(c_dom[['bitscore', 'query_span']])\n",
    "# len(set(clusters))\n",
    "# c_dom.plot.scatter('bitscore', 'query_span', s = 1,alpha = 0.1, c = clusters, cmap = 'viridis')\n",
    "# plt.hlines(45, 0, 100, color = 'black')"
   ]
  },
  {
   "cell_type": "code",
   "execution_count": 130,
   "id": "4d63e8db",
   "metadata": {},
   "outputs": [],
   "source": [
    "# _, axs = plt.subplots(2, 2, figsize  = (8, 6), #sharey = True, \n",
    "#                      gridspec_kw={'width_ratios': [2, 1], 'height_ratios': [2, 1]})\n",
    "# axs = axs.flatten()\n",
    "\n",
    "# c_dom.plot.scatter('bitscore', 'query_span', s = 1,alpha = 0.1, ax = axs[0])\n",
    "# axs[0].vlines(40, 0, 80,  color = 'black', linewidth = 1)\n",
    "# axs[0].hlines(45, -20, 110, color = 'black',linewidth = 1)\n",
    "\n",
    "# c_dom.query_span.hist(bins = 50, ax = axs[1], orientation='horizontal')\n",
    "# axs[1].hlines(45, 0, 14e3, color = 'black',linewidth = 1)\n",
    "# axs[1].set_xlabel('#N')\n",
    "\n",
    "# c_dom.bitscore.hist(bins = 50, ax = axs[2],)\n",
    "# # axs[2].hlines(45, 0, 14e3, color = 'black',linewidth = 1)\n",
    "# # axs[2].set_xlabel('#N')"
   ]
  },
  {
   "cell_type": "code",
   "execution_count": 158,
   "id": "046377d5",
   "metadata": {},
   "outputs": [],
   "source": [
    "# import seaborn as sns\n",
    "\n",
    "# plot = sns.jointplot(x = 'bitscore', y = 'query_span', data=c_dom, \n",
    "#                      kind = 'scatter', height = 4, s = 1)\n",
    "# plot.ax_joint.axvline(x=40, color = 'black', linewidth = 1)\n",
    "# plot.ax_joint.axhline(y=45, color = 'black', linewidth = 1)"
   ]
  },
  {
   "cell_type": "code",
   "execution_count": null,
   "id": "8e37daf5",
   "metadata": {},
   "outputs": [],
   "source": []
  },
  {
   "cell_type": "code",
   "execution_count": null,
   "id": "1c5b6288",
   "metadata": {},
   "outputs": [],
   "source": []
  },
  {
   "cell_type": "code",
   "execution_count": 489,
   "id": "b966fae3",
   "metadata": {},
   "outputs": [],
   "source": [
    "def group_c_subunit(df):\n",
    "    new_line = pd.Series(dtype = float)\n",
    "    new_line['c_domains_old'] = len(df)\n",
    "    \n",
    "    df = df[df.query_span > 45]\n",
    "    \n",
    "    intersection = False\n",
    "    df.sort_values('query_start',ascending=True, inplace=True)\n",
    "    current = 0\n",
    "    for _, (start, end) in df[['query_start', 'query_end']].iterrows():\n",
    "        current = current or (start > current)\n",
    "        current = end\n",
    "    new_line['intersection'] = intersection\n",
    "    \n",
    "    new_line['bitscore']  = df.bitscore.max()\n",
    "    new_line['bitscore_mean']  = df.bitscore.mean()\n",
    "    new_line['c_domains'] = len(df)\n",
    "    return new_line"
   ]
  },
  {
   "cell_type": "code",
   "execution_count": 491,
   "id": "23eac386",
   "metadata": {},
   "outputs": [],
   "source": [
    "# c_dom[c_dom.fasta_id ==  'PDTW01000008.1_10'].groupby(['genome', \n",
    "#                     'fasta_id', 'ID', 'start', 'end', 'strand', \n",
    "#                     'partial', 'start_type', 'rbs_motif', 'rbs_spacer', 'gc_cont'])\\\n",
    "# .progress_apply(group_c_subunit)"
   ]
  },
  {
   "cell_type": "code",
   "execution_count": 492,
   "id": "1ce6c6e7",
   "metadata": {},
   "outputs": [
    {
     "name": "stderr",
     "output_type": "stream",
     "text": [
      "100%|███████████████████████████████████████████████████████████████████████████████████| 58963/58963 [03:09<00:00, 311.43it/s]\n"
     ]
    }
   ],
   "source": [
    "c_new = c_dom.groupby(['genome', \n",
    "                    'fasta_id', 'ID', 'start', 'end', 'strand', \n",
    "                    'partial', 'start_type', 'rbs_motif', 'rbs_spacer', 'gc_cont'])\\\n",
    ".progress_apply(group_c_subunit)\n",
    "c_new = c_new.reset_index()\n",
    "# 330 - 350 it/s\n",
    "c_new.to_csv('hmmsearch_results/c_dom_merged.csv', index = False)"
   ]
  },
  {
   "cell_type": "code",
   "execution_count": 438,
   "id": "6fb6b499",
   "metadata": {},
   "outputs": [],
   "source": [
    "# c_new.sort_values('bitscore_mean', inplace = True)\n",
    "\n",
    "# import matplotlib.pyplot as plt\n",
    "# plt.figure(figsize = (15, 10))\n",
    "# plt.scatter(x = c_new.fasta_id, y = c_new.bitscore,      s = 0.5)\n",
    "# plt.scatter(x = c_new.fasta_id, y = c_new.bitscore_mean, s = 0.5)\n",
    "# plt.xticks([])\n",
    "# plt.show()"
   ]
  },
  {
   "cell_type": "markdown",
   "id": "1d256140",
   "metadata": {},
   "source": [
    "## research c"
   ]
  },
  {
   "cell_type": "code",
   "execution_count": 4,
   "id": "038698b5",
   "metadata": {},
   "outputs": [],
   "source": [
    "c_dom   = pd.read_csv('hmmsearch_results/c_dom.csv')\n",
    "c_whole = pd.read_csv('hmmsearch_results/c_dom_merged.csv')\n",
    "c_whole['prl'] = (c_whole.end - c_whole.start + 1) / 3"
   ]
  },
  {
   "cell_type": "code",
   "execution_count": 5,
   "id": "3f5dd145",
   "metadata": {},
   "outputs": [
    {
     "data": {
      "text/plain": [
       "array([0.])"
      ]
     },
     "execution_count": 5,
     "metadata": {},
     "output_type": "execute_result"
    }
   ],
   "source": [
    "c_whole.intersection.unique()"
   ]
  },
  {
   "cell_type": "code",
   "execution_count": 6,
   "id": "e3b30008",
   "metadata": {},
   "outputs": [
    {
     "data": {
      "text/html": [
       "<div>\n",
       "<style scoped>\n",
       "    .dataframe tbody tr th:only-of-type {\n",
       "        vertical-align: middle;\n",
       "    }\n",
       "\n",
       "    .dataframe tbody tr th {\n",
       "        vertical-align: top;\n",
       "    }\n",
       "\n",
       "    .dataframe thead th {\n",
       "        text-align: right;\n",
       "    }\n",
       "</style>\n",
       "<table border=\"1\" class=\"dataframe\">\n",
       "  <thead>\n",
       "    <tr style=\"text-align: right;\">\n",
       "      <th></th>\n",
       "      <th>genome</th>\n",
       "      <th>fasta_id</th>\n",
       "      <th>ID</th>\n",
       "      <th>start</th>\n",
       "      <th>end</th>\n",
       "      <th>strand</th>\n",
       "      <th>partial</th>\n",
       "      <th>start_type</th>\n",
       "      <th>rbs_motif</th>\n",
       "      <th>rbs_spacer</th>\n",
       "      <th>gc_cont</th>\n",
       "      <th>c_domains_old</th>\n",
       "      <th>intersection</th>\n",
       "      <th>bitscore</th>\n",
       "      <th>bitscore_mean</th>\n",
       "      <th>c_domains</th>\n",
       "      <th>prl</th>\n",
       "    </tr>\n",
       "  </thead>\n",
       "  <tbody>\n",
       "    <tr>\n",
       "      <th>1604</th>\n",
       "      <td>GB_GCA_001784175.1</td>\n",
       "      <td>MFPR01000019.1_1</td>\n",
       "      <td>19_1</td>\n",
       "      <td>1</td>\n",
       "      <td>21603</td>\n",
       "      <td>1</td>\n",
       "      <td>10</td>\n",
       "      <td>Edge</td>\n",
       "      <td>None</td>\n",
       "      <td>None</td>\n",
       "      <td>0.636</td>\n",
       "      <td>12.0</td>\n",
       "      <td>0.0</td>\n",
       "      <td>NaN</td>\n",
       "      <td>NaN</td>\n",
       "      <td>0.0</td>\n",
       "      <td>7201.0</td>\n",
       "    </tr>\n",
       "  </tbody>\n",
       "</table>\n",
       "</div>"
      ],
      "text/plain": [
       "                  genome          fasta_id    ID  start    end  strand  \\\n",
       "1604  GB_GCA_001784175.1  MFPR01000019.1_1  19_1      1  21603       1   \n",
       "\n",
       "      partial start_type rbs_motif rbs_spacer  gc_cont  c_domains_old  \\\n",
       "1604       10       Edge      None       None    0.636           12.0   \n",
       "\n",
       "      intersection  bitscore  bitscore_mean  c_domains     prl  \n",
       "1604           0.0       NaN            NaN        0.0  7201.0  "
      ]
     },
     "execution_count": 6,
     "metadata": {},
     "output_type": "execute_result"
    }
   ],
   "source": [
    " c_whole[c_whole['prl'] > 6000]"
   ]
  },
  {
   "cell_type": "code",
   "execution_count": 7,
   "id": "88d99137",
   "metadata": {},
   "outputs": [],
   "source": [
    "c_whole = c_whole[c_whole['prl'] < 6000]"
   ]
  },
  {
   "cell_type": "code",
   "execution_count": null,
   "id": "193a0c2d",
   "metadata": {},
   "outputs": [],
   "source": [
    "c_dom"
   ]
  },
  {
   "cell_type": "code",
   "execution_count": 6,
   "id": "e0291101",
   "metadata": {},
   "outputs": [],
   "source": [
    "# c_whole.c_domains.value_counts().sort_index()"
   ]
  },
  {
   "cell_type": "code",
   "execution_count": 7,
   "id": "3a2db65f",
   "metadata": {},
   "outputs": [],
   "source": [
    "# c_whole[c_whole.bitscore < 40].c_domains.value_counts().sort_index()"
   ]
  },
  {
   "cell_type": "code",
   "execution_count": 8,
   "id": "95038a54",
   "metadata": {},
   "outputs": [],
   "source": [
    "# c_whole[c_whole.bitscore > 40].c_domains.value_counts().sort_index()"
   ]
  },
  {
   "cell_type": "code",
   "execution_count": 500,
   "id": "962107ac",
   "metadata": {},
   "outputs": [],
   "source": [
    "# # c_whole[c_whole.c_domains >= 7].plot.scatter('c_domains', 'prl')\n",
    "# c_whole.plot.scatter('c_domains', 'prl')\n",
    "# plt.plot(np.arange(0, 14, 1), np.arange(0, 14, 1)*70, color = 'red')\n",
    "# plt.ylim(0, 1000)"
   ]
  },
  {
   "cell_type": "code",
   "execution_count": 504,
   "id": "662c9fd9",
   "metadata": {},
   "outputs": [],
   "source": [
    "# to_check = c_whole[c_whole.c_domains >= 7].fasta_id.to_list()\n",
    "# print(len(to_check))\n",
    "# i = 3\n",
    "# c_dom[c_dom.fasta_id == to_check[i]]"
   ]
  },
  {
   "cell_type": "markdown",
   "id": "d84c87e5",
   "metadata": {},
   "source": [
    "# [optional] Mulk c A type"
   ]
  },
  {
   "cell_type": "code",
   "execution_count": 61,
   "id": "155d2221",
   "metadata": {},
   "outputs": [],
   "source": [
    "# ck_dom = pd.concat([parse_hmmresults_dom(path) for path in tqdm(glob('hmmsearch_results/mulk_v_type_ck_dom/*'))])\n",
    "# ck_dom.to_csv('hmmsearch_results/mulk_v_type_ck_dom.csv', index = False)"
   ]
  },
  {
   "cell_type": "code",
   "execution_count": 159,
   "id": "be336993",
   "metadata": {},
   "outputs": [],
   "source": [
    "# ck_dom = pd.read_csv('hmmsearch_results/mulk_v_type_ck_dom.csv')\n",
    "# ck_dom.shape\n",
    "# ck_dom.head(1)\n",
    "# ck_dom.query_span.hist(bins = 100)"
   ]
  },
  {
   "cell_type": "code",
   "execution_count": 546,
   "id": "4eb49026",
   "metadata": {},
   "outputs": [
    {
     "name": "stderr",
     "output_type": "stream",
     "text": [
      "100%|███████████████████████████████████████████████████████████████████████████████████| 60127/60127 [03:13<00:00, 310.45it/s]\n"
     ]
    }
   ],
   "source": [
    "c_new = ck_dom.groupby(['genome', \n",
    "                    'fasta_id', 'ID', 'start', 'end', 'strand', \n",
    "                  'partial', 'start_type', 'rbs_motif', 'rbs_spacer', 'gc_cont'])\\\n",
    ".progress_apply(group_c_subunit)\n",
    "c_new = c_new.reset_index()\n",
    "# 330 - 350 it/s\n",
    "c_new.to_csv('hmmsearch_results/mulk_v_type_ck_dom_merged.csv', index = False)"
   ]
  },
  {
   "cell_type": "code",
   "execution_count": 547,
   "id": "444be8a2",
   "metadata": {},
   "outputs": [],
   "source": [
    "c_new = pd.read_csv('hmmsearch_results/mulk_v_type_ck_dom_merged.csv')"
   ]
  },
  {
   "cell_type": "code",
   "execution_count": 75,
   "id": "396d788c",
   "metadata": {},
   "outputs": [],
   "source": [
    "# c_new.sort_values('bitscore_mean', inplace = True)\n",
    "# import matplotlib.pyplot as plt\n",
    "# plt.figure(figsize = (15, 5))\n",
    "# plt.scatter(x = c_new.fasta_id, y = c_new.bitscore, s = 0.5, c = 'blue')\n",
    "# plt.scatter(x = c_new.fasta_id, y = c_new.bitscore_mean, s = 0.5, c = 'orange')\n",
    "# plt.xticks([])\n",
    "# plt.show()"
   ]
  },
  {
   "cell_type": "code",
   "execution_count": 76,
   "id": "fc6bcd26",
   "metadata": {},
   "outputs": [],
   "source": [
    "# c_new.c_domains.value_counts()"
   ]
  },
  {
   "cell_type": "markdown",
   "id": "15c8dba6",
   "metadata": {},
   "source": [
    "# Compare F and V"
   ]
  },
  {
   "cell_type": "code",
   "execution_count": 16,
   "id": "ecd66dda",
   "metadata": {},
   "outputs": [
    {
     "name": "stdout",
     "output_type": "stream",
     "text": [
      "(67853, 32)\n"
     ]
    }
   ],
   "source": [
    "cF = pd.read_csv('hmmsearch_results/c_dom_merged.csv')\n",
    "cA = pd.read_csv('hmmsearch_results/mulk_v_type_ck_dom_merged.csv')\n",
    "\n",
    "cF = cF.add_suffix('_F')\n",
    "cA = cA.add_suffix('_A')\n",
    "\n",
    "assert cF.fasta_id_F.nunique() == cF.shape[0]\n",
    "assert cA.fasta_id_A.nunique() == cA.shape[0]\n",
    "\n",
    "c = cF.merge(cA, left_on = 'fasta_id_F', right_on = 'fasta_id_A', how = 'outer')\n",
    "print(c.shape)\n",
    "\n",
    "c['genome'] = c.genome_F.combine_first(c.genome_A)\n",
    "c = c.merge(PATHES, left_on = 'genome', right_on = 'accession')\n",
    "\n",
    "c.bitscore_F = c.bitscore_F.fillna(0)\n",
    "c.bitscore_A = c.bitscore_A.fillna(0)"
   ]
  },
  {
   "cell_type": "code",
   "execution_count": 19,
   "id": "8fbcf170",
   "metadata": {},
   "outputs": [
    {
     "data": {
      "text/plain": [
       "(5943, 8028)"
      ]
     },
     "execution_count": 19,
     "metadata": {},
     "output_type": "execute_result"
    }
   ],
   "source": [
    "(cF.c_domains_F == 0).sum(), (cA.c_domains_A == 0).sum()"
   ]
  },
  {
   "cell_type": "code",
   "execution_count": 11,
   "id": "2248ca16",
   "metadata": {},
   "outputs": [
    {
     "data": {
      "text/plain": [
       "361"
      ]
     },
     "execution_count": 11,
     "metadata": {},
     "output_type": "execute_result"
    }
   ],
   "source": [
    "((c.c_domains_F == 0) &  (c.c_domains_A == 0)).sum()"
   ]
  },
  {
   "cell_type": "code",
   "execution_count": 12,
   "id": "9658aede",
   "metadata": {},
   "outputs": [
    {
     "name": "stdout",
     "output_type": "stream",
     "text": [
      "A > F  1710\n",
      "A = F 49186\n",
      "A < F  341\n"
     ]
    }
   ],
   "source": [
    "print('A > F ', (c.c_domains_A >  c.c_domains_F).sum())\n",
    "print('A = F' , (c.c_domains_A == c.c_domains_F).sum())\n",
    "print('A < F ', (c.c_domains_A <  c.c_domains_F).sum())"
   ]
  },
  {
   "cell_type": "code",
   "execution_count": null,
   "id": "1fb4483d",
   "metadata": {},
   "outputs": [],
   "source": []
  },
  {
   "cell_type": "code",
   "execution_count": 23,
   "id": "15ed339c",
   "metadata": {},
   "outputs": [
    {
     "data": {
      "text/plain": [
       "Text(0.5, 0, 'bitscore_F')"
      ]
     },
     "execution_count": 23,
     "metadata": {},
     "output_type": "execute_result"
    },
    {
     "data": {
      "image/png": "[encoded data removed]",
      "text/plain": [
       "<Figure size 600x400 with 1 Axes>"
      ]
     },
     "metadata": {},
     "output_type": "display_data"
    }
   ],
   "source": [
    "# args = {'s':1, 'c':  'bitscore_mean_F', 'cmap' : 'viridis', 'vmin':0, 'vmax':100, }\n",
    "c.plot.scatter('bitscore_F', 'bitscore_A', alpha = 0.1, s = 1)\n",
    "plt.vlines(40, 0, 100, color = 'red')\n",
    "plt.plot ([0, 100],[5, 105], color = 'green')\n",
    "plt.gca().set_xlabel('bitscore_F')"
   ]
  },
  {
   "cell_type": "code",
   "execution_count": 28,
   "id": "0985c37e",
   "metadata": {},
   "outputs": [],
   "source": [
    "F_ind = (c.bitscore_F >  (c.bitscore_A - 5)) & (c.bitscore_F > 10)\n",
    "c.at[F_ind, 'inf_type'] = 'F'\n",
    "\n",
    "A_ind = (c.bitscore_F <= (c.bitscore_A - 5)) &  (c.bitscore_A >10)\n",
    "c.at[A_ind, 'inf_type'] = 'A'"
   ]
  },
  {
   "cell_type": "code",
   "execution_count": 38,
   "id": "a5484434",
   "metadata": {},
   "outputs": [
    {
     "data": {
      "text/plain": [
       "F    43572\n",
       "A    10744\n",
       "Name: inf_type, dtype: int64"
      ]
     },
     "execution_count": 38,
     "metadata": {},
     "output_type": "execute_result"
    }
   ],
   "source": [
    "c.inf_type.value_counts()"
   ]
  },
  {
   "cell_type": "code",
   "execution_count": 39,
   "id": "a95d3f59",
   "metadata": {},
   "outputs": [
    {
     "data": {
      "text/plain": [
       "13537"
      ]
     },
     "execution_count": 39,
     "metadata": {},
     "output_type": "execute_result"
    }
   ],
   "source": [
    "c.inf_type.isna().sum()"
   ]
  },
  {
   "cell_type": "code",
   "execution_count": 30,
   "id": "804bba72",
   "metadata": {},
   "outputs": [],
   "source": [
    "# c.inf_type.isna().sum()"
   ]
  },
  {
   "cell_type": "code",
   "execution_count": 31,
   "id": "61ce5816",
   "metadata": {},
   "outputs": [
    {
     "data": {
      "text/plain": [
       "<matplotlib.collections.LineCollection at 0x7f7782117370>"
      ]
     },
     "execution_count": 31,
     "metadata": {},
     "output_type": "execute_result"
    },
    {
     "data": {
      "image/png": "[encoded data removed]",
      "text/plain": [
       "<Figure size 600x400 with 1 Axes>"
      ]
     },
     "metadata": {},
     "output_type": "display_data"
    }
   ],
   "source": [
    "df = c\n",
    "df.plot.scatter('bitscore_F', 'bitscore_A', \n",
    "                alpha = 1, \n",
    "                s = 1, \n",
    "                c = df.inf_type.map({'F': 'blue', 'A': 'red', np.nan:'black'}))\n",
    "plt.plot([5, 100],[10, 105], color = 'grey')\n",
    "plt.hlines(10, 0, 10, color = 'grey')\n",
    "plt.vlines(10, 0, 10, color = 'grey')"
   ]
  },
  {
   "cell_type": "code",
   "execution_count": 32,
   "id": "3c069bd3",
   "metadata": {},
   "outputs": [],
   "source": [
    "# research_df = df[(df.bitscore_A == 0) & (df.bitscore_F<50)]\n",
    "# # print(research_df.c_domains_F.value_counts())\n",
    "# write_records(research_df, \n",
    "#               fasta_id = 'fasta_id', \n",
    "#               path = 'path', \n",
    "#               filename = f'alignments/c_A0_0_50.fasta',\n",
    "#               description = 'description')"
   ]
  },
  {
   "cell_type": "code",
   "execution_count": 41,
   "id": "923ed0e8",
   "metadata": {},
   "outputs": [],
   "source": [
    "make_description(df, ['bitscore_F', 'kindom', 'species'], 'description')"
   ]
  },
  {
   "cell_type": "code",
   "execution_count": 45,
   "id": "a1de4e6f",
   "metadata": {},
   "outputs": [],
   "source": [
    "# pd.options.display.max_columns = 50\n",
    "# df.head()"
   ]
  },
  {
   "cell_type": "code",
   "execution_count": 44,
   "id": "c28d551e",
   "metadata": {},
   "outputs": [
    {
     "data": {
      "text/plain": [
       "1.0     43242\n",
       "2.0       126\n",
       "4.0       117\n",
       "3.0        62\n",
       "5.0        13\n",
       "6.0         8\n",
       "7.0         2\n",
       "8.0         1\n",
       "12.0        1\n",
       "Name: c_domains_F, dtype: int64"
      ]
     },
     "execution_count": 44,
     "metadata": {},
     "output_type": "execute_result"
    }
   ],
   "source": [
    "df[df.inf_type == 'F'].c_domains_F.value_counts()"
   ]
  },
  {
   "cell_type": "code",
   "execution_count": null,
   "id": "f3dce690",
   "metadata": {},
   "outputs": [],
   "source": []
  },
  {
   "cell_type": "code",
   "execution_count": 50,
   "id": "8832bf17",
   "metadata": {},
   "outputs": [],
   "source": [
    "# research_df = df[(df.inf_type == 'F' ) & (df.c_domains_F ==1)]\n",
    "# write_records(research_df, \n",
    "#               fasta_id = 'fasta_id_F', \n",
    "#               path = 'path', \n",
    "#               filename = f'alignments/cF_one.fasta',\n",
    "#               description = 'description')"
   ]
  },
  {
   "cell_type": "code",
   "execution_count": 48,
   "id": "4f16c131",
   "metadata": {},
   "outputs": [],
   "source": [
    "align_hmm('hmms/c.hmm', 'alignments/cF_one.fasta', 'alignments/cF_one.fasta_aln')"
   ]
  },
  {
   "cell_type": "code",
   "execution_count": 58,
   "id": "84f391fe",
   "metadata": {},
   "outputs": [],
   "source": [
    "research_df = df[(df.inf_type == 'F' ) & (df.c_domains_F ==1)]"
   ]
  },
  {
   "cell_type": "code",
   "execution_count": 5,
   "id": "db800266",
   "metadata": {},
   "outputs": [],
   "source": [
    "# research_df['prl'] = (research_df.end_F - research_df.start_F + 1) / 3"
   ]
  },
  {
   "cell_type": "code",
   "execution_count": 70,
   "id": "ce02ef89",
   "metadata": {},
   "outputs": [],
   "source": [
    "# research_df.prl.hist(bins = 50)\n",
    "# plt.yscale('log')"
   ]
  },
  {
   "cell_type": "code",
   "execution_count": 72,
   "id": "5a53c42e",
   "metadata": {},
   "outputs": [],
   "source": [
    "a = AlignIO.read( 'alignments/cF_one.fasta_aln', 'fasta')"
   ]
  },
  {
   "cell_type": "code",
   "execution_count": 78,
   "id": "30d43829",
   "metadata": {},
   "outputs": [],
   "source": [
    "for i in a:\n",
    "    if not i.id in research_df[research_df.prl > 500].fasta_id_F.to_list():"
   ]
  },
  {
   "cell_type": "code",
   "execution_count": 99,
   "id": "9f5dbc1f",
   "metadata": {},
   "outputs": [],
   "source": [
    "ok_list = research_df[research_df.prl < 500].fasta_id_F.to_list()\n",
    "x = [i for i in a if i.id in ok_list]"
   ]
  },
  {
   "cell_type": "code",
   "execution_count": 102,
   "id": "a5523f35",
   "metadata": {},
   "outputs": [],
   "source": [
    "from Bio.Align import MultipleSeqAlignment\n",
    "with  open('alignments/cF_one_short.fasta_aln', 'w') as file:\n",
    "    AlignIO.write(MultipleSeqAlignment(x), file, 'fasta')"
   ]
  },
  {
   "cell_type": "code",
   "execution_count": 104,
   "id": "68a93baf",
   "metadata": {},
   "outputs": [],
   "source": [
    "! trimal -noallgaps -in alignments/cF_one_short.fasta_aln -out alignments/cF_one_short.fasta_aln"
   ]
  },
  {
   "cell_type": "code",
   "execution_count": null,
   "id": "9a8173e8",
   "metadata": {},
   "outputs": [],
   "source": []
  },
  {
   "cell_type": "code",
   "execution_count": 106,
   "id": "b0829c02",
   "metadata": {},
   "outputs": [],
   "source": [
    "a = AlignIO.read( 'alignments/cF_one_short.fasta_aln', 'fasta')"
   ]
  },
  {
   "cell_type": "code",
   "execution_count": 111,
   "id": "d06585ab",
   "metadata": {},
   "outputs": [
    {
     "name": "stdout",
     "output_type": "stream",
     "text": [
      "\u001b[48;2;255;255;255mg\u001b[48;2;255;255;255mt\u001b[48;2;255;255;255ma\u001b[48;2;255;255;255ms\u001b[48;2;255;255;255mi\u001b[48;2;73;158;246mI\u001b[48;2;73;158;246mI\u001b[48;2;0;152;0mS\u001b[48;2;230;154;58mG\u001b[48;2;118;165;215mL\u001b[48;2;61;203;59mT\u001b[48;2;73;158;246mI\u001b[48;2;39;110;183mA\u001b[48;2;73;158;246mI\u001b[48;2;230;154;58mG\u001b[48;2;0;152;0mS\u001b[48;2;73;158;246mI\u001b[48;2;230;154;58mG\u001b[48;2;204;206;0mP\u001b[48;2;39;110;183mA\u001b[48;2;0;121;253mV\u001b[48;2;230;154;58mG\u001b[48;2;153;60;153mE\u001b[48;2;0;152;0mS\u001b[48;2;0;83;172mW\u001b[48;2;39;110;183mA\u001b[48;2;118;165;215mL\u001b[48;2;0;152;0mS\u001b[48;2;233;49;0mR\u001b[48;2;39;110;183mA\u001b[48;2;118;165;215mL\u001b[48;2;0;152;0mS\u001b[48;2;39;110;183mA\u001b[48;2;73;158;246mI\u001b[48;2;39;110;183mA\u001b[48;2;84;239;82mQ\u001b[48;2;84;239;82mQ\u001b[48;2;204;206;0mP\u001b[48;2;206;71;206mD\u001b[48;2;153;60;153mE\u001b[48;2;39;110;183mA\u001b[48;2;0;206;0mN\u001b[48;2;61;203;59mT\u001b[48;2;73;158;246mI\u001b[48;2;61;203;59mT\u001b[48;2;233;49;0mR\u001b[48;2;61;203;59mT\u001b[48;2;118;165;215mL\u001b[48;2;8;125;233mF\u001b[48;2;0;121;253mV\u001b[48;2;230;154;58mG\u001b[48;2;118;165;215mL\u001b[48;2;39;110;183mA\u001b[48;2;6;82;157mM\u001b[48;2;73;158;246mI\u001b[48;2;153;60;153mE\u001b[48;2;0;152;0mS\u001b[48;2;61;203;59mT\u001b[48;2;39;110;183mA"
     ]
    }
   ],
   "source": [
    "print_seq(a[0].seq[390:600].replace('-',''))"
   ]
  },
  {
   "cell_type": "code",
   "execution_count": 1,
   "id": "b5cfa82f",
   "metadata": {},
   "outputs": [],
   "source": [
    "# from collections import Counter\n",
    "# print(Counter(a[:, 511])) # R\n",
    "# print(Counter(a[:, 516])) # Q\n",
    "# print(Counter(a[:, 521])) # P"
   ]
  },
  {
   "cell_type": "code",
   "execution_count": 2,
   "id": "8e418203",
   "metadata": {},
   "outputs": [],
   "source": [
    "# print(Counter(a[:, 590])) # E/D"
   ]
  },
  {
   "cell_type": "code",
   "execution_count": 136,
   "id": "1c3cb7fe",
   "metadata": {},
   "outputs": [],
   "source": [
    "from tqdm import tqdm"
   ]
  },
  {
   "cell_type": "code",
   "execution_count": 152,
   "id": "4bef45be",
   "metadata": {},
   "outputs": [
    {
     "name": "stderr",
     "output_type": "stream",
     "text": [
      "100%|████████████████████████████████████████████████████████████████████████████████| 43162/43162 [00:00<00:00, 103084.69it/s]\n"
     ]
    }
   ],
   "source": [
    "features = []\n",
    "for i in tqdm(a):\n",
    "    features.append([\n",
    "        i.id,\n",
    "        i[590] in ['E', 'D'],\n",
    "        i[436] in ['Q', 'E'],\n",
    "        i[596] in ['S', 'T'],\n",
    "        i[598] in ['S', 'T'],\n",
    "        i[604] in ['Y'],\n",
    "        i[587],\n",
    "    ])"
   ]
  },
  {
   "cell_type": "code",
   "execution_count": 153,
   "id": "43f35fe1",
   "metadata": {},
   "outputs": [],
   "source": [
    "spec_data = pd.DataFrame(features, columns = ['fasta_id', 'cat', 'qe', 'st1', 'st2', 'y', '18'])"
   ]
  },
  {
   "cell_type": "code",
   "execution_count": 154,
   "id": "3aaa7563",
   "metadata": {},
   "outputs": [
    {
     "data": {
      "text/plain": [
       "42740"
      ]
     },
     "execution_count": 154,
     "metadata": {},
     "output_type": "execute_result"
    }
   ],
   "source": [
    "spec_data.cat.sum()"
   ]
  },
  {
   "cell_type": "code",
   "execution_count": 155,
   "id": "126e80ef",
   "metadata": {},
   "outputs": [
    {
     "data": {
      "text/plain": [
       "3279"
      ]
     },
     "execution_count": 155,
     "metadata": {},
     "output_type": "execute_result"
    }
   ],
   "source": [
    "spec_data[['cat', 'qe', 'st1', 'st2', 'y']].all(axis = 1).sum()"
   ]
  },
  {
   "cell_type": "code",
   "execution_count": 158,
   "id": "5e7dfdc2",
   "metadata": {},
   "outputs": [],
   "source": [
    "spec_data['sodium'] = spec_data[['cat', 'qe', 'st1', 'st2', 'y']].all(axis = 1)"
   ]
  },
  {
   "cell_type": "code",
   "execution_count": 161,
   "id": "f0455100",
   "metadata": {},
   "outputs": [],
   "source": [
    "spec_data['proton'] = spec_data.cat &~spec_data.sodium"
   ]
  },
  {
   "cell_type": "code",
   "execution_count": 4,
   "id": "c4c01309",
   "metadata": {},
   "outputs": [],
   "source": [
    "# spec_data[spec_data['sodium'] ]['18'].value_counts()"
   ]
  },
  {
   "cell_type": "code",
   "execution_count": 3,
   "id": "00a0526f",
   "metadata": {},
   "outputs": [],
   "source": [
    "# spec_data[spec_data['sodium']].fasta_id"
   ]
  },
  {
   "cell_type": "code",
   "execution_count": 3,
   "id": "a2c6e99e",
   "metadata": {},
   "outputs": [],
   "source": [
    "# spec_data.to_csv('specificity_data.csv')\n",
    "import pandas as pd\n",
    "spec_data = pd.read_csv('specificity_data.csv')"
   ]
  },
  {
   "cell_type": "code",
   "execution_count": 5,
   "id": "e33dcd6f",
   "metadata": {},
   "outputs": [
    {
     "data": {
      "text/plain": [
       "3279"
      ]
     },
     "execution_count": 5,
     "metadata": {},
     "output_type": "execute_result"
    }
   ],
   "source": [
    "spec_data.sodium.sum()"
   ]
  },
  {
   "cell_type": "code",
   "execution_count": 6,
   "id": "f29ee3ca",
   "metadata": {},
   "outputs": [
    {
     "data": {
      "text/plain": [
       "39461"
      ]
     },
     "execution_count": 6,
     "metadata": {},
     "output_type": "execute_result"
    }
   ],
   "source": [
    "spec_data.proton.sum()"
   ]
  },
  {
   "cell_type": "code",
   "execution_count": null,
   "id": "241870ac",
   "metadata": {},
   "outputs": [],
   "source": []
  },
  {
   "cell_type": "markdown",
   "id": "8c8451cf",
   "metadata": {},
   "source": [
    "## Use enzymes data\n"
   ]
  },
  {
   "cell_type": "code",
   "execution_count": 167,
   "id": "58e08381",
   "metadata": {},
   "outputs": [
    {
     "name": "stderr",
     "output_type": "stream",
     "text": [
      "/home/pc208/bioinformatic_soft/yes/envs/zlitvinanna/lib/python3.9/site-packages/IPython/core/interactiveshell.py:3169: DtypeWarning: Columns (21) have mixed types.Specify dtype option on import or set low_memory=False.\n",
      "  has_raised = await self.run_ast_nodes(code_ast.body, cell_name,\n"
     ]
    },
    {
     "data": {
      "text/plain": [
       "44832"
      ]
     },
     "execution_count": 167,
     "metadata": {},
     "output_type": "execute_result"
    }
   ],
   "source": [
    "final = pd.read_csv('genomes_info_F_enz_v1.csv')\n",
    "final.enz.nunique()"
   ]
  },
  {
   "cell_type": "code",
   "execution_count": 526,
   "id": "05a990f4",
   "metadata": {},
   "outputs": [],
   "source": [
    "# final = final[final.enz.notna()]\n",
    "# for i, (n, df) in tqdm(enumerate(final.groupby('enz'))):\n",
    "#     final.at[df.index, 'enz2'] = i\n",
    "# final['prl'] = (final.end - final.start + 1) / 3\n",
    "final_c = final[final.subunit == 'c'].copy()"
   ]
  },
  {
   "cell_type": "code",
   "execution_count": 516,
   "id": "78b7cd41",
   "metadata": {},
   "outputs": [],
   "source": [
    "cols = [ 'ID', 'partial',  'bitscore', \n",
    "        'subunit', 'N', 'bitscore_mean', 'c_domains',\n",
    "         'opt', 'enzt', 'step', 'enz2', \n",
    "    'prl','start', 'end', 'strand',\n",
    " 'genome', 'fasta_id', 'operons','evalue','logevalue',]"
   ]
  },
  {
   "cell_type": "code",
   "execution_count": 515,
   "id": "fe3e76d3",
   "metadata": {},
   "outputs": [],
   "source": [
    "# from matplotlib_venn import venn2, venn2_unweighted\n",
    "# venn2_unweighted([set(final_c.fasta_id), set(c[c.c_domains_F == 1].fasta_id_F)], \n",
    "#      set_labels = ['final c', 'c_domains_F == 1'])"
   ]
  },
  {
   "cell_type": "code",
   "execution_count": null,
   "id": "73811602",
   "metadata": {},
   "outputs": [],
   "source": []
  },
  {
   "cell_type": "code",
   "execution_count": 529,
   "id": "b77cec99",
   "metadata": {},
   "outputs": [],
   "source": [
    "# final_c.drop(['c_domains'], inplace = True, axis = 1)\n",
    "final_c = final_c.merge(c_whole[['fasta_id', 'c_domains']])"
   ]
  },
  {
   "cell_type": "code",
   "execution_count": null,
   "id": "038beb11",
   "metadata": {},
   "outputs": [],
   "source": []
  },
  {
   "cell_type": "code",
   "execution_count": 223,
   "id": "8cb73793",
   "metadata": {},
   "outputs": [],
   "source": [
    "pd.options.display.max_colwidth = 50\n",
    "pd.options.display.max_columns = 50"
   ]
  },
  {
   "cell_type": "code",
   "execution_count": 534,
   "id": "c6efdfa4",
   "metadata": {},
   "outputs": [],
   "source": [
    "# final_c[final_c.c_domains >4] # выглядит окей\n",
    "# final_c[final_c.c_domains == 4][cols] # выглядит окей\n",
    "# final_c[final_c.c_domains == 3][cols] # выглядит окей"
   ]
  },
  {
   "cell_type": "code",
   "execution_count": 541,
   "id": "885d0b40",
   "metadata": {},
   "outputs": [
    {
     "data": {
      "text/plain": [
       "1.0    2752\n",
       "Name: c_domains, dtype: int64"
      ]
     },
     "execution_count": 541,
     "metadata": {},
     "output_type": "execute_result"
    }
   ],
   "source": [
    "final_c[final_c['enzt'] == 'N'].c_domains.value_counts()"
   ]
  },
  {
   "cell_type": "code",
   "execution_count": 544,
   "id": "0214ded2",
   "metadata": {},
   "outputs": [
    {
     "data": {
      "text/html": [
       "<div>\n",
       "<style scoped>\n",
       "    .dataframe tbody tr th:only-of-type {\n",
       "        vertical-align: middle;\n",
       "    }\n",
       "\n",
       "    .dataframe tbody tr th {\n",
       "        vertical-align: top;\n",
       "    }\n",
       "\n",
       "    .dataframe thead th {\n",
       "        text-align: right;\n",
       "    }\n",
       "</style>\n",
       "<table border=\"1\" class=\"dataframe\">\n",
       "  <thead>\n",
       "    <tr style=\"text-align: right;\">\n",
       "      <th></th>\n",
       "      <th>ID</th>\n",
       "      <th>partial</th>\n",
       "      <th>bitscore</th>\n",
       "      <th>subunit</th>\n",
       "      <th>N</th>\n",
       "      <th>bitscore_mean</th>\n",
       "      <th>c_domains</th>\n",
       "      <th>opt</th>\n",
       "      <th>enzt</th>\n",
       "      <th>step</th>\n",
       "      <th>enz2</th>\n",
       "      <th>prl</th>\n",
       "      <th>start</th>\n",
       "      <th>end</th>\n",
       "      <th>strand</th>\n",
       "      <th>genome</th>\n",
       "      <th>fasta_id</th>\n",
       "      <th>operons</th>\n",
       "      <th>evalue</th>\n",
       "      <th>logevalue</th>\n",
       "    </tr>\n",
       "  </thead>\n",
       "  <tbody>\n",
       "    <tr>\n",
       "      <th>2220</th>\n",
       "      <td>38_10</td>\n",
       "      <td>0</td>\n",
       "      <td>67.7</td>\n",
       "      <td>c</td>\n",
       "      <td>10</td>\n",
       "      <td>59.362500</td>\n",
       "      <td>8.0</td>\n",
       "      <td>acDbA</td>\n",
       "      <td>acDbA_GBE</td>\n",
       "      <td>inf_whole</td>\n",
       "      <td>24164.0</td>\n",
       "      <td>614.0</td>\n",
       "      <td>6892</td>\n",
       "      <td>8733</td>\n",
       "      <td>1</td>\n",
       "      <td>GB_GCA_902772755.1</td>\n",
       "      <td>CACYCD010000038.1_10</td>\n",
       "      <td>CACYCD010000038.1+0</td>\n",
       "      <td>NaN</td>\n",
       "      <td>NaN</td>\n",
       "    </tr>\n",
       "    <tr>\n",
       "      <th>5205</th>\n",
       "      <td>66_12</td>\n",
       "      <td>0</td>\n",
       "      <td>59.1</td>\n",
       "      <td>c</td>\n",
       "      <td>12</td>\n",
       "      <td>49.660000</td>\n",
       "      <td>5.0</td>\n",
       "      <td>single_operon</td>\n",
       "      <td>single_operon</td>\n",
       "      <td>single_operon</td>\n",
       "      <td>20817.0</td>\n",
       "      <td>436.0</td>\n",
       "      <td>13299</td>\n",
       "      <td>14606</td>\n",
       "      <td>1</td>\n",
       "      <td>GB_GCA_002315335.1</td>\n",
       "      <td>DCGW01000054.1_12</td>\n",
       "      <td>DCGW01000054.1+0</td>\n",
       "      <td>NaN</td>\n",
       "      <td>NaN</td>\n",
       "    </tr>\n",
       "    <tr>\n",
       "      <th>5229</th>\n",
       "      <td>38_13</td>\n",
       "      <td>0</td>\n",
       "      <td>55.1</td>\n",
       "      <td>c</td>\n",
       "      <td>13</td>\n",
       "      <td>47.120000</td>\n",
       "      <td>5.0</td>\n",
       "      <td>single_operon</td>\n",
       "      <td>single_operon</td>\n",
       "      <td>single_operon</td>\n",
       "      <td>16135.0</td>\n",
       "      <td>437.0</td>\n",
       "      <td>13477</td>\n",
       "      <td>14787</td>\n",
       "      <td>-1</td>\n",
       "      <td>GB_GCA_002315385.1</td>\n",
       "      <td>DCHZ01000004.1_13</td>\n",
       "      <td>DCHZ01000004.1-0</td>\n",
       "      <td>NaN</td>\n",
       "      <td>NaN</td>\n",
       "    </tr>\n",
       "    <tr>\n",
       "      <th>7525</th>\n",
       "      <td>56_9</td>\n",
       "      <td>0</td>\n",
       "      <td>61.9</td>\n",
       "      <td>c</td>\n",
       "      <td>9</td>\n",
       "      <td>52.716667</td>\n",
       "      <td>6.0</td>\n",
       "      <td>single_operon</td>\n",
       "      <td>single_operon</td>\n",
       "      <td>single_operon</td>\n",
       "      <td>25699.0</td>\n",
       "      <td>488.0</td>\n",
       "      <td>6951</td>\n",
       "      <td>8414</td>\n",
       "      <td>-1</td>\n",
       "      <td>GB_GCA_011372875.1</td>\n",
       "      <td>DSAD01000283.1_9</td>\n",
       "      <td>DSAD01000283.1-0</td>\n",
       "      <td>NaN</td>\n",
       "      <td>NaN</td>\n",
       "    </tr>\n",
       "    <tr>\n",
       "      <th>7538</th>\n",
       "      <td>38_12</td>\n",
       "      <td>0</td>\n",
       "      <td>70.5</td>\n",
       "      <td>c</td>\n",
       "      <td>12</td>\n",
       "      <td>54.466667</td>\n",
       "      <td>6.0</td>\n",
       "      <td>single_operon</td>\n",
       "      <td>single_operon</td>\n",
       "      <td>single_operon</td>\n",
       "      <td>27308.0</td>\n",
       "      <td>484.0</td>\n",
       "      <td>10782</td>\n",
       "      <td>12233</td>\n",
       "      <td>-1</td>\n",
       "      <td>GB_GCA_011046135.1</td>\n",
       "      <td>DSBG01000145.1_12</td>\n",
       "      <td>DSBG01000145.1-0</td>\n",
       "      <td>NaN</td>\n",
       "      <td>NaN</td>\n",
       "    </tr>\n",
       "    <tr>\n",
       "      <th>9903</th>\n",
       "      <td>20_3</td>\n",
       "      <td>0</td>\n",
       "      <td>62.8</td>\n",
       "      <td>c</td>\n",
       "      <td>3</td>\n",
       "      <td>55.483333</td>\n",
       "      <td>6.0</td>\n",
       "      <td>acb</td>\n",
       "      <td>_acb_AG_BE</td>\n",
       "      <td>inf_partial</td>\n",
       "      <td>23265.0</td>\n",
       "      <td>451.0</td>\n",
       "      <td>1072</td>\n",
       "      <td>2424</td>\n",
       "      <td>1</td>\n",
       "      <td>GB_GCA_013368515.1</td>\n",
       "      <td>JABWCI010000017.1_3</td>\n",
       "      <td>JABWCI010000017.1+0</td>\n",
       "      <td>NaN</td>\n",
       "      <td>NaN</td>\n",
       "    </tr>\n",
       "    <tr>\n",
       "      <th>11910</th>\n",
       "      <td>1_42</td>\n",
       "      <td>0</td>\n",
       "      <td>57.2</td>\n",
       "      <td>c</td>\n",
       "      <td>42</td>\n",
       "      <td>41.157143</td>\n",
       "      <td>7.0</td>\n",
       "      <td>cab</td>\n",
       "      <td>_cab_AG_BE</td>\n",
       "      <td>inf_partial</td>\n",
       "      <td>24937.0</td>\n",
       "      <td>525.0</td>\n",
       "      <td>41492</td>\n",
       "      <td>43066</td>\n",
       "      <td>-1</td>\n",
       "      <td>GB_GCA_003260325.1</td>\n",
       "      <td>MOLU01000001.1_42</td>\n",
       "      <td>MOLU01000001.1-2.0</td>\n",
       "      <td>NaN</td>\n",
       "      <td>NaN</td>\n",
       "    </tr>\n",
       "    <tr>\n",
       "      <th>17722</th>\n",
       "      <td>1_602</td>\n",
       "      <td>0</td>\n",
       "      <td>58.8</td>\n",
       "      <td>c</td>\n",
       "      <td>602</td>\n",
       "      <td>42.342857</td>\n",
       "      <td>7.0</td>\n",
       "      <td>cab</td>\n",
       "      <td>_b_cab_AG_BE</td>\n",
       "      <td>inf_partial</td>\n",
       "      <td>18160.0</td>\n",
       "      <td>522.0</td>\n",
       "      <td>628085</td>\n",
       "      <td>629650</td>\n",
       "      <td>-1</td>\n",
       "      <td>RS_GCF_002761215.1</td>\n",
       "      <td>NZ_CP017714.1_602</td>\n",
       "      <td>NZ_CP017714.1-2.0</td>\n",
       "      <td>NaN</td>\n",
       "      <td>NaN</td>\n",
       "    </tr>\n",
       "    <tr>\n",
       "      <th>18991</th>\n",
       "      <td>1_102</td>\n",
       "      <td>0</td>\n",
       "      <td>72.2</td>\n",
       "      <td>c</td>\n",
       "      <td>102</td>\n",
       "      <td>68.000000</td>\n",
       "      <td>5.0</td>\n",
       "      <td>single_operon</td>\n",
       "      <td>single_operon</td>\n",
       "      <td>single_operon</td>\n",
       "      <td>18683.0</td>\n",
       "      <td>388.0</td>\n",
       "      <td>102749</td>\n",
       "      <td>103912</td>\n",
       "      <td>-1</td>\n",
       "      <td>RS_GCF_005601135.1</td>\n",
       "      <td>NZ_CP039381.1_102</td>\n",
       "      <td>NZ_CP039381.1-0.0</td>\n",
       "      <td>NaN</td>\n",
       "      <td>NaN</td>\n",
       "    </tr>\n",
       "    <tr>\n",
       "      <th>35429</th>\n",
       "      <td>9_10</td>\n",
       "      <td>0</td>\n",
       "      <td>70.6</td>\n",
       "      <td>c</td>\n",
       "      <td>10</td>\n",
       "      <td>55.158333</td>\n",
       "      <td>12.0</td>\n",
       "      <td>acb</td>\n",
       "      <td>_acb_AG_BE</td>\n",
       "      <td>inf_partial</td>\n",
       "      <td>31961.0</td>\n",
       "      <td>897.0</td>\n",
       "      <td>7379</td>\n",
       "      <td>10069</td>\n",
       "      <td>1</td>\n",
       "      <td>GB_GCA_002749055.1</td>\n",
       "      <td>PDTW01000008.1_10</td>\n",
       "      <td>PDTW01000008.1+0</td>\n",
       "      <td>NaN</td>\n",
       "      <td>NaN</td>\n",
       "    </tr>\n",
       "    <tr>\n",
       "      <th>37705</th>\n",
       "      <td>77_11</td>\n",
       "      <td>0</td>\n",
       "      <td>63.4</td>\n",
       "      <td>c</td>\n",
       "      <td>11</td>\n",
       "      <td>59.360000</td>\n",
       "      <td>5.0</td>\n",
       "      <td>accbb</td>\n",
       "      <td>accbb_bbDAGBE</td>\n",
       "      <td>inf_whole</td>\n",
       "      <td>32476.0</td>\n",
       "      <td>406.0</td>\n",
       "      <td>7442</td>\n",
       "      <td>8659</td>\n",
       "      <td>1</td>\n",
       "      <td>GB_GCA_003597945.1</td>\n",
       "      <td>QZJS01000068.1_11</td>\n",
       "      <td>QZJS01000068.1+0</td>\n",
       "      <td>NaN</td>\n",
       "      <td>NaN</td>\n",
       "    </tr>\n",
       "  </tbody>\n",
       "</table>\n",
       "</div>"
      ],
      "text/plain": [
       "          ID  partial  bitscore subunit    N  bitscore_mean  c_domains  \\\n",
       "2220   38_10        0      67.7       c   10      59.362500        8.0   \n",
       "5205   66_12        0      59.1       c   12      49.660000        5.0   \n",
       "5229   38_13        0      55.1       c   13      47.120000        5.0   \n",
       "7525    56_9        0      61.9       c    9      52.716667        6.0   \n",
       "7538   38_12        0      70.5       c   12      54.466667        6.0   \n",
       "9903    20_3        0      62.8       c    3      55.483333        6.0   \n",
       "11910   1_42        0      57.2       c   42      41.157143        7.0   \n",
       "17722  1_602        0      58.8       c  602      42.342857        7.0   \n",
       "18991  1_102        0      72.2       c  102      68.000000        5.0   \n",
       "35429   9_10        0      70.6       c   10      55.158333       12.0   \n",
       "37705  77_11        0      63.4       c   11      59.360000        5.0   \n",
       "\n",
       "                 opt           enzt           step     enz2    prl   start  \\\n",
       "2220           acDbA      acDbA_GBE      inf_whole  24164.0  614.0    6892   \n",
       "5205   single_operon  single_operon  single_operon  20817.0  436.0   13299   \n",
       "5229   single_operon  single_operon  single_operon  16135.0  437.0   13477   \n",
       "7525   single_operon  single_operon  single_operon  25699.0  488.0    6951   \n",
       "7538   single_operon  single_operon  single_operon  27308.0  484.0   10782   \n",
       "9903             acb     _acb_AG_BE    inf_partial  23265.0  451.0    1072   \n",
       "11910            cab     _cab_AG_BE    inf_partial  24937.0  525.0   41492   \n",
       "17722            cab   _b_cab_AG_BE    inf_partial  18160.0  522.0  628085   \n",
       "18991  single_operon  single_operon  single_operon  18683.0  388.0  102749   \n",
       "35429            acb     _acb_AG_BE    inf_partial  31961.0  897.0    7379   \n",
       "37705          accbb  accbb_bbDAGBE      inf_whole  32476.0  406.0    7442   \n",
       "\n",
       "          end  strand              genome              fasta_id  \\\n",
       "2220     8733       1  GB_GCA_902772755.1  CACYCD010000038.1_10   \n",
       "5205    14606       1  GB_GCA_002315335.1     DCGW01000054.1_12   \n",
       "5229    14787      -1  GB_GCA_002315385.1     DCHZ01000004.1_13   \n",
       "7525     8414      -1  GB_GCA_011372875.1      DSAD01000283.1_9   \n",
       "7538    12233      -1  GB_GCA_011046135.1     DSBG01000145.1_12   \n",
       "9903     2424       1  GB_GCA_013368515.1   JABWCI010000017.1_3   \n",
       "11910   43066      -1  GB_GCA_003260325.1     MOLU01000001.1_42   \n",
       "17722  629650      -1  RS_GCF_002761215.1     NZ_CP017714.1_602   \n",
       "18991  103912      -1  RS_GCF_005601135.1     NZ_CP039381.1_102   \n",
       "35429   10069       1  GB_GCA_002749055.1     PDTW01000008.1_10   \n",
       "37705    8659       1  GB_GCA_003597945.1     QZJS01000068.1_11   \n",
       "\n",
       "                   operons  evalue  logevalue  \n",
       "2220   CACYCD010000038.1+0     NaN        NaN  \n",
       "5205      DCGW01000054.1+0     NaN        NaN  \n",
       "5229      DCHZ01000004.1-0     NaN        NaN  \n",
       "7525      DSAD01000283.1-0     NaN        NaN  \n",
       "7538      DSBG01000145.1-0     NaN        NaN  \n",
       "9903   JABWCI010000017.1+0     NaN        NaN  \n",
       "11910   MOLU01000001.1-2.0     NaN        NaN  \n",
       "17722    NZ_CP017714.1-2.0     NaN        NaN  \n",
       "18991    NZ_CP039381.1-0.0     NaN        NaN  \n",
       "35429     PDTW01000008.1+0     NaN        NaN  \n",
       "37705     QZJS01000068.1+0     NaN        NaN  "
      ]
     },
     "execution_count": 544,
     "metadata": {},
     "output_type": "execute_result"
    }
   ],
   "source": [
    "final_c[final_c.c_domains>=5][cols]"
   ]
  },
  {
   "cell_type": "code",
   "execution_count": null,
   "id": "c81dcbf1",
   "metadata": {},
   "outputs": [],
   "source": []
  },
  {
   "cell_type": "markdown",
   "id": "c9e46a14",
   "metadata": {},
   "source": [
    "# Read data"
   ]
  },
  {
   "cell_type": "code",
   "execution_count": 75,
   "id": "bd2239dd",
   "metadata": {},
   "outputs": [
    {
     "name": "stdout",
     "output_type": "stream",
     "text": [
      "(58963, 16)\n"
     ]
    },
    {
     "data": {
      "text/html": [
       "<div>\n",
       "<style scoped>\n",
       "    .dataframe tbody tr th:only-of-type {\n",
       "        vertical-align: middle;\n",
       "    }\n",
       "\n",
       "    .dataframe tbody tr th {\n",
       "        vertical-align: top;\n",
       "    }\n",
       "\n",
       "    .dataframe thead th {\n",
       "        text-align: right;\n",
       "    }\n",
       "</style>\n",
       "<table border=\"1\" class=\"dataframe\">\n",
       "  <thead>\n",
       "    <tr style=\"text-align: right;\">\n",
       "      <th></th>\n",
       "      <th>genome</th>\n",
       "      <th>fasta_id</th>\n",
       "      <th>ID</th>\n",
       "      <th>start</th>\n",
       "      <th>end</th>\n",
       "      <th>strand</th>\n",
       "      <th>partial</th>\n",
       "      <th>start_type</th>\n",
       "      <th>rbs_motif</th>\n",
       "      <th>rbs_spacer</th>\n",
       "      <th>gc_cont</th>\n",
       "      <th>c_domains_old</th>\n",
       "      <th>intersection</th>\n",
       "      <th>bitscore</th>\n",
       "      <th>bitscore_mean</th>\n",
       "      <th>c_domains</th>\n",
       "    </tr>\n",
       "  </thead>\n",
       "  <tbody>\n",
       "    <tr>\n",
       "      <th>0</th>\n",
       "      <td>GB_GCA_000007325.1</td>\n",
       "      <td>AE009951.2_226</td>\n",
       "      <td>1_226</td>\n",
       "      <td>238008</td>\n",
       "      <td>238490</td>\n",
       "      <td>-1</td>\n",
       "      <td>0</td>\n",
       "      <td>ATG</td>\n",
       "      <td>GGA/GAG/AGG</td>\n",
       "      <td>5-10bp</td>\n",
       "      <td>0.342</td>\n",
       "      <td>2.0</td>\n",
       "      <td>0.0</td>\n",
       "      <td>10.9</td>\n",
       "      <td>8.6</td>\n",
       "      <td>2.0</td>\n",
       "    </tr>\n",
       "  </tbody>\n",
       "</table>\n",
       "</div>"
      ],
      "text/plain": [
       "               genome        fasta_id     ID   start     end  strand  partial  \\\n",
       "0  GB_GCA_000007325.1  AE009951.2_226  1_226  238008  238490      -1        0   \n",
       "\n",
       "  start_type    rbs_motif rbs_spacer  gc_cont  c_domains_old  intersection  \\\n",
       "0        ATG  GGA/GAG/AGG     5-10bp    0.342            2.0           0.0   \n",
       "\n",
       "   bitscore  bitscore_mean  c_domains  \n",
       "0      10.9            8.6        2.0  "
      ]
     },
     "execution_count": 75,
     "metadata": {},
     "output_type": "execute_result"
    }
   ],
   "source": [
    "df = pd.read_csv('hmmsearch_results/c_dom_merged.csv') \n",
    "print(df.shape)\n",
    "df.head(1)"
   ]
  },
  {
   "cell_type": "code",
   "execution_count": 7,
   "id": "0cde6a94",
   "metadata": {},
   "outputs": [],
   "source": [
    "# df.bitscore.hist(bins = 100)"
   ]
  },
  {
   "cell_type": "code",
   "execution_count": 77,
   "id": "c8cbd91e",
   "metadata": {},
   "outputs": [
    {
     "name": "stdout",
     "output_type": "stream",
     "text": [
      "(58963, 21)\n"
     ]
    },
    {
     "data": {
      "text/html": [
       "<div>\n",
       "<style scoped>\n",
       "    .dataframe tbody tr th:only-of-type {\n",
       "        vertical-align: middle;\n",
       "    }\n",
       "\n",
       "    .dataframe tbody tr th {\n",
       "        vertical-align: top;\n",
       "    }\n",
       "\n",
       "    .dataframe thead th {\n",
       "        text-align: right;\n",
       "    }\n",
       "</style>\n",
       "<table border=\"1\" class=\"dataframe\">\n",
       "  <thead>\n",
       "    <tr style=\"text-align: right;\">\n",
       "      <th></th>\n",
       "      <th>genome</th>\n",
       "      <th>fasta_id</th>\n",
       "      <th>ID</th>\n",
       "      <th>start</th>\n",
       "      <th>end</th>\n",
       "      <th>strand</th>\n",
       "      <th>partial</th>\n",
       "      <th>start_type</th>\n",
       "      <th>rbs_motif</th>\n",
       "      <th>rbs_spacer</th>\n",
       "      <th>...</th>\n",
       "      <th>c_domains_old</th>\n",
       "      <th>intersection</th>\n",
       "      <th>bitscore</th>\n",
       "      <th>bitscore_mean</th>\n",
       "      <th>c_domains</th>\n",
       "      <th>path</th>\n",
       "      <th>accession</th>\n",
       "      <th>assembly</th>\n",
       "      <th>kindom</th>\n",
       "      <th>species</th>\n",
       "    </tr>\n",
       "  </thead>\n",
       "  <tbody>\n",
       "    <tr>\n",
       "      <th>0</th>\n",
       "      <td>GB_GCA_000007325.1</td>\n",
       "      <td>AE009951.2_226</td>\n",
       "      <td>1_226</td>\n",
       "      <td>238008</td>\n",
       "      <td>238490</td>\n",
       "      <td>-1</td>\n",
       "      <td>0</td>\n",
       "      <td>ATG</td>\n",
       "      <td>GGA/GAG/AGG</td>\n",
       "      <td>5-10bp</td>\n",
       "      <td>...</td>\n",
       "      <td>2.0</td>\n",
       "      <td>0.0</td>\n",
       "      <td>10.9</td>\n",
       "      <td>8.6</td>\n",
       "      <td>2.0</td>\n",
       "      <td>/media/pc208/es/litvinanna/gtdb-202/genomic_files_reps/protein_faa_reps/bacteria/GB_GCA_000007325.1_protein.faa</td>\n",
       "      <td>GB_GCA_000007325.1</td>\n",
       "      <td>GCA_000007325.1</td>\n",
       "      <td>bacteria</td>\n",
       "      <td>Fusobacterium nucleatum</td>\n",
       "    </tr>\n",
       "  </tbody>\n",
       "</table>\n",
       "<p>1 rows × 21 columns</p>\n",
       "</div>"
      ],
      "text/plain": [
       "               genome        fasta_id     ID   start     end  strand  partial  \\\n",
       "0  GB_GCA_000007325.1  AE009951.2_226  1_226  238008  238490      -1        0   \n",
       "\n",
       "  start_type    rbs_motif rbs_spacer  ...  c_domains_old  intersection  \\\n",
       "0        ATG  GGA/GAG/AGG     5-10bp  ...            2.0           0.0   \n",
       "\n",
       "   bitscore  bitscore_mean  c_domains  \\\n",
       "0      10.9            8.6        2.0   \n",
       "\n",
       "                                                                                                              path  \\\n",
       "0  /media/pc208/es/litvinanna/gtdb-202/genomic_files_reps/protein_faa_reps/bacteria/GB_GCA_000007325.1_protein.faa   \n",
       "\n",
       "            accession         assembly    kindom                  species  \n",
       "0  GB_GCA_000007325.1  GCA_000007325.1  bacteria  Fusobacterium nucleatum  \n",
       "\n",
       "[1 rows x 21 columns]"
      ]
     },
     "execution_count": 77,
     "metadata": {},
     "output_type": "execute_result"
    }
   ],
   "source": [
    "df = df.merge(PATHES, left_on = 'genome', right_on = 'accession')\n",
    "print(df.shape)\n",
    "df.head(1)"
   ]
  },
  {
   "cell_type": "code",
   "execution_count": 78,
   "id": "9a4e398f",
   "metadata": {},
   "outputs": [],
   "source": [
    "make_description(df, ['bitscore', 'c_domains', 'kindom', 'species'], 'description')"
   ]
  },
  {
   "cell_type": "code",
   "execution_count": 79,
   "id": "3fca3a4e",
   "metadata": {},
   "outputs": [
    {
     "data": {
      "text/plain": [
       "0.0      5943\n",
       "1.0     49301\n",
       "2.0      3439\n",
       "3.0        99\n",
       "4.0       125\n",
       "5.0        17\n",
       "6.0        28\n",
       "7.0         2\n",
       "8.0         1\n",
       "9.0         1\n",
       "11.0        2\n",
       "12.0        4\n",
       "13.0        1\n",
       "Name: c_domains, dtype: int64"
      ]
     },
     "execution_count": 79,
     "metadata": {},
     "output_type": "execute_result"
    }
   ],
   "source": [
    "df.c_domains.value_counts().sort_index()"
   ]
  },
  {
   "cell_type": "code",
   "execution_count": 80,
   "id": "bbc5efe4",
   "metadata": {},
   "outputs": [
    {
     "name": "stderr",
     "output_type": "stream",
     "text": [
      "100%|███████████████████████████████████████████████████████████████| 98/98 [00:02<00:00, 34.35it/s]\n",
      "100%|█████████████████████████████████████████████████████████████| 124/124 [00:04<00:00, 28.04it/s]\n"
     ]
    }
   ],
   "source": [
    "for n in [3, 4]:\n",
    "    write_records(df[df.c_domains == n], \n",
    "                  fasta_id = 'fasta_id', \n",
    "                  path = 'path', \n",
    "                  filename = f'alignments/c_sh{n}.fasta',\n",
    "                  description = 'description')"
   ]
  },
  {
   "cell_type": "code",
   "execution_count": null,
   "id": "12952bb4",
   "metadata": {},
   "outputs": [],
   "source": []
  },
  {
   "cell_type": "code",
   "execution_count": 71,
   "id": "011aaf7f",
   "metadata": {},
   "outputs": [],
   "source": [
    "# write_records(df[df.bitscore > 40], \n",
    "#               fasta_id = 'fasta_id', \n",
    "#               path = 'path', \n",
    "#               filename = 'alignments/c_40_max.fasta',\n",
    "#               description = 'description')"
   ]
  },
  {
   "cell_type": "code",
   "execution_count": 72,
   "id": "9d540e15",
   "metadata": {},
   "outputs": [],
   "source": [
    "# write_records(df[df.bitscore <= 40], \n",
    "#               fasta_id = 'fasta_id', \n",
    "#               path = 'path', \n",
    "#               filename = 'alignments/c_min_40.fasta',\n",
    "#               description = 'description')"
   ]
  },
  {
   "cell_type": "raw",
   "id": "5cb539ad",
   "metadata": {},
   "source": [
    "'utf-8' codec can't decode byte 0xe7 in position 4871: invalid continuation byte\n",
    "/media/pc208/es/litvinanna/gtdb-202/genomic_files_reps/protein_faa_reps/bacteria/RS_GCF_004136015.1_protein.faa"
   ]
  },
  {
   "cell_type": "code",
   "execution_count": 20,
   "id": "b0c7ea0f",
   "metadata": {},
   "outputs": [],
   "source": [
    "align_hmm('hmms/c.hmm', 'alignments/c_40_max.fasta', 'alignments/c_40_max.fasta_aln')"
   ]
  },
  {
   "cell_type": "code",
   "execution_count": 21,
   "id": "49e637ee",
   "metadata": {},
   "outputs": [],
   "source": [
    "align_hmm('hmms/c.hmm', 'alignments/c_min_40.fasta', 'alignments/c_min_40.fasta_aln')"
   ]
  },
  {
   "cell_type": "code",
   "execution_count": 22,
   "id": "21b3cb5b",
   "metadata": {},
   "outputs": [],
   "source": [
    "sort_alignment('alignments/c_40_max.fasta_aln', 1)"
   ]
  },
  {
   "cell_type": "code",
   "execution_count": 23,
   "id": "b4282b0f",
   "metadata": {},
   "outputs": [],
   "source": [
    "sort_alignment('alignments/c_min_40.fasta_aln', 1)"
   ]
  },
  {
   "cell_type": "code",
   "execution_count": 73,
   "id": "c8d317c4",
   "metadata": {},
   "outputs": [],
   "source": [
    "# df.c_domains.value_counts()"
   ]
  },
  {
   "cell_type": "code",
   "execution_count": null,
   "id": "50cb2879",
   "metadata": {},
   "outputs": [],
   "source": []
  },
  {
   "cell_type": "code",
   "execution_count": null,
   "id": "6e39686f",
   "metadata": {},
   "outputs": [],
   "source": []
  }
 ],
 "metadata": {
  "kernelspec": {
   "display_name": "Python 3 (ipykernel)",
   "language": "python",
   "name": "python3"
  },
  "language_info": {
   "codemirror_mode": {
    "name": "ipython",
    "version": 3
   },
   "file_extension": ".py",
   "mimetype": "text/x-python",
   "name": "python",
   "nbconvert_exporter": "python",
   "pygments_lexer": "ipython3",
   "version": "3.9.5"
  }
 },
 "nbformat": 4,
 "nbformat_minor": 5
}
