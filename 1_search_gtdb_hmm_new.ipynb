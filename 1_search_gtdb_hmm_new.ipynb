{
 "cells": [
  {
   "cell_type": "code",
   "execution_count": 37,
   "id": "d44ed10b",
   "metadata": {},
   "outputs": [],
   "source": [
    "from Bio.SearchIO import HmmerIO\n",
    "from Bio import AlignIO, SeqIO\n",
    "import re \n",
    "\n",
    "import pandas as pd\n",
    "import subprocess\n",
    "\n",
    "from glob import glob\n",
    "import os\n",
    "\n",
    "from tqdm.notebook import tqdm\n",
    "\n",
    "import pandas as pd\n",
    "from addict import Dict\n",
    "from hmm_search_funcs_for_atpases import *\n",
    "\n",
    "from matplotlib_venn import venn2\n",
    "\n",
    "import matplotlib.pyplot as plt\n",
    "import numpy as np"
   ]
  },
  {
   "cell_type": "code",
   "execution_count": 38,
   "id": "d4e318bb",
   "metadata": {},
   "outputs": [
    {
     "data": {
      "text/html": [
       "<div>\n",
       "<style scoped>\n",
       "    .dataframe tbody tr th:only-of-type {\n",
       "        vertical-align: middle;\n",
       "    }\n",
       "\n",
       "    .dataframe tbody tr th {\n",
       "        vertical-align: top;\n",
       "    }\n",
       "\n",
       "    .dataframe thead th {\n",
       "        text-align: right;\n",
       "    }\n",
       "</style>\n",
       "<table border=\"1\" class=\"dataframe\">\n",
       "  <thead>\n",
       "    <tr style=\"text-align: right;\">\n",
       "      <th></th>\n",
       "      <th>path</th>\n",
       "      <th>accession</th>\n",
       "      <th>assembly</th>\n",
       "      <th>kindom</th>\n",
       "      <th>species</th>\n",
       "    </tr>\n",
       "  </thead>\n",
       "  <tbody>\n",
       "    <tr>\n",
       "      <th>0</th>\n",
       "      <td>/media/pc208/es/litvinanna/gtdb-202/genomic_files_reps/protein_faa_reps/archaea/GB_GCA_000008085.1_protein.faa</td>\n",
       "      <td>GB_GCA_000008085.1</td>\n",
       "      <td>GCA_000008085.1</td>\n",
       "      <td>archaea</td>\n",
       "      <td>Nanoarchaeum equitans</td>\n",
       "    </tr>\n",
       "  </tbody>\n",
       "</table>\n",
       "</div>"
      ],
      "text/plain": [
       "                                                                                                             path  \\\n",
       "0  /media/pc208/es/litvinanna/gtdb-202/genomic_files_reps/protein_faa_reps/archaea/GB_GCA_000008085.1_protein.faa   \n",
       "\n",
       "            accession         assembly   kindom                species  \n",
       "0  GB_GCA_000008085.1  GCA_000008085.1  archaea  Nanoarchaeum equitans  "
      ]
     },
     "execution_count": 38,
     "metadata": {},
     "output_type": "execute_result"
    }
   ],
   "source": [
    "PATHES = pd.read_csv('../gtdb_info/pathes.csv')\n",
    "pd.options.display.max_colwidth = 120\n",
    "PATHES.head(1)"
   ]
  },
  {
   "cell_type": "code",
   "execution_count": 3,
   "id": "05834c2b",
   "metadata": {},
   "outputs": [],
   "source": [
    "seq_ids_data = pd.read_csv('../05_blast/genomic_PATHES.csv', index_col = 0)[['genome_id', 'seq_ids']]\n",
    "seq_ids_data.seq_ids = seq_ids_data.seq_ids.apply(eval)\n",
    "seq_ids_data = seq_ids_data.explode('seq_ids')\n",
    "seq_ids_data = seq_ids_data.rename({'seq_ids': 'seq_id'}, axis = 1)"
   ]
  },
  {
   "cell_type": "code",
   "execution_count": 4,
   "id": "7b505f64",
   "metadata": {},
   "outputs": [
    {
     "data": {
      "text/plain": [
       "(5939692, 2)"
      ]
     },
     "execution_count": 4,
     "metadata": {},
     "output_type": "execute_result"
    }
   ],
   "source": [
    "seq_ids_data.shape"
   ]
  },
  {
   "cell_type": "markdown",
   "id": "ff154318",
   "metadata": {},
   "source": [
    "# [optional] run hmm"
   ]
  },
  {
   "cell_type": "code",
   "execution_count": 211,
   "id": "d8915f94",
   "metadata": {},
   "outputs": [
    {
     "name": "stdout",
     "output_type": "stream",
     "text": [
      "A_V.fasta\t       b_N.hmm\t\t     delta_trimmed.fasta\r\n",
      "B_V.fasta\t       b_N_trimmed.fasta     epsilon.hmm\r\n",
      "a.hmm\t\t       b_trimmed.fasta\t     epsilon_trimmed.fasta\r\n",
      "a_v4_trimmed.fasta     beta.hmm\t\t     gamma.hmm\r\n",
      "ab_dist.aligned.fasta  beta_N.hmm\t     gamma_trimmed.fasta\r\n",
      "alpha.hmm\t       beta_N_trimmed.fasta  hmms\r\n",
      "alpha_N.hmm\t       c.hmm\t\t     mulk_v_type_ck.fasta\r\n",
      "alpha_N_trimmed.fasta  c_v4_trimmed.fasta    mulk_v_type_ck.hmm\r\n",
      "b.hmm\t\t       delta.hmm\r\n"
     ]
    }
   ],
   "source": [
    "! ls hmms"
   ]
  },
  {
   "cell_type": "code",
   "execution_count": 214,
   "id": "5d977d75",
   "metadata": {},
   "outputs": [],
   "source": [
    "# ! hmmbuild hmms/B_V.hmm hmms/B_V.fasta"
   ]
  },
  {
   "cell_type": "code",
   "execution_count": 4,
   "id": "063afd5a",
   "metadata": {},
   "outputs": [],
   "source": [
    "# for subunit in ['alpha', 'beta', 'gamma', 'delta', 'epsilon', 'a', 'b', 'c', 'c_dom']:\n",
    "#     print(f'{subunit:10}' , len(os.listdir(f'hmmsearch_results/{subunit}')))"
   ]
  },
  {
   "cell_type": "code",
   "execution_count": 5,
   "id": "10be82e0",
   "metadata": {},
   "outputs": [],
   "source": [
    "# for subunit in ['alpha', 'beta', 'gamma', 'delta', 'epsilon', 'a', 'b', 'c']:\n",
    "\n",
    "#     for genome in glob('/media/pc208/es/litvinanna/gtdb-202/genomic_files_reps/protein_faa_reps/archaea/*'):\n",
    "#         try:\n",
    "#             run_hmmsearch(genome, subunit, 'hmmsearch_results')\n",
    "#         except:\n",
    "#             pass"
   ]
  },
  {
   "cell_type": "code",
   "execution_count": 6,
   "id": "f481d7d2",
   "metadata": {},
   "outputs": [],
   "source": [
    "# for subunit in ['c']:\n",
    "#     for genome in glob('/media/pc208/es/litvinanna/gtdb-202/genomic_files_reps/protein_faa_reps/bacteria/*'):\n",
    "#         try:\n",
    "#             run_hmmsearch(genome, subunit, 'hmmsearch_results', mode = 'domtblout')\n",
    "#         except:\n",
    "#             pass"
   ]
  },
  {
   "cell_type": "code",
   "execution_count": 7,
   "id": "cc56d8b1",
   "metadata": {},
   "outputs": [],
   "source": [
    "# ! hmmbuild hmms/b.hmm hmms/b_trimmed.fasta"
   ]
  },
  {
   "cell_type": "code",
   "execution_count": null,
   "id": "5ec70086",
   "metadata": {},
   "outputs": [],
   "source": [
    "# for subunit in ['mulk_v_type_ck']:\n",
    "#     for genome in glob('/media/pc208/es/litvinanna/gtdb-202/genomic_files_reps/protein_faa_reps/*/*'):\n",
    "#         try:\n",
    "#             run_hmmsearch(genome, subunit, 'hmmsearch_results', mode = 'domtblout')\n",
    "#         except:\n",
    "#             pass"
   ]
  },
  {
   "cell_type": "code",
   "execution_count": 48,
   "id": "7b70960a",
   "metadata": {},
   "outputs": [],
   "source": [
    "# ! hmmbuild hmms/b_N.hmm hmms/b_N_trimmed.fasta "
   ]
  },
  {
   "cell_type": "code",
   "execution_count": null,
   "id": "25ef8a5f",
   "metadata": {},
   "outputs": [],
   "source": [
    "# for subunit in ['alpha_N', 'beta_N']:\n",
    "#     for genome in glob('/media/pc208/es/litvinanna/gtdb-202/genomic_files_reps/protein_faa_reps/*/*'):\n",
    "#         try:\n",
    "#             run_hmmsearch(genome, subunit, 'hmmsearch_results', mode = 'tblout')\n",
    "#         except:\n",
    "#             pass"
   ]
  },
  {
   "cell_type": "code",
   "execution_count": null,
   "id": "e4da5c6b",
   "metadata": {},
   "outputs": [],
   "source": [
    "# for subunit in ['A_V', 'B_V']:\n",
    "#     for genome in glob('/media/pc208/es/litvinanna/gtdb-202/genomic_files_reps/protein_faa_reps/*/*'):\n",
    "#         try:\n",
    "#             run_hmmsearch(genome, subunit, 'hmmsearch_results', mode = 'tblout')\n",
    "#         except:\n",
    "#             pass"
   ]
  },
  {
   "cell_type": "markdown",
   "id": "107a6456",
   "metadata": {},
   "source": [
    "# read results"
   ]
  },
  {
   "cell_type": "code",
   "execution_count": 235,
   "id": "68f36f9e",
   "metadata": {},
   "outputs": [],
   "source": [
    "def parse_hmmresults(path):\n",
    "    '''parse hmm search results in multiple files in directory 'path' \n",
    "    (path contains *)\n",
    "    returns dataframe'''\n",
    "    full_data = Dict()\n",
    "    for path1 in tqdm(glob(path), ncols = 100):\n",
    "        name = path1.split('/')[-1] #genome name\n",
    "        r = HmmerIO.hmmer3_tab.Hmmer3TabParser(open(path1, 'r'))\n",
    "        for i in r:\n",
    "            for j in i.hits:\n",
    "                data = parse_description(j.description)\n",
    "                data['fasta_id'] = j.id\n",
    "                data['bitscore'] = j.bitscore\n",
    "                data['evalue'] = j.evalue\n",
    "                data['genome'] = name\n",
    "                full_data[(name, j.id)] = data              \n",
    "    df = pd.DataFrame(full_data).T\n",
    "    return df"
   ]
  },
  {
   "cell_type": "code",
   "execution_count": 236,
   "id": "71da8182",
   "metadata": {},
   "outputs": [],
   "source": [
    "# for subunit in [\n",
    "#     'alpha', \n",
    "#     'beta', 'gamma', 'delta', 'epsilon', 'a', 'b', 'c']:\n",
    "#     df = parse_hmmresults(f'hmmsearch_results/{subunit}/*')\n",
    "#     df.to_csv(f'hmmsearch_results/{subunit}.csv', index = None)\n",
    "\n"
   ]
  },
  {
   "cell_type": "code",
   "execution_count": 216,
   "id": "222ea7b1",
   "metadata": {},
   "outputs": [],
   "source": [
    "# for subunit in ['alpha_N', 'beta_N', 'b_N']:\n",
    "#     df = parse_hmmresults(f'hmmsearch_results/{subunit}/*')\n",
    "#     df.to_csv(f'hmmsearch_results/{subunit}.csv', index = None)"
   ]
  },
  {
   "cell_type": "code",
   "execution_count": 217,
   "id": "d344708f",
   "metadata": {},
   "outputs": [
    {
     "name": "stderr",
     "output_type": "stream",
     "text": [
      "100%|███████████████████████████████████████████████████████| 47894/47894 [00:19<00:00, 2402.31it/s]\n",
      "100%|███████████████████████████████████████████████████████| 47894/47894 [00:12<00:00, 3806.93it/s]\n"
     ]
    }
   ],
   "source": [
    "for subunit in  ['A_V', 'B_V']:\n",
    "    df = parse_hmmresults(f'hmmsearch_results/{subunit}/*')\n",
    "    df.to_csv(f'hmmsearch_results/{subunit}.csv', index = None)"
   ]
  },
  {
   "cell_type": "markdown",
   "id": "38d1e73a",
   "metadata": {},
   "source": [
    "# N"
   ]
  },
  {
   "cell_type": "code",
   "execution_count": 165,
   "id": "e1685d28",
   "metadata": {},
   "outputs": [
    {
     "name": "stdout",
     "output_type": "stream",
     "text": [
      "alpha      180779\n",
      "beta       203092\n",
      "alpha_N    178947\n",
      "beta_N     193193\n",
      "b          237790\n",
      "b_N        173818\n"
     ]
    }
   ],
   "source": [
    "dfs = Dict()\n",
    "for subunit in [\n",
    "    'alpha', 'beta', 'alpha_N', 'beta_N', 'b', 'b_N']:\n",
    "    dfs[subunit] = pd.read_csv(f'hmmsearch_results/{subunit}.csv')\n",
    "    print(f'{subunit:10}', dfs[subunit].shape[0])"
   ]
  },
  {
   "cell_type": "code",
   "execution_count": 166,
   "id": "32b79763",
   "metadata": {},
   "outputs": [],
   "source": [
    "# _, axs = plt.subplots(3, 2, figsize = (15, 5))\n",
    "# subunits = ['alpha', 'beta','alpha_N', 'beta_N',  'b', 'b_N']\n",
    "# for ax, subunit in zip(axs.flatten(),subunits):\n",
    "#     ax.hist(dfs[subunit].bitscore, bins = 100)\n",
    "#     ax.set_title(subunit)\n",
    "#     mn = ax.get_xticks().min(); mx = ax.get_xticks().max()\n",
    "#     ax.set_xticks(np.arange(round(mn, -1), round(mx, -1), round((mx-mn)/10, -1)))\n",
    "#     plt.subplots_adjust(hspace=0.5)"
   ]
  },
  {
   "cell_type": "code",
   "execution_count": 167,
   "id": "b200b7a2",
   "metadata": {},
   "outputs": [
    {
     "name": "stdout",
     "output_type": "stream",
     "text": [
      "(389246, 26)\n"
     ]
    }
   ],
   "source": [
    "final = pd.read_csv('genomes_info_F_enz_v3.csv')\n",
    "print(final.shape)"
   ]
  },
  {
   "cell_type": "code",
   "execution_count": 215,
   "id": "880fc7af",
   "metadata": {},
   "outputs": [
    {
     "data": {
      "text/plain": [
       "0    170015\n",
       "F     39005\n",
       "N      1551\n",
       "Name: enzFN, dtype: int64"
      ]
     },
     "execution_count": 215,
     "metadata": {},
     "output_type": "execute_result"
    }
   ],
   "source": [
    "alpha = dfs.alpha[['fasta_id', 'bitscore']].merge(\n",
    "    dfs.alpha_N[['fasta_id', 'bitscore']], \n",
    "    on = 'fasta_id', \n",
    "    suffixes= ['_F', '_N'], how = 'outer')\n",
    "\n",
    "beta = dfs.beta[['genome', 'fasta_id', 'bitscore']].merge(\n",
    "    dfs.beta_N[['fasta_id', 'bitscore']], \n",
    "    on = 'fasta_id', \n",
    "    suffixes= ['_F', '_N'], how = 'outer')\n",
    "\n",
    "b = dfs.b[['fasta_id', 'bitscore']].merge(\n",
    "    dfs.b_N[['fasta_id', 'bitscore']], \n",
    "    on = 'fasta_id', \n",
    "    suffixes= ['_F', '_N'], how = 'outer')\n",
    "\n",
    "alpha = alpha.merge(final[['fasta_id', 'enzFN']], how = 'left')\n",
    "alpha.fillna(0, inplace = True)\n",
    "\n",
    "beta = beta.merge(final[final.subunit == 'beta'][['genome', 'fasta_id', 'enzFN']], how = 'left')\n",
    "beta.fillna(0, inplace = True)\n",
    "\n",
    "beta.enzFN.value_counts()"
   ]
  },
  {
   "cell_type": "code",
   "execution_count": 216,
   "id": "d315c9a7",
   "metadata": {},
   "outputs": [],
   "source": [
    "# from matplotlib_venn import venn2\n",
    "# venn2([set(dfs.alpha  [dfs.alpha  .bitscore > 260].fasta_id), \n",
    "#        set(dfs.alpha_N[dfs.alpha_N.bitscore > 260].fasta_id)])"
   ]
  },
  {
   "cell_type": "code",
   "execution_count": 217,
   "id": "2732671e",
   "metadata": {},
   "outputs": [
    {
     "data": {
      "text/plain": [
       "[<matplotlib.lines.Line2D at 0x7fb0d2f1c550>]"
      ]
     },
     "execution_count": 217,
     "metadata": {},
     "output_type": "execute_result"
    },
    {
     "data": {
      "image/png": "[encoded data removed]",
      "text/plain": [
       "<Figure size 600x400 with 1 Axes>"
      ]
     },
     "metadata": {},
     "output_type": "display_data"
    }
   ],
   "source": [
    "df = beta\n",
    "df.plot.scatter('bitscore_F','bitscore_N', s = 1, alpha = 1, \n",
    "                   color = df.enzFN.map({'N':'green', 'F':'blue', 0:'grey'}).to_list())\n",
    "# plt.hlines(270, 0, 1000, color = 'black')\n",
    "# plt.vlines(270, 0, 1000,color = 'black')\n",
    "plt.xlim(600, 900);plt.ylim(600, 900)\n",
    "plt.plot([0, 1000], [50, 950],'k-', ) # y = 50 + 0.9x"
   ]
  },
  {
   "cell_type": "code",
   "execution_count": 80,
   "id": "b5c5175b",
   "metadata": {},
   "outputs": [],
   "source": [
    "# cols = [ 'bitscore','logevalue',  'subunit', 'strand', 'ID', 'N',\n",
    "#         'operons', 'enz', 'opt', 'enzt', 'step', 'fasta_id', 'genome']\n",
    "# pd.options.display.max_columns = 50\n",
    "# final[final.seq_id == 'JAABTD010000067.1'][cols].sort_values('N')"
   ]
  },
  {
   "cell_type": "code",
   "execution_count": 1,
   "id": "958e6ef4",
   "metadata": {},
   "outputs": [],
   "source": [
    "# beta[(beta.bitscore_F*0.9 + 50 < beta.bitscore_N) & (beta.enzFN =='F') & (beta.bitscore_N > 600)]"
   ]
  },
  {
   "cell_type": "code",
   "execution_count": 173,
   "id": "606115b5",
   "metadata": {},
   "outputs": [],
   "source": [
    "for bt in beta[((beta.bitscore_F*0.9 + 50) < beta.bitscore_N) & (beta.enzFN =='F')].fasta_id:\n",
    "    en = final[final.fasta_id == bt].enz.iloc[0]\n",
    "    if pd.isna(en):\n",
    "        continue\n",
    "    ss = final[final.enz == en]\n",
    "    if (not 'delta' in ss.subunit.to_list()) or (not 'b' in ss.subunit.to_list()):\n",
    "        continue\n",
    "\n",
    "    delta = ss[ss.subunit == 'delta'].fasta_id.iloc[0]\n",
    "    b     = ss[ss.subunit == 'b'].fasta_id.iloc[0]\n",
    "    \n",
    "    if delta == b and len(ss.seq_id.unique()) == 1:\n",
    "        if ss.N.max() - ss.N.min() <= 10:\n",
    "            final.at[ss.index, 'enzFN'] = 'N'"
   ]
  },
  {
   "cell_type": "code",
   "execution_count": 176,
   "id": "c771f576",
   "metadata": {},
   "outputs": [],
   "source": [
    "for bt in beta[(beta.bitscore_F*0.9 + 50 < beta.bitscore_N) & (beta.enzFN =='F')\\\n",
    "               & (beta.bitscore_N > 600)].fasta_id:\n",
    "    en = final[final.fasta_id == bt].enz.iloc[0]\n",
    "    if pd.isna(en):\n",
    "        continue\n",
    "    ss = final[final.enz == en]\n",
    "    if (not 'delta' in ss.subunit.to_list()) or (not 'b' in ss.subunit.to_list()):\n",
    "        continue\n",
    "\n",
    "    delta = ss[ss.subunit == 'delta'].fasta_id.iloc[0]\n",
    "    b     = ss[ss.subunit == 'b'].fasta_id.iloc[0]\n",
    "    if delta == b:\n",
    "        final.at[ss.index, 'enzFN'] = 'N'"
   ]
  },
  {
   "cell_type": "code",
   "execution_count": 214,
   "id": "447ed47a",
   "metadata": {},
   "outputs": [],
   "source": [
    "for bt in beta[(beta.bitscore_F*0.9 + 50 < beta.bitscore_N) & (beta.enzFN =='F')\\\n",
    "               & (beta.bitscore_N > 600)].fasta_id:\n",
    "    en = final[final.fasta_id == bt].enz.iloc[0]\n",
    "    if pd.isna(en):\n",
    "        continue\n",
    "    ss = final[final.enz == en].copy()\n",
    "    ss.sort_values('N', inplace = True)\n",
    "    if ss.seq_id.nunique() == 1:\n",
    "        sss = tuple(ss.subunit.to_list())\n",
    "        if sss in [\n",
    "            ('beta', 'epsilon', 'c', 'alpha', 'gamma'),\n",
    "            ('beta', 'epsilon', 'a', 'c', 'b', 'alpha'),\n",
    "            ('beta', 'epsilon', 'a', 'c', 'b', 'alpha', 'gamma'),\n",
    "            ('beta', 'epsilon', 'a', 'c', 'b'),\n",
    "            ('gamma', 'alpha', 'b', 'c', 'a', 'epsilon', 'beta'),\n",
    "            ('gamma', 'alpha', 'c', 'epsilon', 'beta'),\n",
    "            ('gamma', 'alpha', 'b', 'c', 'a', 'beta'),\n",
    "            ('gamma', 'alpha', 'delta', 'c', 'epsilon', 'beta')\n",
    "        ]:\n",
    "            final.at[ss.index, 'enzFN'] = 'N'\n",
    "            final.at[ss.index, 'enzt']  = 'N'\n",
    "        else:\n",
    "            pass\n",
    "#             print(sss) \n",
    "#             if sss == ():\n",
    "#                 display(ss[cols])\n",
    "\n",
    "#     delta = ss[ss.subunit == 'delta'].fasta_id.iloc[0]\n",
    "#     b     = ss[ss.subunit == 'b'].fasta_id.iloc[0]\n",
    "#     if delta == b:\n",
    "#         final.at[ss.index, 'enzFN'] = 'N'"
   ]
  },
  {
   "cell_type": "code",
   "execution_count": 177,
   "id": "0cb72f66",
   "metadata": {},
   "outputs": [],
   "source": [
    "# final[final.genome == 'RS_GCF_000969905.1']"
   ]
  },
  {
   "cell_type": "code",
   "execution_count": 219,
   "id": "3b564830",
   "metadata": {},
   "outputs": [],
   "source": [
    "final.to_csv('genomes_info_F_enz_v4.csv', index=  False)"
   ]
  },
  {
   "cell_type": "code",
   "execution_count": null,
   "id": "9c75fddd",
   "metadata": {},
   "outputs": [],
   "source": []
  },
  {
   "cell_type": "markdown",
   "id": "33c69005",
   "metadata": {},
   "source": [
    "# Choose thresholds"
   ]
  },
  {
   "cell_type": "code",
   "execution_count": 39,
   "id": "32a8d895",
   "metadata": {},
   "outputs": [
    {
     "name": "stdout",
     "output_type": "stream",
     "text": [
      "alpha      180779\n",
      "beta       203092\n",
      "gamma      46409\n",
      "delta      62752\n",
      "epsilon    55349\n",
      "a          46268\n",
      "b          237790\n"
     ]
    }
   ],
   "source": [
    "dfs = Dict()\n",
    "for subunit in [\n",
    "    'alpha', 'beta', 'gamma', 'delta', 'epsilon', 'a', 'b']:\n",
    "    dfs[subunit] = pd.read_csv(f'hmmsearch_results/{subunit}.csv')\n",
    "    print(f'{subunit:10}', dfs[subunit].shape[0])"
   ]
  },
  {
   "cell_type": "code",
   "execution_count": 40,
   "id": "9af5d293",
   "metadata": {},
   "outputs": [],
   "source": [
    "dfs['c'] = pd.read_csv('hmmsearch_results/c_dom_merged.csv')\n",
    "dfs['c'].drop(['c_domains_old', 'intersection'], axis = 1, inplace = True)"
   ]
  },
  {
   "cell_type": "code",
   "execution_count": 41,
   "id": "62a8c5e8",
   "metadata": {},
   "outputs": [
    {
     "data": {
      "text/plain": [
       "Index(['genome', 'fasta_id', 'ID', 'start', 'end', 'strand', 'partial',\n",
       "       'start_type', 'rbs_motif', 'rbs_spacer', 'gc_cont', 'bitscore',\n",
       "       'bitscore_mean', 'c_domains'],\n",
       "      dtype='object')"
      ]
     },
     "execution_count": 41,
     "metadata": {},
     "output_type": "execute_result"
    }
   ],
   "source": [
    "dfs['c'].columns"
   ]
  },
  {
   "cell_type": "code",
   "execution_count": 42,
   "id": "70520734",
   "metadata": {},
   "outputs": [
    {
     "name": "stderr",
     "output_type": "stream",
     "text": [
      "100%|████████████████████████████████████████████████████████████████████████████████████████████| 8/8 [00:00<00:00, 12.21it/s]\n"
     ]
    }
   ],
   "source": [
    "all_subunits = ['alpha', 'beta', 'gamma', 'delta', 'epsilon', 'a', 'b', 'c']\n",
    "# get sed_id from fasta_id\n",
    "for subunit in tqdm(all_subunits):\n",
    "    dfs[subunit]['seq_id'] = dfs[subunit].fasta_id.apply(lambda x : x[::-1].split('_', maxsplit = 1)[-1][::-1] )\n",
    "#     dfs[subunit] = dfs[subunit].merge(seq_ids_data)\n",
    "    dfs[subunit]['subunit'] = subunit\n",
    "    dfs[subunit]['N'] = dfs[subunit].ID.apply(lambda x: int(x.split('_')[-1]))\n",
    "#     df['genome_id'] = df.genome.apply(lambda x: x[3:])"
   ]
  },
  {
   "cell_type": "code",
   "execution_count": 3,
   "id": "47c30cfe",
   "metadata": {},
   "outputs": [],
   "source": [
    "# import matplotlib\n",
    "# matplotlib.style.use('seaborn-whitegrid')\n",
    "# import matplotlib.pyplot as plt\n",
    "# plt.rcParams['figure.dpi'] = 100\n",
    "\n",
    "# import numpy as np\n",
    "\n",
    "# _, axs = plt.subplots(4, 2, figsize = (13, 10))\n",
    "# subunits = ['alpha', 'beta', 'gamma', 'delta', 'epsilon', 'a', 'b', 'c']\n",
    "# for ax, subunit in zip(axs.flatten(),subunits):\n",
    "#     ax.hist(dfs[subunit].bitscore, bins = 100)\n",
    "#     ax.set_title(subunit)\n",
    "#     mn = ax.get_xticks().min()\n",
    "#     mx = ax.get_xticks().max()\n",
    "#     ax.set_xticks(np.arange(round(mn, -1), round(mx, -1), round((mx-mn)/15, -1)))\n",
    "#     plt.subplots_adjust(hspace=0.5)\n",
    "    \n",
    "# thr = [260, # alpha\n",
    "#        260, # beta\n",
    "#        50,  # gamma\n",
    "#        15,  # delta\n",
    "#        30,  # epsilon\n",
    "#        30,  # a\n",
    "#        15,  # b\n",
    "#        40,  # c\n",
    "#       ]\n",
    "\n",
    "# for ax, th in zip(axs.flatten(), thr):\n",
    "#     ax.vlines(th, 0, ax.get_ylim()[1], color = 'black')"
   ]
  },
  {
   "cell_type": "code",
   "execution_count": 44,
   "id": "b15cc42a",
   "metadata": {},
   "outputs": [],
   "source": [
    "# ab = dfs['alpha'][['fasta_id', 'bitscore']].merge(dfs['beta'][['fasta_id', 'bitscore']], on = 'fasta_id')"
   ]
  },
  {
   "cell_type": "code",
   "execution_count": 72,
   "id": "a74ba34c",
   "metadata": {},
   "outputs": [],
   "source": [
    "# plt.figure(figsize = (5, 5))\n",
    "# plt.scatter(ab.bitscore_x, ab.bitscore_y, alpha = 0.1, s = 0.1)\n",
    "# plt.hlines(260, 0, 1000, linewidth = 1)\n",
    "# plt.vlines(260, 0, 1000, linewidth = 1)"
   ]
  },
  {
   "cell_type": "markdown",
   "id": "26008954",
   "metadata": {},
   "source": [
    "# Operons"
   ]
  },
  {
   "cell_type": "code",
   "execution_count": 45,
   "id": "3c671fc5",
   "metadata": {},
   "outputs": [],
   "source": [
    "thr = [260, # alpha\n",
    "       260, # beta\n",
    "       50, # gamma\n",
    "       15,  # delta\n",
    "       30,  # epsilon\n",
    "       30, # a\n",
    "       15,  # b\n",
    "       40,  # c\n",
    "      ]\n",
    "all_subunits = ['alpha', 'beta', 'gamma', 'delta', 'epsilon', 'a', 'b', 'c']"
   ]
  },
  {
   "cell_type": "code",
   "execution_count": 46,
   "id": "70141a41",
   "metadata": {},
   "outputs": [
    {
     "name": "stdout",
     "output_type": "stream",
     "text": [
      "alpha      42723\n",
      "beta       42872\n",
      "gamma      42933\n",
      "delta      45393\n",
      "epsilon    42731\n",
      "a          43082\n",
      "b          111277\n",
      "c          43059\n"
     ]
    }
   ],
   "source": [
    "dfsf = Dict()\n",
    "for subunit, th in zip(all_subunits, thr):\n",
    "    dfsf[subunit] = dfs[subunit][dfs[subunit].bitscore > th]\n",
    "\n",
    "for k, v in dfsf.items():\n",
    "    print(f'{k:10}', len(v))"
   ]
  },
  {
   "cell_type": "code",
   "execution_count": 47,
   "id": "b0d76abd",
   "metadata": {},
   "outputs": [
    {
     "data": {
      "text/plain": [
       "(414070, 18)"
      ]
     },
     "execution_count": 47,
     "metadata": {},
     "output_type": "execute_result"
    }
   ],
   "source": [
    "final = pd.concat([v for v in dfsf.values()])\n",
    "final.shape"
   ]
  },
  {
   "cell_type": "code",
   "execution_count": 48,
   "id": "8598e449",
   "metadata": {},
   "outputs": [
    {
     "data": {
      "text/plain": [
       "(414070, 18)"
      ]
     },
     "execution_count": 48,
     "metadata": {},
     "output_type": "execute_result"
    }
   ],
   "source": [
    "# tax = pd.read_csv('../gtdb_info/gtdb_taxonomy.csv')\n",
    "# tax['genome_id'] = tax.accession.apply(lambda x: x[3:])\n",
    "# tax.head(1)\n",
    "\n",
    "# 'p__Bacteroidota' 'p__Actinobacteriota' 'p__Firmicutes' 'p__Proteobacteria'\n",
    "# final = final[~final.genome.isin( tax[\n",
    "#     (tax.p == 'p__Bacteroidota') | (tax.p ==  'p__Actinobacteriota') \\\n",
    "#     | (tax.p ==  'p__Firmicutes') | (tax.p ==  'p__Proteobacteria')\n",
    "#     ].accession\n",
    "# )].copy()\n",
    "# final = final[final.genome == 'RS_GCF_000277795.1']\n",
    "final.shape"
   ]
  },
  {
   "cell_type": "code",
   "execution_count": null,
   "id": "0a0ca54e",
   "metadata": {},
   "outputs": [],
   "source": []
  },
  {
   "cell_type": "code",
   "execution_count": 49,
   "id": "6201eb76",
   "metadata": {},
   "outputs": [],
   "source": [
    "final.reset_index(inplace = True)"
   ]
  },
  {
   "cell_type": "code",
   "execution_count": 50,
   "id": "32b8b368",
   "metadata": {},
   "outputs": [],
   "source": [
    "def find_operon_write(df, i):\n",
    "    for _, row in df.iterrows():\n",
    "        strand = '+' if row.strand == 1 else '-'\n",
    "        subprocess.run(\n",
    "f\"grep '{row.fasta_id},' gtdb_proteins_operons/{row.genome}/{row.seq_id}{strand} >> op_info/{i}\", \n",
    "            shell = True)\n",
    "    return "
   ]
  },
  {
   "cell_type": "code",
   "execution_count": 52,
   "id": "85f94438",
   "metadata": {},
   "outputs": [],
   "source": [
    "# ! rm op_info/*"
   ]
  },
  {
   "cell_type": "code",
   "execution_count": 53,
   "id": "35855741",
   "metadata": {},
   "outputs": [
    {
     "name": "stderr",
     "output_type": "stream",
     "text": [
      "grep: gtdb_proteins_operons/GB_GCA_902787255.1/CADAFY010000197.1+: No such file or directory\n",
      "grep: gtdb_proteins_operons/GB_GCA_902787255.1/CADAFY010000015.1+: No such file or directory\n"
     ]
    }
   ],
   "source": [
    "from joblib import delayed, Parallel\n",
    "s = 1000\n",
    "Parallel(n_jobs=10)(delayed(find_operon_write)(final.iloc[i*s:(i+1)*s], i) for i in range(416))\n",
    "pass"
   ]
  },
  {
   "cell_type": "code",
   "execution_count": 54,
   "id": "89f2abfd",
   "metadata": {},
   "outputs": [
    {
     "data": {
      "text/plain": [
       "((414066, 14), (410631, 14))"
      ]
     },
     "execution_count": 54,
     "metadata": {},
     "output_type": "execute_result"
    }
   ],
   "source": [
    "names = ['start', 'end', 'strand', 'ID', 'partial', 'start_type', 'rbs_motif',\n",
    "           'rbs_spacer', 'gc_cont', 'fasta_id', 'genome',\n",
    "           'seq_id',  'operons', 'N']\n",
    "\n",
    "op_for_final = pd.concat([pd.read_csv(f'op_info/{i}', names = names) for i in range(415)])\n",
    "op_for_final.shape, op_for_final.drop_duplicates().shape"
   ]
  },
  {
   "cell_type": "code",
   "execution_count": 55,
   "id": "dd7c105b",
   "metadata": {},
   "outputs": [],
   "source": [
    "# final.drop('operons', axis = 1, inplace = True)"
   ]
  },
  {
   "cell_type": "code",
   "execution_count": 4,
   "id": "76dbc3f2",
   "metadata": {},
   "outputs": [],
   "source": [
    "# venn2([set(final.fasta_id), set(op_for_final.fasta_id)])"
   ]
  },
  {
   "cell_type": "code",
   "execution_count": 5,
   "id": "b52b5c73",
   "metadata": {},
   "outputs": [],
   "source": [
    "# set(final.fasta_id) - set(op_for_final.fasta_id)"
   ]
  },
  {
   "cell_type": "code",
   "execution_count": 61,
   "id": "bf6d56e2",
   "metadata": {},
   "outputs": [],
   "source": [
    "# seq_ids_data[seq_ids_data.seq_id == 'CADAFY010000015.1']"
   ]
  },
  {
   "cell_type": "code",
   "execution_count": 62,
   "id": "f641f6c3",
   "metadata": {},
   "outputs": [
    {
     "data": {
      "text/plain": [
       "(421064, 20)"
      ]
     },
     "execution_count": 62,
     "metadata": {},
     "output_type": "execute_result"
    }
   ],
   "source": [
    "final.merge(op_for_final[['fasta_id', 'operons']]).shape"
   ]
  },
  {
   "cell_type": "code",
   "execution_count": 63,
   "id": "ef10d406",
   "metadata": {},
   "outputs": [
    {
     "data": {
      "text/plain": [
       "(421068, 20)"
      ]
     },
     "execution_count": 63,
     "metadata": {},
     "output_type": "execute_result"
    }
   ],
   "source": [
    "final = final.merge(op_for_final[['fasta_id', 'operons']], how = 'left')\n",
    "final.shape"
   ]
  },
  {
   "cell_type": "code",
   "execution_count": 64,
   "id": "9379a0df",
   "metadata": {},
   "outputs": [
    {
     "data": {
      "text/plain": [
       "(414070, 20)"
      ]
     },
     "execution_count": 64,
     "metadata": {},
     "output_type": "execute_result"
    }
   ],
   "source": [
    "final = final.drop_duplicates()\n",
    "final.shape"
   ]
  },
  {
   "cell_type": "code",
   "execution_count": 67,
   "id": "e7fb315a",
   "metadata": {},
   "outputs": [],
   "source": [
    "# final[final.seq_id == 'AE009951.2']"
   ]
  },
  {
   "cell_type": "code",
   "execution_count": 68,
   "id": "66fbf8e2",
   "metadata": {},
   "outputs": [],
   "source": [
    "final.to_csv('atp_subunits_operons.csv', index = False)"
   ]
  },
  {
   "cell_type": "code",
   "execution_count": 98,
   "id": "7693c09e",
   "metadata": {},
   "outputs": [],
   "source": [
    "# final.groupby('fasta_id').apply(lambda df : tuple(df.subunit.to_list()) if len(df) > 1 else None)\\\n",
    "#     .value_counts()"
   ]
  },
  {
   "cell_type": "code",
   "execution_count": null,
   "id": "e96f67e2",
   "metadata": {},
   "outputs": [],
   "source": [
    "['start', 'end', 'strand', 'ID', 'partial', 'start_type', 'rbs_motif',\n",
    "       'rbs_spacer', 'gc_cont', 'fasta_id', 'genome']"
   ]
  },
  {
   "cell_type": "code",
   "execution_count": 72,
   "id": "c1043800",
   "metadata": {},
   "outputs": [
    {
     "data": {
      "text/plain": [
       "1861982"
      ]
     },
     "execution_count": 72,
     "metadata": {},
     "output_type": "execute_result"
    }
   ],
   "source": [
    "len(glob('gtdb_proteins_operons/*/*'))"
   ]
  },
  {
   "cell_type": "code",
   "execution_count": 70,
   "id": "e3998884",
   "metadata": {},
   "outputs": [
    {
     "data": {
      "text/plain": [
       "16647"
      ]
     },
     "execution_count": 70,
     "metadata": {},
     "output_type": "execute_result"
    }
   ],
   "source": [
    "len(glob('gtdb_proteins_operons/*'))"
   ]
  },
  {
   "cell_type": "code",
   "execution_count": 2,
   "id": "c9f77c07",
   "metadata": {},
   "outputs": [],
   "source": [
    "import pandas as pd\n",
    "seq_ids_data = pd.read_csv('../05_blast/genomic_PATHES.csv', index_col = 0)[['genome_id', 'seq_ids']]\n",
    "seq_ids_data.seq_ids = seq_ids_data.seq_ids.apply(eval)\n",
    "seq_ids_data = seq_ids_data.explode('seq_ids')\n",
    "seq_ids_data = seq_ids_data.rename({'seq_ids': 'seq_id'}, axis = 1)"
   ]
  },
  {
   "cell_type": "code",
   "execution_count": 27,
   "id": "99ff312e",
   "metadata": {},
   "outputs": [],
   "source": [
    "import matplotlib\n",
    "matplotlib.style.use('seaborn-whitegrid')\n",
    "import matplotlib.pyplot as plt\n",
    "matplotlib.rcParams['figure.dpi'] = 100"
   ]
  },
  {
   "cell_type": "code",
   "execution_count": 7,
   "id": "f46a595c",
   "metadata": {},
   "outputs": [],
   "source": [
    "c = seq_ids_data.genome_id.value_counts()"
   ]
  },
  {
   "cell_type": "code",
   "execution_count": 28,
   "id": "563d2e39",
   "metadata": {},
   "outputs": [
    {
     "data": {
      "image/png": "[encoded data removed]",
      "text/plain": [
       "<Figure size 600x400 with 1 Axes>"
      ]
     },
     "metadata": {},
     "output_type": "display_data"
    }
   ],
   "source": [
    "c.hist(bins = 100)\n",
    "plt.yscale('symlog')"
   ]
  },
  {
   "cell_type": "code",
   "execution_count": null,
   "id": "50a71d00",
   "metadata": {},
   "outputs": [],
   "source": []
  }
 ],
 "metadata": {
  "kernelspec": {
   "display_name": "Python 3 (ipykernel)",
   "language": "python",
   "name": "python3"
  },
  "language_info": {
   "codemirror_mode": {
    "name": "ipython",
    "version": 3
   },
   "file_extension": ".py",
   "mimetype": "text/x-python",
   "name": "python",
   "nbconvert_exporter": "python",
   "pygments_lexer": "ipython3",
   "version": "3.9.5"
  }
 },
 "nbformat": 4,
 "nbformat_minor": 5
}
