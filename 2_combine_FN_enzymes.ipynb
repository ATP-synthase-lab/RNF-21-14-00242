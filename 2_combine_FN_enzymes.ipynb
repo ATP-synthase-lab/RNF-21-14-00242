{
 "cells": [
  {
   "cell_type": "code",
   "execution_count": 1,
   "id": "fd2a8b11",
   "metadata": {},
   "outputs": [
    {
     "name": "stdout",
     "output_type": "stream",
     "text": [
      "INFO: Pandarallel will run on 4 workers.\n",
      "INFO: Pandarallel will use Memory file system to transfer data between the main process and workers.\n"
     ]
    }
   ],
   "source": [
    "from Bio.SearchIO import HmmerIO\n",
    "from Bio import AlignIO, SeqIO\n",
    "import re \n",
    "\n",
    "import pandas as pd\n",
    "import subprocess\n",
    "\n",
    "from glob import glob\n",
    "import os\n",
    "\n",
    "from tqdm import tqdm\n",
    "tqdm.pandas()\n",
    "\n",
    "import pandas as pd\n",
    "from addict import Dict\n",
    "import sys\n",
    "sys.path.append('../03_acetyl')\n",
    "from funcs1 import *\n",
    "\n",
    "from matplotlib_venn import venn2\n",
    "\n",
    "pd.options.display.max_columns = 50\n",
    "\n",
    "from pandarallel import pandarallel\n",
    "pandarallel.initialize(nb_workers = 4, progress_bar = True)"
   ]
  },
  {
   "cell_type": "code",
   "execution_count": 2,
   "id": "950c391d",
   "metadata": {},
   "outputs": [],
   "source": [
    "# final = pd.read_csv('atp_subunits_operons.csv')\n",
    "# print(final.shape, final.drop_duplicates().shape)\n",
    "# final['logevalue'] = final.evalue.apply(lambda x: round(np.log10(x), 2))\n",
    "# print(final.shape)\n",
    "# # final.head(2)"
   ]
  },
  {
   "cell_type": "code",
   "execution_count": 3,
   "id": "cd9d7438",
   "metadata": {},
   "outputs": [],
   "source": [
    "# final0[final0.fasta_id == 'AE009951.2_228']"
   ]
  },
  {
   "cell_type": "code",
   "execution_count": 4,
   "id": "ccd198f1",
   "metadata": {},
   "outputs": [],
   "source": [
    "# final['enz']  = None\n",
    "# final['opt']  = None\n",
    "# final['enzt'] = None\n",
    "# final['step'] = None"
   ]
  },
  {
   "cell_type": "code",
   "execution_count": 5,
   "id": "609aba43",
   "metadata": {},
   "outputs": [],
   "source": [
    "####Test\n",
    "# test_g = ['GB_GCA_000007325.1', 'GB_GCA_000210015.1', 'GB_GCA_000431495.1', 'GB_GCA_002452745.1']\n",
    "# final[final.genome == test_g[3]]"
   ]
  },
  {
   "cell_type": "code",
   "execution_count": 6,
   "id": "375a7a01",
   "metadata": {},
   "outputs": [],
   "source": [
    "# final.shape[0], final.fasta_id.nunique()"
   ]
  },
  {
   "cell_type": "code",
   "execution_count": 7,
   "id": "65cea559",
   "metadata": {},
   "outputs": [],
   "source": [
    "# ! mkdir enzyme_inf_steps/step_opt"
   ]
  },
  {
   "cell_type": "code",
   "execution_count": 8,
   "id": "b178cf61",
   "metadata": {},
   "outputs": [],
   "source": [
    "# def find_opt(df):\n",
    "#     genome = df.genome.iloc[0]\n",
    "#     seq_id = df.seq_id.iloc[0]\n",
    "#     operon = df.operons.iloc[0]\n",
    "#     strand = df.strand.unique()\n",
    "#     if len(strand) > 1:\n",
    "#         display(df)        \n",
    "# #     if os.path.isfile(f'enzyme_inf_steps/step_opt/{genome}{seq_id}{operon}'):\n",
    "# #         return\n",
    "#     abbr = {'a':'a', 'b': 'b', 'c' :'c', \n",
    "#            'alpha':'A', 'beta' : 'B', 'gamma' : 'G', \n",
    "#            'delta' : 'D', 'epsilon' : 'E'}\n",
    "#     df = df.sort_values('start')\n",
    "#     x  = df.subunit.to_list()[::strand[0]]\n",
    "#     opt = [abbr[i] for i in x] \n",
    "#     opt = ''.join(opt)\n",
    "# #     final.at[df.index, 'opt'] = opt\n",
    "#     df['opt'] = opt\n",
    "    \n",
    "#     os.makedirs(f'enzyme_inf_steps/step_opt/{genome}', exist_ok = True)\n",
    "#     df.to_csv(f'enzyme_inf_steps/step_opt/{genome}/{seq_id}{operon}', index = False)\n",
    "    \n",
    "# final.groupby(['genome', 'seq_id', 'operons']).progress_apply(find_opt)"
   ]
  },
  {
   "cell_type": "code",
   "execution_count": 9,
   "id": "000a41b9",
   "metadata": {},
   "outputs": [],
   "source": [
    "# ! ls enzyme_inf_steps/step_opt | wc -l"
   ]
  },
  {
   "cell_type": "code",
   "execution_count": 10,
   "id": "26018a3a",
   "metadata": {},
   "outputs": [],
   "source": [
    "# ! mkdir enzyme_inf_steps/step_opt1"
   ]
  },
  {
   "cell_type": "code",
   "execution_count": 11,
   "id": "eaf1c962",
   "metadata": {},
   "outputs": [],
   "source": [
    "# for path in tqdm(glob('enzyme_inf_steps/step_opt/*')):\n",
    "#     df = pd.concat([pd.read_csv(path1, index_col = 0) for path1 in glob(path + '/*')])\n",
    "#     genome = path.split('/')[-1]\n",
    "#     df.to_csv(f'enzyme_inf_steps/step_opt1/{genome}', index = False)"
   ]
  },
  {
   "cell_type": "code",
   "execution_count": 12,
   "id": "d50c3f6b",
   "metadata": {},
   "outputs": [
    {
     "name": "stderr",
     "output_type": "stream",
     "text": [
      "100%|███████████████████████████████████████████████████████████████████████████████████| 44546/44546 [01:06<00:00, 671.93it/s]\n"
     ]
    }
   ],
   "source": [
    "final = pd.concat([pd.read_csv(path) for path in \n",
    "                   tqdm(glob('enzyme_inf_steps/step_opt1/*'))\n",
    "                  ])"
   ]
  },
  {
   "cell_type": "code",
   "execution_count": 13,
   "id": "e26d6572",
   "metadata": {},
   "outputs": [],
   "source": [
    "# final = pd.read_csv('enzyme_inf_steps/step_opt1/RS_GCF_903644075.1')"
   ]
  },
  {
   "cell_type": "code",
   "execution_count": 14,
   "id": "4f37aeb6",
   "metadata": {},
   "outputs": [],
   "source": [
    "final['enz']  = None\n",
    "final['enzt'] = None\n",
    "final['step'] = None"
   ]
  },
  {
   "cell_type": "code",
   "execution_count": 15,
   "id": "71c01604",
   "metadata": {},
   "outputs": [
    {
     "data": {
      "text/html": [
       "<div>\n",
       "<style scoped>\n",
       "    .dataframe tbody tr th:only-of-type {\n",
       "        vertical-align: middle;\n",
       "    }\n",
       "\n",
       "    .dataframe tbody tr th {\n",
       "        vertical-align: top;\n",
       "    }\n",
       "\n",
       "    .dataframe thead th {\n",
       "        text-align: right;\n",
       "    }\n",
       "</style>\n",
       "<table border=\"1\" class=\"dataframe\">\n",
       "  <thead>\n",
       "    <tr style=\"text-align: right;\">\n",
       "      <th></th>\n",
       "      <th>start</th>\n",
       "      <th>end</th>\n",
       "      <th>strand</th>\n",
       "      <th>ID</th>\n",
       "      <th>partial</th>\n",
       "      <th>start_type</th>\n",
       "      <th>rbs_motif</th>\n",
       "      <th>rbs_spacer</th>\n",
       "      <th>gc_cont</th>\n",
       "      <th>fasta_id</th>\n",
       "      <th>bitscore</th>\n",
       "      <th>evalue</th>\n",
       "      <th>genome</th>\n",
       "      <th>seq_id</th>\n",
       "      <th>subunit</th>\n",
       "      <th>N</th>\n",
       "      <th>bitscore_mean</th>\n",
       "      <th>c_domains</th>\n",
       "      <th>operons</th>\n",
       "      <th>logevalue</th>\n",
       "      <th>opt</th>\n",
       "      <th>enz</th>\n",
       "      <th>enzt</th>\n",
       "      <th>step</th>\n",
       "    </tr>\n",
       "  </thead>\n",
       "  <tbody>\n",
       "    <tr>\n",
       "      <th>0</th>\n",
       "      <td>2095960</td>\n",
       "      <td>2096274</td>\n",
       "      <td>1</td>\n",
       "      <td>6_1925</td>\n",
       "      <td>0</td>\n",
       "      <td>ATG</td>\n",
       "      <td>AGxAGG/AGGxGG</td>\n",
       "      <td>5-10bp</td>\n",
       "      <td>0.619</td>\n",
       "      <td>NZ_LT629945.1_1925</td>\n",
       "      <td>20.2</td>\n",
       "      <td>0.0001</td>\n",
       "      <td>RS_GCF_900104675.1</td>\n",
       "      <td>NZ_LT629945.1</td>\n",
       "      <td>b</td>\n",
       "      <td>1925</td>\n",
       "      <td>NaN</td>\n",
       "      <td>NaN</td>\n",
       "      <td>NZ_LT629945.1+195.0</td>\n",
       "      <td>-4.0</td>\n",
       "      <td>b</td>\n",
       "      <td>None</td>\n",
       "      <td>None</td>\n",
       "      <td>None</td>\n",
       "    </tr>\n",
       "  </tbody>\n",
       "</table>\n",
       "</div>"
      ],
      "text/plain": [
       "     start      end  strand      ID  partial start_type      rbs_motif  \\\n",
       "0  2095960  2096274       1  6_1925        0        ATG  AGxAGG/AGGxGG   \n",
       "\n",
       "  rbs_spacer  gc_cont            fasta_id  bitscore  evalue  \\\n",
       "0     5-10bp    0.619  NZ_LT629945.1_1925      20.2  0.0001   \n",
       "\n",
       "               genome         seq_id subunit     N  bitscore_mean  c_domains  \\\n",
       "0  RS_GCF_900104675.1  NZ_LT629945.1       b  1925            NaN        NaN   \n",
       "\n",
       "               operons  logevalue opt   enz  enzt  step  \n",
       "0  NZ_LT629945.1+195.0       -4.0   b  None  None  None  "
      ]
     },
     "execution_count": 15,
     "metadata": {},
     "output_type": "execute_result"
    }
   ],
   "source": [
    "final.head(1)"
   ]
  },
  {
   "cell_type": "code",
   "execution_count": 16,
   "id": "6b922469",
   "metadata": {},
   "outputs": [
    {
     "data": {
      "text/plain": [
       "((389246, 24), (389246, 24), 385921)"
      ]
     },
     "execution_count": 16,
     "metadata": {},
     "output_type": "execute_result"
    }
   ],
   "source": [
    "final.shape, final.drop_duplicates().shape, final.fasta_id.nunique()"
   ]
  },
  {
   "cell_type": "code",
   "execution_count": 17,
   "id": "cfe20be7",
   "metadata": {},
   "outputs": [],
   "source": [
    "# final"
   ]
  },
  {
   "cell_type": "code",
   "execution_count": 18,
   "id": "3a89c948",
   "metadata": {},
   "outputs": [
    {
     "data": {
      "text/plain": [
       "(389246, 2)"
      ]
     },
     "execution_count": 18,
     "metadata": {},
     "output_type": "execute_result"
    }
   ],
   "source": [
    "final[['fasta_id', 'bitscore']].drop_duplicates().shape"
   ]
  },
  {
   "cell_type": "code",
   "execution_count": 19,
   "id": "eab0b1c6",
   "metadata": {},
   "outputs": [],
   "source": [
    "counts = final.groupby(['fasta_id', 'subunit']).agg(lambda df: len(df))"
   ]
  },
  {
   "cell_type": "code",
   "execution_count": 20,
   "id": "16daa6b2",
   "metadata": {},
   "outputs": [
    {
     "data": {
      "text/plain": [
       "0"
      ]
     },
     "execution_count": 20,
     "metadata": {},
     "output_type": "execute_result"
    }
   ],
   "source": [
    "(counts.start == 2).sum()"
   ]
  },
  {
   "cell_type": "code",
   "execution_count": 21,
   "id": "9ee7157f",
   "metadata": {},
   "outputs": [],
   "source": [
    "final.opt = final.opt.apply(lambda x: None if (not x is None) and (len(x) == 1) else x)\n",
    "final.reset_index(inplace = True)"
   ]
  },
  {
   "cell_type": "code",
   "execution_count": 22,
   "id": "63b63e80",
   "metadata": {},
   "outputs": [
    {
     "name": "stderr",
     "output_type": "stream",
     "text": [
      "100%|████████████████████████████████████████████████████████████████████████████████| 116956/116956 [00:26<00:00, 4456.60it/s]\n"
     ]
    }
   ],
   "source": [
    "def set_N(final, df, t = 'N'):\n",
    "        h = hash(tuple(df[df.subunit == 'alpha'].iloc[0]))\n",
    "        final.at[df.index, 'enz']  = h\n",
    "        final.at[df.index, 'enzt'] = 'N'\n",
    "        final.at[df.index, 'step'] = t\n",
    "\n",
    "for (genome, seq, o), df in tqdm(final.groupby(['genome', 'seq_id', 'operons'])):\n",
    "    if df.opt.iloc[0] == 'BEacbDAG':\n",
    "        if len(df[df.subunit.isin(['b', 'delta'])].fasta_id.unique()) == 1:\n",
    "            set_N(final, df,t = 'N_bdelta')\n",
    "    if df.opt.iloc[0] == 'BEacDbAG':\n",
    "        if len(df[df.subunit.isin(['b', 'delta'])].fasta_id.unique()) == 1:\n",
    "            set_N(final, df, t = 'N_bdelta')\n",
    "    if df.opt.iloc[0] == 'BEacbAG':\n",
    "            set_N(final, df, t = 'N_nodelta')"
   ]
  },
  {
   "cell_type": "code",
   "execution_count": 23,
   "id": "3920f447",
   "metadata": {},
   "outputs": [
    {
     "data": {
      "text/plain": [
       "opt       enzt\n",
       "BEacDbAG  N       461\n",
       "BEacbAG   N       442\n",
       "BEacbDAG  N       397\n",
       "dtype: int64"
      ]
     },
     "execution_count": 23,
     "metadata": {},
     "output_type": "execute_result"
    }
   ],
   "source": [
    "final[['opt', 'enzt', 'enz']].drop_duplicates()[['opt', 'enzt',]].value_counts()"
   ]
  },
  {
   "cell_type": "raw",
   "id": "8c986553",
   "metadata": {},
   "source": [
    "Note:\n",
    "RS_GCF_900096565.1 NZ_FMYP01000086.1 в опероне N  фермента расстояние между субъединицами 266"
   ]
  },
  {
   "cell_type": "code",
   "execution_count": 24,
   "id": "a1ee6878",
   "metadata": {},
   "outputs": [
    {
     "name": "stderr",
     "output_type": "stream",
     "text": [
      "100%|█████████████████████████████████████████████████████████████████████████████████| 115656/115656 [03:26<00:00, 560.30it/s]\n"
     ]
    },
    {
     "data": {
      "text/html": [
       "<div>\n",
       "<style scoped>\n",
       "    .dataframe tbody tr th:only-of-type {\n",
       "        vertical-align: middle;\n",
       "    }\n",
       "\n",
       "    .dataframe tbody tr th {\n",
       "        vertical-align: top;\n",
       "    }\n",
       "\n",
       "    .dataframe thead th {\n",
       "        text-align: right;\n",
       "    }\n",
       "</style>\n",
       "<table border=\"1\" class=\"dataframe\">\n",
       "  <thead>\n",
       "    <tr style=\"text-align: right;\">\n",
       "      <th></th>\n",
       "    </tr>\n",
       "  </thead>\n",
       "  <tbody>\n",
       "  </tbody>\n",
       "</table>\n",
       "</div>"
      ],
      "text/plain": [
       "Empty DataFrame\n",
       "Columns: []\n",
       "Index: []"
      ]
     },
     "execution_count": 24,
     "metadata": {},
     "output_type": "execute_result"
    }
   ],
   "source": [
    "all_subunits = ['alpha', 'beta', 'gamma', 'delta', 'epsilon', 'a', 'b', 'c']\n",
    "def find0(df):\n",
    "    x = df.subunit.to_list()\n",
    "    if len(set(all_subunits) & set(x)) == 8 :\n",
    "        h = hash(tuple(df[df.subunit == 'alpha'].iloc[0]))\n",
    "#         global final\n",
    "        final.at[df.index, 'enz']  = h\n",
    "        final.at[df.index, 'enzt'] = 'single_operon' \n",
    "        final.at[df.index, 'step'] = 'single_operon' \n",
    "\n",
    "final[final.enz.isna()].groupby(['genome', 'seq_id', 'operons']).progress_apply(find0)"
   ]
  },
  {
   "cell_type": "code",
   "execution_count": 25,
   "id": "b0f4b2fe",
   "metadata": {},
   "outputs": [
    {
     "data": {
      "text/plain": [
       "single_operon    19439\n",
       "N                 1300\n",
       "Name: enzt, dtype: int64"
      ]
     },
     "execution_count": 25,
     "metadata": {},
     "output_type": "execute_result"
    }
   ],
   "source": [
    "final[['enz', 'enzt']].drop_duplicates().enzt.value_counts()"
   ]
  },
  {
   "cell_type": "raw",
   "id": "00ec4db5",
   "metadata": {},
   "source": [
    "Note:\n",
    "1 single operon 2 N gives 5184 single operons\n",
    "1 N 2 single operon gives 5095 single operons and 574 N "
   ]
  },
  {
   "cell_type": "code",
   "execution_count": 26,
   "id": "1b8e99c6",
   "metadata": {},
   "outputs": [
    {
     "name": "stderr",
     "output_type": "stream",
     "text": [
      "100%|██████████████████████████████████████████████████████████████████████████████████| 96217/96217 [00:54<00:00, 1769.05it/s]\n"
     ]
    }
   ],
   "source": [
    "for (genome, seq, o), df in tqdm(final[final.enz.isna()].groupby(['genome', 'seq_id', 'operons'])):\n",
    "    x = df.subunit.to_list()\n",
    "    if len(set(['alpha', 'beta', 'gamma', 'delta', 'a', 'b', 'c']) & set(x)) == 7 :\n",
    "        if 'epsilon' in final[(final.genome == genome) & (final.seq_id == seq)].subunit.to_list():\n",
    "            h = hash(tuple(df[df.subunit == 'alpha'].iloc[0]))\n",
    "            final.at[df.index, 'enz']  = h\n",
    "            final.at[df.index, 'enzt'] = 'epsilon_away'\n",
    "            final.at[df.index, 'step'] = 'epsilon_away'"
   ]
  },
  {
   "cell_type": "code",
   "execution_count": 27,
   "id": "9d79e32f",
   "metadata": {},
   "outputs": [
    {
     "data": {
      "text/plain": [
       "single_operon    19439\n",
       "N                 1300\n",
       "epsilon_away       452\n",
       "Name: enzt, dtype: int64"
      ]
     },
     "execution_count": 27,
     "metadata": {},
     "output_type": "execute_result"
    }
   ],
   "source": [
    "final[['enz', 'enzt']].drop_duplicates().enzt.value_counts()"
   ]
  },
  {
   "cell_type": "code",
   "execution_count": 28,
   "id": "02b8ff4e",
   "metadata": {},
   "outputs": [],
   "source": [
    "from collections import Counter\n",
    "def clean_ind(final, index):\n",
    "    # index magic\n",
    "    index_values = final[index].index\n",
    "    df = final[index].copy()\n",
    "    # find duplicates\n",
    "    counter = Counter(df.subunit.to_list())\n",
    "    duplicates = [subunit for subunit, c in counter.items() if c > 1]\n",
    "    if len(duplicates) == 0:\n",
    "        return index\n",
    "    \n",
    "    dup_ind_v   = df[ df.subunit.isin(duplicates)].index\n",
    "    else_ind_v  = df[~df.subunit.isin(duplicates)].index\n",
    "    \n",
    "    \n",
    "    # score duplicates\n",
    "    df.at[dup_ind_v, 'score'] = 0\n",
    "    \n",
    "    else_seqs = df.loc[else_ind_v].seq_id.unique()\n",
    "    df.at[dup_ind_v, 'score'] = df.loc[dup_ind_v, 'score'] + \\\n",
    "            df.loc[dup_ind_v].seq_id.apply(lambda x: int(x in else_seqs))\n",
    "    \n",
    "    else_operons =  df.loc[else_ind_v].operons.unique()\n",
    "    df.at[dup_ind_v, 'else_operons'] = df.loc[dup_ind_v].operons.apply(lambda x: x in else_operons)\n",
    "    \n",
    "    # find max\n",
    "    inferred = []\n",
    "    for _, minidf in df.loc[dup_ind_v].groupby('subunit'):\n",
    "        inferred.append(minidf.score.idxmax()) \n",
    "        inferred += list(minidf[minidf.else_operons].index)\n",
    "    inferred = list(set(inferred))\n",
    "        \n",
    "    # index magic\n",
    "    inferred = pd.Index(inferred)\n",
    "    r_v = else_ind_v.union(inferred)\n",
    "    r = final.index.isin(r_v)\n",
    "    return r\n",
    "\n",
    "### test clean df \n",
    "### GB_GCA_011048855.1  GB_GCA_002434045.1\n",
    "# ind = final.genome == 'GB_GCA_002434045.1'\n",
    "# final[clean_ind(final, ind)]"
   ]
  },
  {
   "cell_type": "code",
   "execution_count": 29,
   "id": "6d849c73",
   "metadata": {},
   "outputs": [
    {
     "name": "stderr",
     "output_type": "stream",
     "text": [
      "100%|███████████████████████████████████████████████████████████████████████████████████| 38588/38588 [06:04<00:00, 105.94it/s]\n"
     ]
    }
   ],
   "source": [
    "for genome, df in tqdm(final[final.enz.isna()].groupby(['genome'])):\n",
    "    operons = df.opt.to_list()\n",
    "    combinations = [\n",
    "        ['acb', 'DAGBE'], \n",
    "        ['acb', 'DAG', 'BE'],\n",
    "        ['acb', 'DA', 'GBE'],\n",
    "        ['acbb', 'DAGBE'], \n",
    "        ['acbb', 'DAG', 'BE'],\n",
    "        ['acbb', 'DA', 'GBE'],\n",
    "        ['acbD', 'AGBE'],\n",
    "        ['acbD', 'AG', 'BE'], \n",
    "        ['acbDA', 'GBE'], \n",
    "        ['acbDAG', 'BE'],       \n",
    "        ['acbA', 'DGBE'],\n",
    "        ['acbA', 'DG', 'BE'],\n",
    "        ['ac', 'bDAGBE'],\n",
    "        ['ac', 'bDAG', 'BE'],\n",
    "        ['acD', 'bAGBE',],\n",
    "        ['acD', 'bAG','BE',],\n",
    "        ['acb', 'bDAG', 'BE'], \n",
    "        ['acbDA', 'DAG', 'BE'],\n",
    "        ['bacbDAG', 'BE'],\n",
    "        ['acbDGA', 'BE'],\n",
    "        ['acbDGAG', 'BE'],\n",
    "        ['acb', 'bDAG', 'BE'],\n",
    "        ['acbDAAG', 'BE'],\n",
    "        ['acbDDAG', 'BE'],\n",
    "        ['acbDDA', 'GBE'],\n",
    "        ['acbD', 'AGGBE'],\n",
    "        ['acbDA', 'GGBE'],\n",
    "        ['acbDA', 'AG', 'BE'],\n",
    "        ['acbDD',  'AGBE'],\n",
    "        ['aacbD', 'AG', 'GBE'],\n",
    "        ['ac', 'bbDAGBE'],\n",
    "        ['acbDADG', 'BE'],\n",
    "        ['acbbDAG', 'BE'],\n",
    "        ['ac', 'bbDAG', 'BE'],\n",
    "        ['acbDA', 'AGB', 'BE'],\n",
    "        \n",
    "    ]\n",
    "    for comb in combinations:\n",
    "        if set(comb) & set(operons)==set(comb):\n",
    "            ind = (final.index.isin(df.index)) & (final.opt.isin(comb))\n",
    "            ind = clean_ind(final, ind)\n",
    "\n",
    "            try:\n",
    "                h = hash(tuple(final[ind][final[ind].subunit == 'alpha'].iloc[0]))\n",
    "                final.at[ind, 'enz'] = h\n",
    "                final.at[ind, 'enzt'] = '_'.join(comb)\n",
    "                final.at[ind, 'step'] = 'w_op'\n",
    "            except:\n",
    "                display(df[ind])\n",
    "        "
   ]
  },
  {
   "cell_type": "code",
   "execution_count": 30,
   "id": "a0c82aad",
   "metadata": {},
   "outputs": [
    {
     "data": {
      "text/plain": [
       "31663"
      ]
     },
     "execution_count": 30,
     "metadata": {},
     "output_type": "execute_result"
    }
   ],
   "source": [
    "final.enz.nunique()"
   ]
  },
  {
   "cell_type": "code",
   "execution_count": null,
   "id": "d3dc35a0",
   "metadata": {},
   "outputs": [],
   "source": []
  },
  {
   "cell_type": "code",
   "execution_count": 31,
   "id": "80a7c261",
   "metadata": {},
   "outputs": [],
   "source": [
    "# # 33568 to 33569 (+1)\n",
    "# final.enz.nunique()"
   ]
  },
  {
   "cell_type": "code",
   "execution_count": 32,
   "id": "a606ed48",
   "metadata": {},
   "outputs": [
    {
     "name": "stderr",
     "output_type": "stream",
     "text": [
      "100%|███████████████████████████████████████████████████████████████████████████████████| 33812/33812 [01:09<00:00, 483.37it/s]\n"
     ]
    }
   ],
   "source": [
    "for (genome), df in tqdm(final[final.enz.isna()].groupby(['genome'])):\n",
    "    operons = df.opt.to_list()\n",
    "    subunits = df[df.opt.isna()].subunit.to_list()\n",
    "    \n",
    "    combinations = [  \n",
    "        [['acbDAG'],          ['beta', 'epsilon']], \n",
    "        [['acbDA', 'BE'],     ['gamma']],\n",
    "        [['acbbDA', 'BE'],    ['gamma']],        \n",
    "        [['ac', 'bDA', 'BE'], ['gamma']],\n",
    "        [['ac', 'GB', 'DA'],  ['b', 'epsilon']],\n",
    "        [['cbDAGBE'],         ['a']],\n",
    "        [['acb', 'AG', 'BE'], ['delta']],\n",
    "        [['acbD', 'AGB'],     ['b', 'epsilon']],\n",
    "        [['acbDG', 'BE'],     ['alpha']],\n",
    "        [['DAGB', 'acb'],     ['epsilon']],\n",
    "        [['DGBE', 'acb'],     ['alpha']],\n",
    "        [['acbDA', 'GB'],     ['epsilon']],\n",
    "        [['acb','AGB'],       ['delta', 'epsilon']],\n",
    "        [['cbDAG','BE'],      ['a']],\n",
    "        [['acbD'],            ['alpha', 'beta', 'gamma', 'epsilon']],\n",
    "        [['cbDA', 'BE'],      ['gamma', 'a']],\n",
    "        [['acb', 'BE'],       ['alpha', 'gamma', 'delta']],\n",
    "        [['cb', 'DAG', 'BE'], ['a']],\n",
    "        [['acbDAGB'],         ['epsilon']],\n",
    "        [['acb', 'AGBE'],     ['delta']],\n",
    "        [['acb', 'DA', 'GB'], ['epsilon']],\n",
    "        [['acbD', 'GBE'],     ['alpha']],\n",
    "        [['cbDA', ],          ['a', 'gamma', 'epsilon', 'beta']],\n",
    "        [['ac','DA', 'BE' ],  ['gamma', 'b']],\n",
    "        [['acbD', 'BE' ],     ['alpha', 'gamma',]],\n",
    "        [['acbD', 'AG' ],     ['beta', 'epsilon']],\n",
    "        [['acb', 'DAG' ],     ['beta', 'epsilon',]],\n",
    "        [['cbDA', 'GBE' ],    ['a',]],\n",
    "        [['ac', 'bDA', 'GB'], ['epsilon',]],\n",
    "        [['acbDA' ],          ['gamma', 'beta', 'epsilon',]],\n",
    "        [['ac', 'bD', 'AG'], ['beta', 'epsilon']],\n",
    "        [['acbDA', 'AG', ], ['beta', 'epsilon']],\n",
    "        [['cbD', 'GG',  'BE'], ['a', 'alpha']],\n",
    "        [['cb', 'DA'], ['a', 'gamma', 'beta', 'epsilon']],\n",
    "        [['acb', 'DA'], ['gamma', 'beta', 'epsilon']],\n",
    "        [['abDAG'], ['c', 'beta', 'epsilon']],\n",
    "        [['acbDDAGG'], ['epsilon']],\n",
    "        [['acDbA', 'AG', 'BE'], ['b']],\n",
    "        [['acDbAG',],[ 'beta', 'epsilon']],\n",
    "        [['acD', 'AG', 'BE'], ['b']],\n",
    "        [['bbDAGBE'], ['a', 'c']],\n",
    "        \n",
    "                    ]\n",
    "    \n",
    "    for comb in combinations:\n",
    "        if set(comb[0])&set(operons)==set(comb[0]) and set(comb[1])&set(subunits)==set(comb[1]):\n",
    "            \n",
    "            ind = (final.index.isin(df.index)) \\\n",
    "                & ((final.opt.isin(comb[0])) | \\\n",
    "                       (final.subunit.isin(comb[1]) & final.opt.isna())\n",
    "                  )\n",
    "            ind = clean_ind(final, ind)\n",
    "            \n",
    "            h = hash(tuple(final[ind][final[ind].subunit == 'alpha'].iloc[0]))\n",
    "            final.at[ind, 'enz'] = h\n",
    "            final.at[ind, 'enzt'] = '_'.join(comb[0] + comb[1])\n",
    "            final.at[ind, 'step'] = 'op+subs'\n",
    "    "
   ]
  },
  {
   "cell_type": "code",
   "execution_count": 33,
   "id": "4a19db4f",
   "metadata": {},
   "outputs": [
    {
     "data": {
      "text/plain": [
       "32611"
      ]
     },
     "execution_count": 33,
     "metadata": {},
     "output_type": "execute_result"
    }
   ],
   "source": [
    "final.enz.nunique()"
   ]
  },
  {
   "cell_type": "code",
   "execution_count": 34,
   "id": "9afb9090",
   "metadata": {},
   "outputs": [],
   "source": [
    "# 35503 into 35503 (0)\n",
    "# final.enz.nunique()"
   ]
  },
  {
   "cell_type": "code",
   "execution_count": 35,
   "id": "c94103cf",
   "metadata": {},
   "outputs": [
    {
     "name": "stderr",
     "output_type": "stream",
     "text": [
      "100%|███████████████████████████████████████████████████████████████████████████████████| 33504/33504 [00:38<00:00, 863.75it/s]\n"
     ]
    }
   ],
   "source": [
    "## \n",
    "## eg: a bDAGBE cbAGBE\n",
    "for (genome), df in tqdm(final[final.enz.isna()].groupby(['genome'])):\n",
    "    if not len(set(df.subunit.to_list())&set(all_subunits)) == 8:\n",
    "        continue\n",
    "    if len(df) > 14: # один из фильтров на 2 фермента\n",
    "        continue\n",
    "        \n",
    "    ind = (final.index.isin(df.index)) \n",
    "    ind = clean_ind(final, ind) # зафейлит на a,bDAGBE,cbAGBE\n",
    "    \n",
    "    counter = Counter(final[ind].subunit.to_list())\n",
    "    if counter['alpha'] > 1 and counter['beta'] > 1 and ((counter['gamma'] > 1) or (counter['epsilon'] > 1)):\n",
    "        continue\n",
    "    \n",
    "    operons  = final[ind][['opt', 'operons']].drop_duplicates().opt.dropna().to_list()\n",
    "    subunits = final[ind][final[ind].opt.isna()].subunit.to_list()\n",
    "   \n",
    "    name = operons + subunits\n",
    "    sort_key = {'a' : 0,  'b': 1,  'c' : 3,\n",
    "                'D' : 4,  'delta':5,\n",
    "                'A':6,    'alpha':7, \n",
    "                'G':8,    'gamma':9,\n",
    "                'B' :10,  'beta':11,  \n",
    "                'E':12,   'epsilon':13 }\n",
    "\n",
    "    name = sorted(name, key = lambda x: sort_key[x] if x in all_subunits else sort_key[x[0]])\n",
    "    \n",
    "    h = hash(tuple(final[ind][final[ind].subunit.isin(['alpha', 'beta'])].iloc[0]))\n",
    "    final.at[ind, 'enz'] = h\n",
    "    final.at[ind, 'enzt'] = '_'.join(name)\n",
    "    final.at[ind, 'step'] = 'inf_whole'\n",
    "#     print('_'.join(name))\n"
   ]
  },
  {
   "cell_type": "code",
   "execution_count": 36,
   "id": "de191304",
   "metadata": {},
   "outputs": [
    {
     "data": {
      "text/plain": [
       "33976"
      ]
     },
     "execution_count": 36,
     "metadata": {},
     "output_type": "execute_result"
    }
   ],
   "source": [
    "final.enz.nunique()"
   ]
  },
  {
   "cell_type": "code",
   "execution_count": 37,
   "id": "dabab0c6",
   "metadata": {},
   "outputs": [],
   "source": [
    "# # 37945 into 37945 (0)\n",
    "# final.enz.nunique()"
   ]
  },
  {
   "cell_type": "code",
   "execution_count": 38,
   "id": "43f482d1",
   "metadata": {},
   "outputs": [
    {
     "name": "stderr",
     "output_type": "stream",
     "text": [
      "100%|████████████████████████████████████████████████████████████████████████████████████| 33042/33042 [09:48<00:00, 56.15it/s]\n"
     ]
    }
   ],
   "source": [
    "# needs to run two times\n",
    "\n",
    "for (genome), df in tqdm(final[final.enz.isna()].groupby(['genome'])):\n",
    "    combinations = [ \n",
    "\n",
    "        [['BEacbD'], ['gamma']], #no_alpha\n",
    "        [['acbDAG'], ['epsilon']], #no_beta\n",
    "        [['acbDA'], ['gamma']], #no_beta #no_epsilon\n",
    "        [['acbDAG'], []], #no_beta #no_epsilon\n",
    "        [['cbDA', 'BE' ], ['gamma']],#no_a\n",
    "        [['cbDAG', 'BE'], []], #no_a\n",
    "        [['bDAGBE'], []], #no_a #no_c\n",
    "        [['AGBE'], ['b']], #no_a #no_c\n",
    "        [['abDAG',  'BE'], []],#no_c\n",
    "        [['bD', 'AG', 'BE'], ['a']], #no_c\n",
    "        [['ac', 'DA', 'BE'], ['gamma']], #no_b\n",
    "        [['acb', 'AGBE' ], []], #no_delta\n",
    "        [['acbDA', 'BE'], []],  #no_gamma \n",
    "        [['acbD', 'AG'], ['beta']],  #no_epsilon\n",
    "        [['acbDAGB'], []], #no_epsilon, \n",
    "        [['acbAGBE'], []], #no_delta\n",
    "        [['AAEcbDGB'], []], #no_a\n",
    "        [['acbAG'], ['beta', 'epsilon']], #no_delta\n",
    "        [['cbAGBE'], ['a']], #no_delta \n",
    "#         [[], []],    \n",
    "                    ]\n",
    "    \n",
    "    for comb in combinations:\n",
    "        operons  = df[(df.enz.isna())].opt.dropna().to_list()\n",
    "        subunits = df[(df.enz.isna()) & (df.opt.isna())].subunit.to_list()\n",
    "        \n",
    "        if set(comb[0])&set(operons)==set(comb[0])  and set(comb[1])&set(subunits)==set(comb[1]):\n",
    "            \n",
    "            ind = (final.index.isin(df.index)) \\\n",
    "                & (final.opt.isin(comb[0]) | (final.subunit.isin(comb[1]) & final.opt.isna()) )              \n",
    "            ind = clean_ind(final, ind)\n",
    "\n",
    "            \n",
    "            h = hash(tuple(final[ind][final[ind].opt.isin(comb[0])].iloc[0]))\n",
    "            final.at[ind, 'enz']  = h\n",
    "            final.at[ind, 'enzt'] = '_' + '_'.join(comb[0] + comb[1])\n",
    "            final.at[ind, 'step'] = 'partial'\n",
    "            break\n",
    "#             print(final[ind])\n",
    "#             print(~df.index.isin(final[ind].index))\n",
    "    "
   ]
  },
  {
   "cell_type": "code",
   "execution_count": 70,
   "id": "f70b4b8f",
   "metadata": {},
   "outputs": [],
   "source": [
    "# final[final.genome == 'RS_GCF_903644075.1']"
   ]
  },
  {
   "cell_type": "code",
   "execution_count": 39,
   "id": "a27c86e2",
   "metadata": {},
   "outputs": [
    {
     "name": "stderr",
     "output_type": "stream",
     "text": [
      "100%|███████████████████████████████████████████████████████████████████████████████████| 32370/32370 [02:09<00:00, 249.85it/s]\n"
     ]
    }
   ],
   "source": [
    "for (genome), df in tqdm(final[final.enz.isna()].groupby(['genome'])):\n",
    "# for (genome), df in final[final.seq_id == 'DFZJ01000138.1'].groupby(['genome']):\n",
    "    if not len(set(df.subunit.to_list())&set(all_subunits)) >= 5:\n",
    "        continue\n",
    "    if len(df) > 12:\n",
    "        continue\n",
    "    \n",
    "    ind = (final.index.isin(df.index)) \n",
    "    ind = clean_ind(final, ind)\n",
    "    \n",
    "    operons  = final[ind][['opt', 'operons']].drop_duplicates().opt.dropna().to_list()\n",
    "    subunits = final[ind][final[ind].opt.isna()].subunit.to_list()\n",
    "   \n",
    "    sort_key = {'a' : 0,  'b': 1,  'c' : 3,\n",
    "                'D' : 4,  'delta':5,\n",
    "                'A':6,    'alpha':7, \n",
    "                'G':8,    'gamma':9,\n",
    "                'B' :10,  'beta':11,  \n",
    "                'E':12,   'epsilon':13 }\n",
    "\n",
    "\n",
    "    name = operons + subunits\n",
    "    name = sorted(name, key = lambda x: sort_key[x] if x in all_subunits else sort_key[x[0]])\n",
    "\n",
    "    \n",
    "    h = hash(tuple(final[ind].iloc[0]))\n",
    "    final.at[ind, 'enz'] = h\n",
    "    final.at[ind, 'enzt'] = '_'+ '_'.join(name)\n",
    "    final.at[ind, 'step'] = 'inf_partial'"
   ]
  },
  {
   "cell_type": "code",
   "execution_count": 40,
   "id": "aadb3156",
   "metadata": {},
   "outputs": [
    {
     "data": {
      "text/plain": [
       "41282"
      ]
     },
     "execution_count": 40,
     "metadata": {},
     "output_type": "execute_result"
    }
   ],
   "source": [
    "final.enz.nunique()"
   ]
  },
  {
   "cell_type": "code",
   "execution_count": 41,
   "id": "21820dd2",
   "metadata": {},
   "outputs": [],
   "source": [
    "# #42454 into 42461 (+7)\n",
    "# final.enz.nunique()"
   ]
  },
  {
   "cell_type": "code",
   "execution_count": 42,
   "id": "0bcc6472",
   "metadata": {},
   "outputs": [],
   "source": [
    "final.to_csv('genomes_info_F_enz_v1.csv', index =  False)"
   ]
  },
  {
   "cell_type": "code",
   "execution_count": 43,
   "id": "dd223f10",
   "metadata": {},
   "outputs": [],
   "source": [
    "final = pd.read_csv('genomes_info_F_enz_v1.csv')"
   ]
  },
  {
   "cell_type": "code",
   "execution_count": 44,
   "id": "e218a33d",
   "metadata": {},
   "outputs": [],
   "source": [
    "# test NZ_FMYP01000086.1\n",
    "# final = final[final.seq_id == 'NZ_FMYP01000086.1']"
   ]
  },
  {
   "cell_type": "code",
   "execution_count": 45,
   "id": "e6282bf8",
   "metadata": {},
   "outputs": [],
   "source": [
    "'''\n",
    "Логика в этом поиске:\n",
    "некоторые N ферменты оказались в разных оперонах из-за расстояния ~250 между генами\n",
    "Нужно проверить расстояние между оперонами в \"генах\" и посмотреть \n",
    "либо срощение b и delta либо отсутствие delta\n",
    "'''\n",
    "\n",
    "for _, df in final.groupby('enz'):\n",
    "    df = df[df.enzt != 'N']\n",
    "    subunits = df.subunit.to_list()\n",
    "    if not set(subunits) == set(['alpha', 'beta', 'gamma', 'delta', 'epsilon', 'a', 'b', 'c']):\n",
    "        continue\n",
    "    if not df.seq_id.nunique() == 1:\n",
    "        continue\n",
    "        \n",
    "    if len(df[df.subunit.isin(['b', 'delta'])].fasta_id.unique()) == 1:\n",
    "        ep_N = df[df.subunit == 'epsilon'].N.iloc[0]\n",
    "        a_N  = df[df.subunit == 'a'      ].N.iloc[0]\n",
    "        if abs(ep_N-a_N) == 3:\n",
    "            final.at[df.index, 'enzt'] = 'N'\n",
    "            final.at[df.index, 'step'] = df.step.iloc[0] + '_N_bdelta'"
   ]
  },
  {
   "cell_type": "code",
   "execution_count": 46,
   "id": "aae27f74",
   "metadata": {},
   "outputs": [],
   "source": [
    "for _, df in final.groupby('enz'):\n",
    "    df = df[df.enzt != 'N']\n",
    "    subunits = df.subunit.to_list()\n",
    "    if not set(subunits) == set(['alpha', 'beta', 'gamma', 'epsilon', 'a', 'b', 'c']):\n",
    "        continue\n",
    "    if not df.seq_id.nunique() == 1:\n",
    "        continue    \n",
    "    ep_N = df[df.subunit == 'epsilon'].N.iloc[0]\n",
    "    a_N  = df[df.subunit == 'a'      ].N.iloc[0]\n",
    "    if abs(ep_N-a_N) == 3:\n",
    "        final.at[df.index, 'enzt'] = 'N'\n",
    "        final.at[df.index, 'step'] = df.step.iloc[0] + '_N_nodelta'"
   ]
  },
  {
   "cell_type": "code",
   "execution_count": 47,
   "id": "dcab020e",
   "metadata": {},
   "outputs": [],
   "source": [
    "#N test seq_id == 'NZ_FMYP01000086.1 NZ_FMWO01000048.1 'DFZJ01000138.1'\n",
    "# final[final.seq_id == 'DFZJ01000138.1']"
   ]
  },
  {
   "cell_type": "code",
   "execution_count": 122,
   "id": "1c473777",
   "metadata": {},
   "outputs": [],
   "source": [
    "final['enzFN'] = final.enzt.apply(lambda x: 'N' if x == 'N' else 'F')"
   ]
  },
  {
   "cell_type": "code",
   "execution_count": 49,
   "id": "53a5bd22",
   "metadata": {},
   "outputs": [],
   "source": [
    "final.to_csv('genomes_info_F_enz_v2.csv', index=  False)"
   ]
  },
  {
   "cell_type": "markdown",
   "id": "fa66fe14",
   "metadata": {},
   "source": [
    "# check double cats in enzymes"
   ]
  },
  {
   "cell_type": "code",
   "execution_count": 144,
   "id": "3645f9dd",
   "metadata": {},
   "outputs": [],
   "source": [
    "final = pd.read_csv('genomes_info_F_enz_v2.csv')"
   ]
  },
  {
   "cell_type": "code",
   "execution_count": 145,
   "id": "36d069ba",
   "metadata": {},
   "outputs": [],
   "source": [
    "cols = [ 'bitscore','logevalue',  'subunit', 'strand', 'ID', 'N','operons', 'enz', 'opt', 'enzt', 'step','enzFN','fasta_id']"
   ]
  },
  {
   "cell_type": "code",
   "execution_count": 149,
   "id": "6f30d2a0",
   "metadata": {},
   "outputs": [],
   "source": [
    "normal = ['_acbb_DAAGBB', 'BBEacbDAAG', 'acbDAAGBBE', 'BBEacbDAAG', '_acbb_DAAGBB']\n",
    "\n",
    "final_version = final[~final.opt .isin(normal)]\n",
    "final_version = final_version[~final_version.enzt.isin(normal)]\n",
    "\n",
    "alpha_in_enzyme = final_version.groupby('enz').apply(lambda x: (x.subunit == 'alpha').sum())\n",
    "beta_in_enzyme  = final_version.groupby('enz').apply(lambda x: (x.subunit == 'beta').sum())\n",
    "# venn2([\n",
    "#     set(alpha_in_enzyme[alpha_in_enzyme == 2].index), \n",
    "#     set(beta_in_enzyme [beta_in_enzyme == 2].index), \n",
    "# ])"
   ]
  },
  {
   "cell_type": "code",
   "execution_count": 150,
   "id": "fab26a06",
   "metadata": {},
   "outputs": [
    {
     "name": "stdout",
     "output_type": "stream",
     "text": [
      "0\n"
     ]
    }
   ],
   "source": [
    "double = set(alpha_in_enzyme[alpha_in_enzyme == 2].index) & set(beta_in_enzyme[beta_in_enzyme == 2].index)\n",
    "print(len(double))"
   ]
  },
  {
   "cell_type": "code",
   "execution_count": 142,
   "id": "4080c6f6",
   "metadata": {},
   "outputs": [],
   "source": [
    "# for en in double:\n",
    "#     print(final[final.enz == en].enzt.unique())    "
   ]
  },
  {
   "cell_type": "code",
   "execution_count": 143,
   "id": "827e1dec",
   "metadata": {},
   "outputs": [],
   "source": [
    "# n = 1\n",
    "# final[final.genome == final[final.enz == list(double)[n]].genome.iloc[0]][cols + ['genome']]\\\n",
    "# .sort_values(['enz'])"
   ]
  },
  {
   "cell_type": "code",
   "execution_count": 120,
   "id": "2d43a531",
   "metadata": {},
   "outputs": [],
   "source": [
    "# final[final.genome == 'GB_GCA_012719135.1'][cols]"
   ]
  },
  {
   "cell_type": "code",
   "execution_count": 148,
   "id": "d092dc8d",
   "metadata": {},
   "outputs": [],
   "source": [
    "ind = final.ID.isin(['467_1', '467_2', '467_2', '467_4', '467_5', '142_14', '142_15'])\n",
    "final.at[ind, 'enzt']  = '_acbDA_BE'; final.at[ind, 'enz']  = 5; \n",
    "\n",
    "\n",
    "ind = ((final.operons == 'JAAYAW010000079.1-3.0') & (final.N.isin([40, 41, 42, 43, 44, 45, 46, 47])))\n",
    "final.at[ind, 'enzt']  = 'N'; final.at[ind, 'enzFN']  = 'N'; final.at[ind, 'enz']  = 4; \n",
    "\n",
    "ind = ((final.operons == 'JAAYAW010000079.1-3.0') & (final.N.isin([29, 30, 31, 32, 33, 34, 35, 36])))\n",
    "final.at[ind, 'opt']  = 'acbDAGBE';\n",
    "\n",
    "\n",
    "ind = (final.operons == 'MFPH01000013.1+0.0')\n",
    "final.at[ind, 'enzt']  = '_DAGBE'; final.at[ind, 'enz']  = 1\n",
    "\n",
    "ind = (final.operons == 'MFPH01000034.1-0.0')\n",
    "final.at[ind, 'enzt']  = '_cbAGBE'; \n",
    "\n",
    "ind = (final.operons == 'NZ_FNPJ01000029.1+0.0')\n",
    "final.at[ind, 'enzt']  = '_acbDAGB';\n",
    "\n",
    "ind = (final.operons == 'NZ_FNPJ01000081.1+1.0')\n",
    "final.at[ind, 'enzt']  = 'N'; final.at[ind, 'enzFN']  = 'N'; final.at[ind, 'enz']  = 2;\n",
    "\n",
    "ind = (final.operons == 'DIZP01000011.1-1.0')\n",
    "final.at[ind, 'enzt']  = '_a_bDAGB'; \n",
    "\n",
    "ind = (final.operons == 'DIZP01000037.1+1.0') | (final.fasta_id == 'DIZP01000003.1_4')\n",
    "final.at[ind, 'enzt']  = '_DAGBE'; final.at[ind, 'enz']  = 3; \n",
    "\n",
    "# ind = (final.seq_id == 'JAAYAW010000079.1') & (final.N.isin([47, 46, 44, 43, 42, 41, 40]))\n",
    "# final.at[ind, 'enzt'] = 'N'; final.at[ind, 'enz']  = 'a'\n",
    "\n",
    "# ind = (final.seq_id == 'NZ_FNPJ01000081.1') & (final.N.isin([6, 7, 9, 10, 11, 12]))\n",
    "# final.at[ind, 'enzt'] = 'N'; final.at[ind, 'enz']  = 'b'; final.at[ind, 'step']  = 'manual_N'\n",
    "\n",
    "\n",
    "# ind = (final.seq_id == 'NZ_FNPJ01000081.1') & (final.N.isin([6, 7, 9, 10, 11, 12]))\n",
    "# final.at[ind, 'enzt'] = 'N'; final.at[ind, 'enz']  = 'c'; final.at[ind, 'step']  = 'manual_N'"
   ]
  },
  {
   "cell_type": "code",
   "execution_count": 151,
   "id": "7a959d3c",
   "metadata": {},
   "outputs": [],
   "source": [
    "final.to_csv('genomes_info_F_enz_v3.csv', index=  False)"
   ]
  },
  {
   "cell_type": "code",
   "execution_count": 54,
   "id": "b23e5a4c",
   "metadata": {},
   "outputs": [],
   "source": [
    "# final[final.genome == 'GB_GCA_012719135.1'][cols]"
   ]
  },
  {
   "cell_type": "code",
   "execution_count": 56,
   "id": "e3162596",
   "metadata": {},
   "outputs": [],
   "source": [
    "# tmp = final[['genome', 'seq_id', 'enzt', 'enz', 'opt']].drop_duplicates()"
   ]
  },
  {
   "cell_type": "code",
   "execution_count": 57,
   "id": "a34f4d64",
   "metadata": {},
   "outputs": [],
   "source": [
    "# tmp[tmp .enz.isin(list(double))].sort_values('enzt').groupby('genome').apply(lambda x: display(x))"
   ]
  },
  {
   "cell_type": "code",
   "execution_count": 58,
   "id": "6399b43f",
   "metadata": {},
   "outputs": [],
   "source": [
    "# final[final.genome == 'RS_GCF_000614065.1'][cols]"
   ]
  },
  {
   "cell_type": "code",
   "execution_count": 59,
   "id": "cb1dc788",
   "metadata": {},
   "outputs": [],
   "source": [
    "# ! grep GB_GCA_002423025 ../gtdb_info/gtdb_taxonomy.csv"
   ]
  },
  {
   "cell_type": "code",
   "execution_count": 60,
   "id": "822362cb",
   "metadata": {},
   "outputs": [],
   "source": [
    "# final[final.enz.isin(double)].enzt.unique()"
   ]
  },
  {
   "cell_type": "raw",
   "id": "55a8e0bf",
   "metadata": {},
   "source": [
    "cbD, AG, beta, epsilon, a\n",
    "cbAG, abD, AG, BE ??\n",
    "EacbD AG"
   ]
  },
  {
   "cell_type": "raw",
   "id": "ffe018c7",
   "metadata": {},
   "source": [
    "Notes:\n",
    "GCA_000371825.1 -- no alpha\n",
    "GCA_000431075, GCA_000431515 GCA_000432375 -- alpha срощена с дельтой\n",
    "GCA_002692105 -- alpha срощена с gamma\n",
    "GCA_001513395 --  and delta?? not N!\n",
    "\n",
    "HF986284.1_36 -- it's alpha however bitscore 53.1\n",
    "'MKSR01000029.1_233' GCA_001898145.1 должено быть с\n",
    "\n",
    "\n",
    "RS_GCF_011764585.1 -- two N\n",
    "\n",
    "RS_GCF_000316985.1 -- two enzymes acbDAG+BE нельзя различить части"
   ]
  },
  {
   "cell_type": "markdown",
   "id": "6627cda1",
   "metadata": {},
   "source": [
    "# Check unassigned subunits"
   ]
  },
  {
   "cell_type": "code",
   "execution_count": 61,
   "id": "218b9c24",
   "metadata": {},
   "outputs": [],
   "source": [
    "# final = pd.read_csv('genomes_info_F_enz.csv')"
   ]
  },
  {
   "cell_type": "code",
   "execution_count": 62,
   "id": "e2102448",
   "metadata": {},
   "outputs": [
    {
     "data": {
      "text/plain": [
       "435"
      ]
     },
     "execution_count": 62,
     "metadata": {},
     "output_type": "execute_result"
    }
   ],
   "source": [
    "l = []\n",
    "for i, df in final[final.enz.isna()].groupby('genome'):\n",
    "    vc = dict(df.subunit.value_counts())\n",
    "    vc['genome'] = i\n",
    "    l.append(vc)\n",
    "    \n",
    "noncanonical = pd.DataFrame(l)\n",
    "noncanonical = noncanonical.set_index('genome')\n",
    "noncanonical[['alpha', 'beta']].notna().all(axis = 1).sum()"
   ]
  },
  {
   "cell_type": "code",
   "execution_count": 63,
   "id": "8ad9d33b",
   "metadata": {},
   "outputs": [
    {
     "data": {
      "text/plain": [
       "143"
      ]
     },
     "execution_count": 63,
     "metadata": {},
     "output_type": "execute_result"
    }
   ],
   "source": [
    "noncanonical[['alpha', 'beta', 'c']].notna().all(axis = 1).sum()"
   ]
  },
  {
   "cell_type": "code",
   "execution_count": 64,
   "id": "101697c7",
   "metadata": {},
   "outputs": [
    {
     "data": {
      "text/plain": [
       "121"
      ]
     },
     "execution_count": 64,
     "metadata": {},
     "output_type": "execute_result"
    }
   ],
   "source": [
    "noncanonical[['alpha', 'beta', 'c', 'a']].notna().all(axis = 1).sum()"
   ]
  },
  {
   "cell_type": "code",
   "execution_count": 65,
   "id": "6f197306",
   "metadata": {},
   "outputs": [
    {
     "data": {
      "text/html": [
       "<div>\n",
       "<style scoped>\n",
       "    .dataframe tbody tr th:only-of-type {\n",
       "        vertical-align: middle;\n",
       "    }\n",
       "\n",
       "    .dataframe tbody tr th {\n",
       "        vertical-align: top;\n",
       "    }\n",
       "\n",
       "    .dataframe thead th {\n",
       "        text-align: right;\n",
       "    }\n",
       "</style>\n",
       "<table border=\"1\" class=\"dataframe\">\n",
       "  <thead>\n",
       "    <tr style=\"text-align: right;\">\n",
       "      <th></th>\n",
       "      <th>b</th>\n",
       "      <th>c</th>\n",
       "      <th>alpha</th>\n",
       "      <th>beta</th>\n",
       "      <th>delta</th>\n",
       "      <th>gamma</th>\n",
       "      <th>epsilon</th>\n",
       "      <th>a</th>\n",
       "    </tr>\n",
       "    <tr>\n",
       "      <th>genome</th>\n",
       "      <th></th>\n",
       "      <th></th>\n",
       "      <th></th>\n",
       "      <th></th>\n",
       "      <th></th>\n",
       "      <th></th>\n",
       "      <th></th>\n",
       "      <th></th>\n",
       "    </tr>\n",
       "  </thead>\n",
       "  <tbody>\n",
       "    <tr>\n",
       "      <th>GB_GCA_001303025.1</th>\n",
       "      <td>4.0</td>\n",
       "      <td>3.0</td>\n",
       "      <td>2.0</td>\n",
       "      <td>1.0</td>\n",
       "      <td>1.0</td>\n",
       "      <td>1.0</td>\n",
       "      <td>1.0</td>\n",
       "      <td>2.0</td>\n",
       "    </tr>\n",
       "    <tr>\n",
       "      <th>GB_GCA_001304425.1</th>\n",
       "      <td>3.0</td>\n",
       "      <td>3.0</td>\n",
       "      <td>1.0</td>\n",
       "      <td>2.0</td>\n",
       "      <td>3.0</td>\n",
       "      <td>2.0</td>\n",
       "      <td>3.0</td>\n",
       "      <td>3.0</td>\n",
       "    </tr>\n",
       "    <tr>\n",
       "      <th>GB_GCA_001314685.1</th>\n",
       "      <td>3.0</td>\n",
       "      <td>1.0</td>\n",
       "      <td>2.0</td>\n",
       "      <td>2.0</td>\n",
       "      <td>2.0</td>\n",
       "      <td>1.0</td>\n",
       "      <td>2.0</td>\n",
       "      <td>1.0</td>\n",
       "    </tr>\n",
       "    <tr>\n",
       "      <th>GB_GCA_001657325.1</th>\n",
       "      <td>5.0</td>\n",
       "      <td>2.0</td>\n",
       "      <td>1.0</td>\n",
       "      <td>1.0</td>\n",
       "      <td>3.0</td>\n",
       "      <td>1.0</td>\n",
       "      <td>2.0</td>\n",
       "      <td>2.0</td>\n",
       "    </tr>\n",
       "    <tr>\n",
       "      <th>GB_GCA_001789745.1</th>\n",
       "      <td>2.0</td>\n",
       "      <td>2.0</td>\n",
       "      <td>1.0</td>\n",
       "      <td>2.0</td>\n",
       "      <td>3.0</td>\n",
       "      <td>2.0</td>\n",
       "      <td>2.0</td>\n",
       "      <td>1.0</td>\n",
       "    </tr>\n",
       "    <tr>\n",
       "      <th>GB_GCA_001797845.1</th>\n",
       "      <td>5.0</td>\n",
       "      <td>1.0</td>\n",
       "      <td>2.0</td>\n",
       "      <td>1.0</td>\n",
       "      <td>1.0</td>\n",
       "      <td>2.0</td>\n",
       "      <td>1.0</td>\n",
       "      <td>2.0</td>\n",
       "    </tr>\n",
       "    <tr>\n",
       "      <th>GB_GCA_001873935.1</th>\n",
       "      <td>4.0</td>\n",
       "      <td>2.0</td>\n",
       "      <td>2.0</td>\n",
       "      <td>2.0</td>\n",
       "      <td>2.0</td>\n",
       "      <td>1.0</td>\n",
       "      <td>1.0</td>\n",
       "      <td>2.0</td>\n",
       "    </tr>\n",
       "    <tr>\n",
       "      <th>GB_GCA_002327415.1</th>\n",
       "      <td>3.0</td>\n",
       "      <td>2.0</td>\n",
       "      <td>2.0</td>\n",
       "      <td>2.0</td>\n",
       "      <td>1.0</td>\n",
       "      <td>2.0</td>\n",
       "      <td>2.0</td>\n",
       "      <td>1.0</td>\n",
       "    </tr>\n",
       "    <tr>\n",
       "      <th>GB_GCA_002335355.1</th>\n",
       "      <td>4.0</td>\n",
       "      <td>1.0</td>\n",
       "      <td>2.0</td>\n",
       "      <td>3.0</td>\n",
       "      <td>2.0</td>\n",
       "      <td>2.0</td>\n",
       "      <td>1.0</td>\n",
       "      <td>2.0</td>\n",
       "    </tr>\n",
       "    <tr>\n",
       "      <th>GB_GCA_002367235.1</th>\n",
       "      <td>2.0</td>\n",
       "      <td>2.0</td>\n",
       "      <td>2.0</td>\n",
       "      <td>3.0</td>\n",
       "      <td>2.0</td>\n",
       "      <td>2.0</td>\n",
       "      <td>2.0</td>\n",
       "      <td>2.0</td>\n",
       "    </tr>\n",
       "  </tbody>\n",
       "</table>\n",
       "</div>"
      ],
      "text/plain": [
       "                      b    c  alpha  beta  delta  gamma  epsilon    a\n",
       "genome                                                               \n",
       "GB_GCA_001303025.1  4.0  3.0    2.0   1.0    1.0    1.0      1.0  2.0\n",
       "GB_GCA_001304425.1  3.0  3.0    1.0   2.0    3.0    2.0      3.0  3.0\n",
       "GB_GCA_001314685.1  3.0  1.0    2.0   2.0    2.0    1.0      2.0  1.0\n",
       "GB_GCA_001657325.1  5.0  2.0    1.0   1.0    3.0    1.0      2.0  2.0\n",
       "GB_GCA_001789745.1  2.0  2.0    1.0   2.0    3.0    2.0      2.0  1.0\n",
       "GB_GCA_001797845.1  5.0  1.0    2.0   1.0    1.0    2.0      1.0  2.0\n",
       "GB_GCA_001873935.1  4.0  2.0    2.0   2.0    2.0    1.0      1.0  2.0\n",
       "GB_GCA_002327415.1  3.0  2.0    2.0   2.0    1.0    2.0      2.0  1.0\n",
       "GB_GCA_002335355.1  4.0  1.0    2.0   3.0    2.0    2.0      1.0  2.0\n",
       "GB_GCA_002367235.1  2.0  2.0    2.0   3.0    2.0    2.0      2.0  2.0"
      ]
     },
     "execution_count": 65,
     "metadata": {},
     "output_type": "execute_result"
    }
   ],
   "source": [
    "noncanonical[noncanonical[['alpha', 'beta', 'c', 'a', 'b', 'delta', 'gamma', 'epsilon']]\\\n",
    "             .notna().all(axis = 1)].head(10)\n",
    "# .sort_values('alpha', ascending = False)\\"
   ]
  },
  {
   "cell_type": "code",
   "execution_count": 66,
   "id": "46570fc4",
   "metadata": {},
   "outputs": [],
   "source": [
    "# final[final.genome == 'GB_GCA_001304425.1'].sort_values(['enz', 'operons'])[cols]"
   ]
  },
  {
   "cell_type": "raw",
   "id": "5366ee6f",
   "metadata": {},
   "source": [
    "ac bbDAGBEE\n",
    "bbDAGB a, c, epsilon\n",
    "acAG, BE, b #no_delta\n",
    "aacbD, AGB, epsilon"
   ]
  },
  {
   "cell_type": "code",
   "execution_count": 67,
   "id": "ed17909b",
   "metadata": {},
   "outputs": [],
   "source": [
    "# s = 'a'\n",
    "# dfs[s][dfs[s].genome == 'GB_GCA_002691565.1']"
   ]
  },
  {
   "cell_type": "code",
   "execution_count": 68,
   "id": "a3357378",
   "metadata": {},
   "outputs": [],
   "source": [
    "# final[['enz', 'enzt']].drop_duplicates().enzt.value_counts()[:40]"
   ]
  },
  {
   "cell_type": "raw",
   "id": "3e52a66a",
   "metadata": {},
   "source": [
    "?acDbAG ?\n",
    "beta + E__acDbAG -- это N"
   ]
  },
  {
   "cell_type": "raw",
   "id": "237b94e3",
   "metadata": {},
   "source": [
    "# RS_GCF_900760125.1 and RS_GCF_002289455.1 совпал hash step=partial"
   ]
  },
  {
   "cell_type": "raw",
   "id": "e62e6b2d",
   "metadata": {},
   "source": [
    "acbD AGBE\n",
    "acbAGBE\n",
    "\n",
    "GB_GCA_001897305.1 -- b, DAGBE, AG, BE -- no_a anyway c?\n",
    "GB_GCA_001771135   -- _b_DAGBE_BA -- no_a anyway c? however additional AB\n",
    "'GB_GCA_002434045.1' - interesting genome, three enzymes\n",
    "\n",
    "GB_GCA_003141615.1 -- which bis chosen? check"
   ]
  },
  {
   "cell_type": "raw",
   "id": "4e7a597a",
   "metadata": {},
   "source": [
    "GB_GCA_000405345.1 -- только N?\n",
    "RS_GCF_900079095.1 -- тоже только N"
   ]
  },
  {
   "cell_type": "code",
   "execution_count": null,
   "id": "97854a38",
   "metadata": {},
   "outputs": [],
   "source": []
  },
  {
   "cell_type": "code",
   "execution_count": null,
   "id": "0abc3160",
   "metadata": {},
   "outputs": [],
   "source": []
  }
 ],
 "metadata": {
  "kernelspec": {
   "display_name": "Python 3 (ipykernel)",
   "language": "python",
   "name": "python3"
  },
  "language_info": {
   "codemirror_mode": {
    "name": "ipython",
    "version": 3
   },
   "file_extension": ".py",
   "mimetype": "text/x-python",
   "name": "python",
   "nbconvert_exporter": "python",
   "pygments_lexer": "ipython3",
   "version": "3.9.5"
  }
 },
 "nbformat": 4,
 "nbformat_minor": 5
}
