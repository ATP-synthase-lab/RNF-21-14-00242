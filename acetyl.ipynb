{
 "cells": [
  {
   "cell_type": "raw",
   "id": "6b36869b",
   "metadata": {},
   "source": [
    "Предлагается провести первичное очерчивание множества, среди которого должно быть подмножество искомых организмов, используя следующие критерии:\n",
    "1) присутствие гена ацетил-КоА синтазы (PF03598 (CdhC))\n",
    "2) отсутствие гена каталитической субъединицы Ech-гидрогеназы (PF00374 (NiFeSe_Hases) плюс PF00346 (Complex1_49kDa))\n",
    "3) отсутствие гена субъединицы RnfD комплекса Rnf и генов редко встречающихся гомологов RnfD (PF03116 (NQR2_RnfD_RnfE))\n",
    "\n",
    "\"а в случае с гидрогеназой - также наличие двух мотивов CxxC\""
   ]
  },
  {
   "cell_type": "raw",
   "id": "139d94d5",
   "metadata": {},
   "source": [
    "В ацетил CoA-синтазу можно добавить домен PF19436"
   ]
  },
  {
   "cell_type": "raw",
   "id": "1875ae3a",
   "metadata": {},
   "source": [
    "membrane-bound subunits RnfDAGE [1]M. Kuhns et al, ‘The Rnf complex from the acetogenic bacterium Acetobacterium woodii: Purification and characterization of RnfC and RnfB’, Biochimica et Biophysica Acta (BBA) - Bioenergetics, vol. 1861, no. 11, p. 148263, Nov. 2020, doi: 10.1016/j.bbabio.2020.148263.\n",
    "\n",
    "Ech belongs to the group 4 [NiFe] hydrogenases (respiratory hydrogenases), which comprise a very diverse and still largely enigmatic group of H2-evolving, possibly ion-translocating, energy-conserving membrane-associated hydrogenases [1] M. C. Schoelmerich and V. Müller, ‘Energy conservation by a hydrogenase-dependent chemiosmotic mechanism in an ancient metabolic pathway’, Proc Natl Acad Sci USA, vol. 116, no. 13, pp. 6329–6334, Mar. 2019, doi: 10.1073/pnas.1818580116.\n"
   ]
  },
  {
   "cell_type": "raw",
   "id": "30fbe57e",
   "metadata": {},
   "source": [
    "Какую структуру данных я хочу?\n",
    "\n",
    "# Дефолтный набор cutoff'ов\n",
    "FAMILIES.default.hmm_name.name - имя\n",
    "FAMILIES.default.hmm_name.df -- прочитать результаты поиска\n",
    "\n",
    "FAMILIES.default.hmm_name.cutoff - загрузить из внешних источников\n",
    "FAMILIES.default.hmm_name.cutoff_name = 'bitscore' - дефолтной катоф для моделек с сайта\n",
    "FAMILIES.default.hmm_name.df_filt - фильтрация\n",
    "FAMILIES.default.inclusion - датасет с включением разных\n",
    "\n",
    "\n",
    "# Свой набор cutoff'ов\n",
    "FAMILIES.group2.hmm_name.cutoff - задать новый cutoff\n",
    "FAMILIES.group2.hmm_name.cutoff_name -- либо 'bitscore', либо новый добавленный cutoff\n",
    "FAMILIES.group2.hmm_name.df_filt - новый набор фильтрованных находок"
   ]
  },
  {
   "cell_type": "raw",
   "id": "2822b341",
   "metadata": {},
   "source": [
    "CdhC -- COG1614 -- CO-methylating acetyl-CoA synthase activity"
   ]
  },
  {
   "cell_type": "code",
   "execution_count": 1,
   "id": "ef3b0818",
   "metadata": {},
   "outputs": [],
   "source": [
    "from Bio.SearchIO import HmmerIO\n",
    "from Bio import AlignIO, SeqIO\n",
    "from Bio.AlignIO import StockholmIO\n",
    "import re \n",
    "\n",
    "import pandas as pd\n",
    "import subprocess\n",
    "import matplotlib.pyplot as plt\n",
    "import numpy as np\n",
    "\n",
    "from glob import glob\n",
    "from joblib import Parallel, delayed\n",
    "import os\n",
    "\n",
    "from tqdm.notebook import tqdm\n",
    "\n",
    "import pandas as pd\n",
    "from addict import Dict\n",
    "\n",
    "import pfam\n",
    "import random\n",
    "import seaborn as sns\n",
    "from matplotlib_venn import venn2, venn3, venn3_unweighted, venn2_unweighted\n",
    "\n",
    "from hmm_search_funcs import *\n",
    "\n",
    "pd.options.display.max_columns = 80"
   ]
  },
  {
   "cell_type": "code",
   "execution_count": 2,
   "id": "0d940ae2",
   "metadata": {},
   "outputs": [],
   "source": [
    "# ! mkdir temp"
   ]
  },
  {
   "cell_type": "markdown",
   "id": "1f2692fc",
   "metadata": {},
   "source": [
    "# Start info"
   ]
  },
  {
   "cell_type": "code",
   "execution_count": 2,
   "id": "4d545ca5",
   "metadata": {},
   "outputs": [],
   "source": [
    "INCLUDE = ['PF03598', 'PF19436']\n",
    "EXCLUDE = ['PF00374', 'PF00346', 'PF03116']\n",
    "\n",
    "FAMILIES = Dict()\n",
    "FAMILIES.default['PF03598'].name = 'acetylCoA-synthase'\n",
    "FAMILIES.default['PF19436'].name = 'ACS_CODH_B_C'\n",
    "FAMILIES.default['PF00374'].name = 'Ech-hydrogenase_NiFeSe_Hases'\n",
    "FAMILIES.default['PF00346'].name = 'Ech-hydrogenase_Complex1_49kDa'\n",
    "FAMILIES.default['PF03116'].name = 'RnfD'"
   ]
  },
  {
   "cell_type": "markdown",
   "id": "220ebb0a",
   "metadata": {},
   "source": [
    "# Load pathes and taxonomy"
   ]
  },
  {
   "cell_type": "code",
   "execution_count": 3,
   "id": "632f1d63",
   "metadata": {},
   "outputs": [],
   "source": [
    "taxonomy_args = {'sep': '\\\\t|;', 'header': None, 'names' :  ['accession', 'd','p', 'c', 'o', 'f', 'g', 's'],\n",
    "                'index_col' : None, 'engine': 'python'}\n",
    "\n",
    "TAXONOMY = pd.concat([pd.read_csv('../gtdb_info/bac120_taxonomy_r202.tsv', **taxonomy_args),\n",
    "                      pd.read_csv('../gtdb_info/ar122_taxonomy_r202.tsv', **taxonomy_args)])\n",
    "TAXONOMY['species'] = TAXONOMY.s.apply(lambda x: x[3:])\n",
    "\n",
    "# METADATA = pd.concat([pd.read_csv('../gtdb_info/bac120_metadata_r202.tsv', sep ='\\t'),\n",
    "#                       pd.read_csv('../gtdb_info/ar122_metadata_r202.tsv', sep ='\\t')])\n",
    "\n",
    "# meta_cols = [ 'ncbi_molecule_count',  'ncbi_organism_name', 'ncbi_refseq_category', \n",
    "#           'ncbi_species_taxid',  'ncbi_strain_identifiers', 'ncbi_submitter', 'ncbi_taxid', \n",
    "#           'ncbi_taxonomy', 'ncbi_taxonomy_unfiltered', \n",
    "#          ]\n",
    "\n",
    "\n",
    "pheno = pd.read_csv('../phenotraits/condensed_species_GTDB.csv')\n",
    "pheno_cols = ['species_tax_id', 'gram_stain', 'metabolism', 'pathways', \n",
    "'isolation_source', 'genome_size', 'growth_tmp', 'data_source']"
   ]
  },
  {
   "cell_type": "code",
   "execution_count": 5,
   "id": "87afe77e",
   "metadata": {},
   "outputs": [],
   "source": [
    "# TAXONOMY.to_csv('../gtdb_info/gtdb_taxonomy.csv', index = False)"
   ]
  },
  {
   "cell_type": "code",
   "execution_count": 4,
   "id": "2f7fa702",
   "metadata": {},
   "outputs": [],
   "source": [
    "import pandas as pd\n",
    "from glob import glob \n",
    "pathes = pd.DataFrame(\n",
    "    glob('/media/pc208/es/litvinanna/gtdb-202/genomic_files_reps/protein_faa_reps/*/*'), \n",
    "    columns = ['path'])\n",
    "\n",
    "pathes['accession'] = pathes.path.apply(lambda x: x.split('/')[-1][:18])\n",
    "pathes['assembly']  = pathes.path.apply(lambda x: x.split('/')[-1][3:18])\n",
    "pathes['kindom']    = pathes.path.apply(lambda x: x.split('/')[-2])\n",
    "pathes = pathes.merge(TAXONOMY[['accession', 'species']])"
   ]
  },
  {
   "cell_type": "code",
   "execution_count": 7,
   "id": "62561a8a",
   "metadata": {},
   "outputs": [],
   "source": [
    "# pathes.to_csv('../gtdb_info/pathes.csv', index = False)"
   ]
  },
  {
   "cell_type": "markdown",
   "id": "58ae455f",
   "metadata": {},
   "source": [
    "# [optional] Load PFAM models and search"
   ]
  },
  {
   "cell_type": "code",
   "execution_count": null,
   "id": "30ed1f32",
   "metadata": {},
   "outputs": [],
   "source": [
    "# Collect info about selected pfam families\n",
    "# takes a while? (why?)\n",
    "# pip install ../python-pfam\n",
    "for pfam_id in INCLUDE + EXCLUDE:\n",
    "    family = pfam.family(pfam_id) # load family\n",
    "    FAMILIES[pfam_id].cutoff = family.hmm_details.cutoffs['trusted'].sequence # get cutoff\n",
    "    print(pfam_id, FAMILIES[pfam_id].cutoff)"
   ]
  },
  {
   "cell_type": "code",
   "execution_count": null,
   "id": "56d78e87",
   "metadata": {},
   "outputs": [],
   "source": [
    "# test pfam object\n",
    "family = pfam.family('PF19436')\n",
    "for k, v in family.hmm_details.cutoffs.items():\n",
    "    print(f'{k:>10} {v.domain:>10} {v.sequence:>10}')"
   ]
  },
  {
   "cell_type": "code",
   "execution_count": null,
   "id": "62385a5f",
   "metadata": {},
   "outputs": [],
   "source": [
    "# load HMM models\n",
    "[load_pfam(pfam_id) for pfam_id in INCLUDE + EXCLUDE]"
   ]
  },
  {
   "cell_type": "code",
   "execution_count": null,
   "id": "e3718d8b",
   "metadata": {},
   "outputs": [],
   "source": [
    "for pfam in INCLUDE + EXCLUDE:\n",
    "    for i in tqdm(\n",
    "        glob('/media/pc208/es/litvinanna/gtdb-202/genomic_files_reps/protein_faa_reps/bacteria/*'), \n",
    "        total = 45500, ncols = 100\n",
    "    ):\n",
    "            run_hmmsearch(i, pfam, outdir = 'hmmsearch_results')"
   ]
  },
  {
   "cell_type": "raw",
   "id": "1007b5cd",
   "metadata": {},
   "source": [
    "PF19436 13-40 начало, примерно полтора часа 1:30:38"
   ]
  },
  {
   "cell_type": "code",
   "execution_count": null,
   "id": "2eef8db8",
   "metadata": {},
   "outputs": [],
   "source": [
    "for pfam in INCLUDE + EXCLUDE:\n",
    "    for i in tqdm(\n",
    "        glob('/media/pc208/es/litvinanna/gtdb-202/genomic_files_reps/protein_faa_reps/archaea/*'), \n",
    "        total = 2339, ncols = 100\n",
    "    ):\n",
    "            run_hmmsearch(i, pfam, 'hmmsearch_results')"
   ]
  },
  {
   "cell_type": "markdown",
   "id": "a5e625c5",
   "metadata": {},
   "source": [
    "## Update Families info"
   ]
  },
  {
   "cell_type": "code",
   "execution_count": 5,
   "id": "b488bdf9",
   "metadata": {},
   "outputs": [],
   "source": [
    "# from loaded data\n",
    "FAMILIES.default.update(Dict(\n",
    "    \n",
    "{'PF03598': {'cutoff': 21.3, 'cutoff_name' : 'bitscore'},\n",
    " 'PF19436': {'cutoff': 26.8, 'cutoff_name' : 'bitscore'},\n",
    " 'PF00374': {'cutoff': 25.8, 'cutoff_name' : 'bitscore'},\n",
    " 'PF00346': {'cutoff': 24.0, 'cutoff_name' : 'bitscore'},\n",
    " 'PF03116': {'cutoff': 27.7, 'cutoff_name' : 'bitscore'},\n",
    " 'PF00374andPF00346': {'cutoff': 0.5, 'cutoff_name' : 'PF00374andPF00346'},\n",
    " 'PF03598andPF19436': {'cutoff': 0.5, 'cutoff_name' : 'PF03598andPF19436'},\n",
    "}\n",
    "))"
   ]
  },
  {
   "cell_type": "markdown",
   "id": "d90b4133",
   "metadata": {},
   "source": [
    "# Read search results"
   ]
  },
  {
   "cell_type": "code",
   "execution_count": 6,
   "id": "14133fb4",
   "metadata": {},
   "outputs": [
    {
     "name": "stderr",
     "output_type": "stream",
     "text": [
      "100%|███████████████████████████████████████████████████████| 47894/47894 [00:11<00:00, 4005.93it/s]\n",
      "100%|███████████████████████████████████████████████████████| 47894/47894 [00:12<00:00, 3946.17it/s]\n",
      "100%|███████████████████████████████████████████████████████| 47894/47894 [00:14<00:00, 3228.50it/s]\n",
      "100%|███████████████████████████████████████████████████████| 47894/47894 [00:14<00:00, 3211.88it/s]\n",
      "100%|███████████████████████████████████████████████████████| 47894/47894 [00:15<00:00, 3185.14it/s]\n"
     ]
    }
   ],
   "source": [
    "# Read hmmsearch findings\n",
    "for pfam_id in INCLUDE + EXCLUDE:\n",
    "    FAMILIES.default[pfam_id].df = parse_hmmresults(f'hmmsearch_results/{pfam_id}/*')\n",
    "for hmm_name in INCLUDE + EXCLUDE:\n",
    "    FAMILIES.default[hmm_name].df = FAMILIES.default[hmm_name].df\\\n",
    "        .merge(pathes, left_on = 'genome', right_on = 'accession')\n",
    "    \n",
    "    FAMILIES.default[hmm_name].df['description'] = FAMILIES.default[hmm_name].df\\\n",
    "        .apply(lambda x: f'{x.bitscore} {x.kindom} {x.species}', axis = 1)   "
   ]
  },
  {
   "cell_type": "markdown",
   "id": "b203ab9e",
   "metadata": {},
   "source": [
    "## [optional] draw bitscore distribution"
   ]
  },
  {
   "cell_type": "code",
   "execution_count": 7,
   "id": "7d1c7b81",
   "metadata": {},
   "outputs": [
    {
     "data": {
      "text/plain": [
       "['PF03598', 'PF19436', 'PF00374', 'PF00346', 'PF03116']"
      ]
     },
     "execution_count": 7,
     "metadata": {},
     "output_type": "execute_result"
    }
   ],
   "source": [
    "INCLUDE + EXCLUDE"
   ]
  },
  {
   "cell_type": "code",
   "execution_count": 10,
   "id": "9fab7a0a",
   "metadata": {},
   "outputs": [
    {
     "data": {
      "text/plain": [
       "'acetylCoA-synthase'"
      ]
     },
     "execution_count": 10,
     "metadata": {},
     "output_type": "execute_result"
    }
   ],
   "source": [
    "FAMILIES.default.PF03598.name"
   ]
  },
  {
   "cell_type": "code",
   "execution_count": 48,
   "id": "e3a64cc8",
   "metadata": {},
   "outputs": [],
   "source": [
    "# # Plot findings bitscore distribution\n",
    "# _, ax = plt.subplots(2, 3, figsize = (15, 7))\n",
    "# for pfam_id, axis in zip(INCLUDE + EXCLUDE, ax.flatten()):\n",
    "#     try:\n",
    "#         plot_hmm_results(FAMILIES.default[pfam_id].df, FAMILIES.default[pfam_id].cutoff, \n",
    "#                          FAMILIES.default[pfam_id].name, axis)\n",
    "#         axis.set_title(FAMILIES.default[pfam_id].name)\n",
    "# #         axis.set_yscale('log')\n",
    "#     except Exception as e:\n",
    "#         pass"
   ]
  },
  {
   "cell_type": "code",
   "execution_count": 99,
   "id": "8071f07d",
   "metadata": {},
   "outputs": [
    {
     "data": {
      "text/plain": [
       "dict_keys(['PF03598', 'PF19436', 'PF00374', 'PF00346', 'PF03116', 'PF00374andPF00346', 'PF03598andPF19436'])"
      ]
     },
     "execution_count": 99,
     "metadata": {},
     "output_type": "execute_result"
    }
   ],
   "source": [
    "FAMILIES.default.keys()"
   ]
  },
  {
   "cell_type": "code",
   "execution_count": null,
   "id": "abc5b6ba",
   "metadata": {},
   "outputs": [],
   "source": []
  },
  {
   "cell_type": "markdown",
   "id": "695f719e",
   "metadata": {},
   "source": [
    "## Filter findings"
   ]
  },
  {
   "cell_type": "code",
   "execution_count": 13,
   "id": "73164879",
   "metadata": {},
   "outputs": [],
   "source": [
    "def merge_inplace(parent, attribute, df2, left_on = None, right_on = None, left_index = False, right_index = False):\n",
    "    parent[attribute] = parent[attribute].merge(df2,  left_on = left_on, right_on = right_on, left_index = left_index, right_index = right_index)"
   ]
  },
  {
   "cell_type": "code",
   "execution_count": 14,
   "id": "aa2fcd64",
   "metadata": {},
   "outputs": [],
   "source": [
    "combine_domains(FAMILIES.default, FAMILIES.default, ['PF00374', 'PF00346'])\n",
    "merge_inplace(FAMILIES.default.PF00374andPF00346, 'df', pathes, left_on = 'genome', right_on = 'accession')"
   ]
  },
  {
   "cell_type": "code",
   "execution_count": 15,
   "id": "a68060fa",
   "metadata": {},
   "outputs": [],
   "source": [
    "combine_domains(FAMILIES.default, FAMILIES.default, ['PF03598', 'PF19436'])\n",
    "merge_inplace(FAMILIES.default.PF03598andPF19436, 'df', pathes, left_on = 'genome', right_on = 'accession')"
   ]
  },
  {
   "cell_type": "code",
   "execution_count": 16,
   "id": "7d849f8e",
   "metadata": {},
   "outputs": [
    {
     "name": "stdout",
     "output_type": "stream",
     "text": [
      "PF03598 bitscore > 21.3\n",
      "PF19436 bitscore > 26.8\n",
      "PF00374 bitscore > 25.8\n",
      "PF00346 bitscore > 24.0\n",
      "PF03116 bitscore > 27.7\n",
      "PF00374andPF00346 PF00374andPF00346 > 0.5\n",
      "PF03598andPF19436 PF03598andPF19436 > 0.5\n"
     ]
    }
   ],
   "source": [
    "filter_findings(FAMILIES.default, FAMILIES.default, INCLUDE+EXCLUDE+['PF00374andPF00346', 'PF03598andPF19436'])\n",
    "# Логический отбор по наличию/отсутствию белков\n",
    "# make_final(FAMILIES.default,  INCLUDE+EXCLUDE+['PF00374andPF00346'])\n",
    "# logical_selection(FAMILIES.default, ['PF03598'], ['PF03116', 'PF00374andPF00346'])"
   ]
  },
  {
   "cell_type": "code",
   "execution_count": 17,
   "id": "3f16a896",
   "metadata": {},
   "outputs": [
    {
     "data": {
      "text/html": [
       "<div>\n",
       "<style scoped>\n",
       "    .dataframe tbody tr th:only-of-type {\n",
       "        vertical-align: middle;\n",
       "    }\n",
       "\n",
       "    .dataframe tbody tr th {\n",
       "        vertical-align: top;\n",
       "    }\n",
       "\n",
       "    .dataframe thead th {\n",
       "        text-align: right;\n",
       "    }\n",
       "</style>\n",
       "<table border=\"1\" class=\"dataframe\">\n",
       "  <thead>\n",
       "    <tr style=\"text-align: right;\">\n",
       "      <th></th>\n",
       "      <th>name</th>\n",
       "      <th>findings &gt; cutoff</th>\n",
       "    </tr>\n",
       "  </thead>\n",
       "  <tbody>\n",
       "    <tr>\n",
       "      <th>PF03598</th>\n",
       "      <td>acetylCoA-synthase</td>\n",
       "      <td>2805.0</td>\n",
       "    </tr>\n",
       "    <tr>\n",
       "      <th>PF19436</th>\n",
       "      <td>ACS_CODH_B_C</td>\n",
       "      <td>2519.0</td>\n",
       "    </tr>\n",
       "    <tr>\n",
       "      <th>PF00374</th>\n",
       "      <td>Ech-hydrogenase_NiFeSe_Hases</td>\n",
       "      <td>24587.0</td>\n",
       "    </tr>\n",
       "    <tr>\n",
       "      <th>PF00346</th>\n",
       "      <td>Ech-hydrogenase_Complex1_49kDa</td>\n",
       "      <td>43841.0</td>\n",
       "    </tr>\n",
       "    <tr>\n",
       "      <th>PF03116</th>\n",
       "      <td>RnfD</td>\n",
       "      <td>24818.0</td>\n",
       "    </tr>\n",
       "    <tr>\n",
       "      <th>PF00374andPF00346</th>\n",
       "      <td>{}</td>\n",
       "      <td>6355.0</td>\n",
       "    </tr>\n",
       "    <tr>\n",
       "      <th>PF03598andPF19436</th>\n",
       "      <td>{}</td>\n",
       "      <td>2334.0</td>\n",
       "    </tr>\n",
       "  </tbody>\n",
       "</table>\n",
       "</div>"
      ],
      "text/plain": [
       "                                             name  findings > cutoff\n",
       "PF03598                        acetylCoA-synthase             2805.0\n",
       "PF19436                              ACS_CODH_B_C             2519.0\n",
       "PF00374              Ech-hydrogenase_NiFeSe_Hases            24587.0\n",
       "PF00346            Ech-hydrogenase_Complex1_49kDa            43841.0\n",
       "PF03116                                      RnfD            24818.0\n",
       "PF00374andPF00346                              {}             6355.0\n",
       "PF03598andPF19436                              {}             2334.0"
      ]
     },
     "metadata": {},
     "output_type": "display_data"
    }
   ],
   "source": [
    "print_families(FAMILIES, INCLUDE+EXCLUDE +['PF00374andPF00346', 'PF03598andPF19436'])"
   ]
  },
  {
   "cell_type": "code",
   "execution_count": 106,
   "id": "d0ec24f5",
   "metadata": {},
   "outputs": [
    {
     "name": "stdout",
     "output_type": "stream",
     "text": [
      "PF03598 (2805, 20)\n",
      "PF19436 (2519, 19)\n",
      "PF00374 (24587, 19)\n",
      "PF00346 (43841, 19)\n",
      "PF03116 (24818, 21)\n"
     ]
    }
   ],
   "source": [
    "for key in INCLUDE+EXCLUDE:\n",
    "    print(key, FAMILIES.default[key].df_filt.shape)"
   ]
  },
  {
   "cell_type": "code",
   "execution_count": 109,
   "id": "54678fd9",
   "metadata": {},
   "outputs": [
    {
     "name": "stdout",
     "output_type": "stream",
     "text": [
      "PF03598 (2331, 20)\n",
      "PF19436 {}\n",
      "PF00374 {}\n",
      "PF00346 {}\n",
      "PF03116 (24818, 21)\n",
      "PF00374andPF00346 (4249, 16)\n",
      "PF03598andPF19436 {}\n"
     ]
    }
   ],
   "source": [
    "for key in INCLUDE+EXCLUDE + ['PF00374andPF00346', 'PF03598andPF19436']:\n",
    "    print(key, FAMILIES.group2[key].df_filt.shape)"
   ]
  },
  {
   "cell_type": "code",
   "execution_count": 18,
   "id": "40f51dbf",
   "metadata": {},
   "outputs": [],
   "source": [
    "# for file in sorted(list(glob('alignments/*PF*'))):\n",
    "#     r = subprocess.run(f'grep \">\" {file} | wc -l', shell = True, capture_output = True)\n",
    "#     number = int(r.stdout.decode('utf-8').strip())\n",
    "#     print(f'{file:<60}  {number}')"
   ]
  },
  {
   "cell_type": "markdown",
   "id": "9b44cc96",
   "metadata": {},
   "source": [
    "# PF03598 -- сделано"
   ]
  },
  {
   "cell_type": "code",
   "execution_count": null,
   "id": "5b432215",
   "metadata": {},
   "outputs": [],
   "source": [
    "# [optional] Записать выравнивание\n",
    "\n",
    "hmm_name = 'PF03598'\n",
    "\n",
    "#Создали файл со всеми находками PF03598 -- \n",
    "write_records(df = FAMILIES.default[hmm_name].df_filt,\n",
    "            fasta_id    = 'fasta_id',\n",
    "            path        = 'path',\n",
    "            filename    =  f'alignments/{hmm_name}.fasta',\n",
    "            description = 'description'\n",
    "               )\n",
    "# # Из файла с находками сделали модельку\n",
    "# create_sample_hmm(f'alignments/{hmm_name}.fasta', f'hmms/{hmm_name}_50.hmm', sample = 50)\n",
    "\n",
    "# Выровняли находки по созданной модельке\n",
    "align_hmm(f'hmms/{hmm_name}_50.hmm', f'alignments/{hmm_name}.fasta', f'alignments/{hmm_name}.fasta')"
   ]
  },
  {
   "cell_type": "code",
   "execution_count": null,
   "id": "b78767fc",
   "metadata": {},
   "outputs": [],
   "source": [
    "FAMILIES.default.PF03598.df_filt.shape[0]"
   ]
  },
  {
   "cell_type": "code",
   "execution_count": 49,
   "id": "cf53ce7a",
   "metadata": {},
   "outputs": [],
   "source": [
    "# вспомнить новые скоры\n",
    "hmm_name = 'PF03598'\n",
    "\n",
    "# new_bitscore = rescore_sequences('hmmsearch_results/PF03598_50', f'alignments/{hmm_name}.fasta',  f'hmms/{hmm_name}_50.hmm')\n",
    "new_bitscore = rescore_sequences(f'hmmsearch_results/{hmm_name}_50')\n",
    "FAMILIES.default[hmm_name].df['new_bitscore'] = FAMILIES.default[hmm_name].df.fasta_id.map(new_bitscore)\n",
    "# make_description(FAMILIES.default[hmm_name].df,['new_bitscore', 'kindom', 'species'], col = 'new_bitscore')"
   ]
  },
  {
   "cell_type": "code",
   "execution_count": null,
   "id": "87cdd948",
   "metadata": {},
   "outputs": [],
   "source": [
    "# [optional] доделать выравнивание с новыми скорами\n",
    "hmm_name = 'PF03598'\n",
    "new_desc = dict(zip(FAMILIES.default[hmm_name].df.fasta_id, FAMILIES.default[hmm_name].df.description))\n",
    "replace_description(f'alignments/{hmm_name}.fasta', new_desc, f'alignments/{hmm_name}_realigned.fasta')\n",
    "sort_alignment(f'alignments/{hmm_name}_realigned.fasta', 1)"
   ]
  },
  {
   "cell_type": "raw",
   "id": "5af071ba",
   "metadata": {},
   "source": [
    "В файле alignments/{hmm_name}_realigned.fasta содержаться находки с новыми скорами не по доменам pfam, а по моим находкам, правильно отсортированные."
   ]
  },
  {
   "cell_type": "raw",
   "id": "72a30999",
   "metadata": {},
   "source": [
    ">JAAYOY010000138.1_2 # 450 # 2981 # 1 # ID=1_2;partial=00;start_type=TTG;rbs_motif=AGGA;rbs_spacer=5-10bp;gc_cont=0.459"
   ]
  },
  {
   "cell_type": "code",
   "execution_count": null,
   "id": "9a847e74",
   "metadata": {},
   "outputs": [],
   "source": [
    "# _, axs = plt.subplots(1, 2, figsize = (15, 4))\n",
    "# FAMILIES.default.PF03598.df['bitscore'].plot.hist(bins = 1000, ax = axs[0], )\n",
    "# axs[0].vlines(21.3, 0, 100, color = 'red')\n",
    "# axs[0].set_title('PF03598 pfam bitscore')\n",
    "\n",
    "# FAMILIES.default.PF03598.df['new_bitscore'].hist(bins = 1000, ax = axs[1])\n",
    "# axs[1].vlines(250, 0, 40, color = 'red')\n",
    "# axs[1].set_title('new bitscore')\n",
    "# plt.show()"
   ]
  },
  {
   "cell_type": "code",
   "execution_count": null,
   "id": "36b48282",
   "metadata": {},
   "outputs": [],
   "source": [
    "#[optional] Создать выборочное выравнивание для 3 групп синтаз\n",
    "df = FAMILIES.default.PF03598.df_filt\n",
    "sample1 = df[(df.new_bitscore < 250)].sample(20)\n",
    "sample2 = df[(df.new_bitscore > 550) & (df.new_bitscore < 750 )].sample(20)\n",
    "sample3 = df[(df.new_bitscore > 1100) & (df.new_bitscore < 1250 )].sample(20)\n",
    "\n",
    "write_records(df = pd.concat([sample1, sample2, sample3]),\n",
    "            fasta_id    = 'fasta_id',\n",
    "            path        = 'path',\n",
    "            filename    =  f'alignments/PF03598_sample.fasta',\n",
    "            description = 'description'\n",
    "               )\n",
    "subprocess.run('muscle -quiet -in alignments/PF03598_sample.fasta -out alignments/PF03598_sample.fasta', shell = True)\n",
    "sort_alignment('alignments/PF03598_sample.fasta', 1)\n",
    "subprocess.run('muscle -quiet -profile -in1 alignments/PF03598_sample.fasta -in2 hmms/PF03598_seed.fasta -out alignments/PF03598_sample.fasta', shell = True)"
   ]
  },
  {
   "cell_type": "code",
   "execution_count": null,
   "id": "51ee9d9d",
   "metadata": {},
   "outputs": [],
   "source": [
    "df = FAMILIES.default.PF03598.df_filt\n",
    "df = df.merge(TAXONOMY, left_on = 'genome', right_on = 'accession')\n",
    "print( df[(df.new_bitscore < 250)]                            .d.value_counts())\n",
    "print(df[(df.new_bitscore > 550) & (df.new_bitscore < 750 )]  .d.value_counts())\n",
    "print(df[(df.new_bitscore > 1000) & (df.new_bitscore < 1300 )].d.value_counts())"
   ]
  },
  {
   "cell_type": "markdown",
   "id": "578eab1e",
   "metadata": {},
   "source": [
    "# PF03598 and PF19436"
   ]
  },
  {
   "cell_type": "code",
   "execution_count": 24,
   "id": "5f3f9192",
   "metadata": {},
   "outputs": [
    {
     "data": {
      "text/plain": [
       "<AxesSubplot:xlabel='PF03598_score', ylabel='PF19436_score'>"
      ]
     },
     "execution_count": 24,
     "metadata": {},
     "output_type": "execute_result"
    },
    {
     "data": {
      "image/png": "[encoded data removed]",
      "text/plain": [
       "<Figure size 432x288 with 1 Axes>"
      ]
     },
     "metadata": {
      "needs_background": "light"
     },
     "output_type": "display_data"
    }
   ],
   "source": [
    "df = FAMILIES.default.PF03598andPF19436.df\n",
    "df.fillna(0, inplace = True)\n",
    "df.plot.scatter('PF03598_score', 'PF19436_score', alpha = 0.5, c = df['PF03598andPF19436'].map(\n",
    "                                 {0:'black', 1 : 'green'}))"
   ]
  },
  {
   "cell_type": "code",
   "execution_count": 41,
   "id": "36334fd6",
   "metadata": {},
   "outputs": [
    {
     "name": "stderr",
     "output_type": "stream",
     "text": [
      "100%|███████████████████████████████████████████████████████████| 2075/2075 [01:57<00:00, 17.66it/s]\n",
      "rm: cannot remove 'temp.fasta': No such file or directory\n"
     ]
    },
    {
     "name": "stdout",
     "output_type": "stream",
     "text": [
      "created hmm-model hmms/PF03598andPF19436_50.hmm\n"
     ]
    }
   ],
   "source": [
    "# [optional] Записать выравнивание\n",
    "\n",
    "hmm_name = 'PF03598andPF19436'\n",
    "\n",
    "#Создали файл со всеми находками  -- \n",
    "write_records(df = FAMILIES.default[hmm_name].df_filt,\n",
    "            fasta_id    = 'fasta_id',\n",
    "            path        = 'path',\n",
    "            filename    =  f'alignments/{hmm_name}.fasta',\n",
    "            description = None\n",
    "               )\n",
    "# Из файла с находками сделали модельку\n",
    "create_sample_hmm(f'alignments/{hmm_name}.fasta', f'hmms/{hmm_name}_50.hmm', sample = 50, sample_alignment = f'hmms/{hmm_name}_50.hmm')\n",
    "# Выровняли находки по созданной модельке\n",
    "align_hmm(f'hmms/{hmm_name}_50.hmm', f'alignments/{hmm_name}.fasta', f'alignments/{hmm_name}.fasta')"
   ]
  },
  {
   "cell_type": "code",
   "execution_count": 22,
   "id": "e1447d3e",
   "metadata": {},
   "outputs": [
    {
     "name": "stdout",
     "output_type": "stream",
     "text": [
      "PF00346  PF00374andPF00346_50  PF03116_50  PF03598_50\r\n",
      "PF00374  PF03116\t       PF03598\t   PF19436\r\n"
     ]
    }
   ],
   "source": [
    "! ls hmmsearch_results"
   ]
  },
  {
   "cell_type": "code",
   "execution_count": 25,
   "id": "c05e08ad",
   "metadata": {},
   "outputs": [],
   "source": [
    "new_bitscore = rescore_sequences(f'hmmsearch_results/PF03598_50', \n",
    "                                 in_file = 'alignments/PF03598andPF19436.fasta', \n",
    "                                 hmm_file = 'hmms/PF03598andPF19436_50.hmm')\n",
    "df['new_bitscore'] = df.fasta_id.map(new_bitscore)"
   ]
  },
  {
   "cell_type": "code",
   "execution_count": 26,
   "id": "e53ad9bb",
   "metadata": {},
   "outputs": [
    {
     "data": {
      "text/plain": [
       "<matplotlib.colorbar.Colorbar at 0x7f28c9059550>"
      ]
     },
     "execution_count": 26,
     "metadata": {},
     "output_type": "execute_result"
    },
    {
     "data": {
      "image/png": "[encoded data removed]",
      "text/plain": [
       "<Figure size 432x288 with 2 Axes>"
      ]
     },
     "metadata": {
      "needs_background": "light"
     },
     "output_type": "display_data"
    }
   ],
   "source": [
    "plt.scatter(df.PF03598_score, df.PF19436_score, alpha = 0.3,\n",
    "                c = df['new_bitscore'])\n",
    "plt.xlabel('PF03598_score'); plt.ylabel('PF19436_score')\n",
    "plt.title('')\n",
    "plt.vlines(21.3, 0, 400); plt.hlines(26.8, 0, 250)\n",
    "plt.colorbar()"
   ]
  },
  {
   "cell_type": "code",
   "execution_count": 63,
   "id": "ddea9ab0",
   "metadata": {},
   "outputs": [
    {
     "data": {
      "text/plain": [
       "<AxesSubplot:>"
      ]
     },
     "execution_count": 63,
     "metadata": {},
     "output_type": "execute_result"
    },
    {
     "data": {
      "image/png": "[encoded data removed]",
      "text/plain": [
       "<Figure size 432x288 with 1 Axes>"
      ]
     },
     "metadata": {
      "needs_background": "light"
     },
     "output_type": "display_data"
    }
   ],
   "source": [
    "df.new_bitscore.hist(bins = 100)"
   ]
  },
  {
   "cell_type": "code",
   "execution_count": 59,
   "id": "172913b8",
   "metadata": {},
   "outputs": [],
   "source": [
    "make_description(FAMILIES.default[hmm_name].df, ['new_bitscore', 'kindom', 'species'], col = 'description')"
   ]
  },
  {
   "cell_type": "code",
   "execution_count": 60,
   "id": "67dc5539",
   "metadata": {},
   "outputs": [],
   "source": [
    "# [optional] доделать выравнивание с новыми скорами\n",
    "hmm_name = 'PF03598andPF19436'\n",
    "new_desc = dict(zip(FAMILIES.default[hmm_name].df.fasta_id, FAMILIES.default[hmm_name].df.description))\n",
    "\n",
    "replace_description(f'alignments/{hmm_name}.fasta', new_desc, f'alignments/{hmm_name}_realigned.fasta')\n",
    "sort_alignment(f'alignments/{hmm_name}_realigned.fasta', 1)"
   ]
  },
  {
   "cell_type": "code",
   "execution_count": null,
   "id": "f2a86a54",
   "metadata": {},
   "outputs": [],
   "source": []
  },
  {
   "cell_type": "code",
   "execution_count": null,
   "id": "24baeac6",
   "metadata": {},
   "outputs": [],
   "source": []
  },
  {
   "cell_type": "code",
   "execution_count": null,
   "id": "5ad41bad",
   "metadata": {},
   "outputs": [],
   "source": []
  },
  {
   "cell_type": "code",
   "execution_count": null,
   "id": "63d18dae",
   "metadata": {},
   "outputs": [],
   "source": []
  },
  {
   "cell_type": "code",
   "execution_count": null,
   "id": "948448de",
   "metadata": {},
   "outputs": [],
   "source": []
  },
  {
   "cell_type": "raw",
   "id": "57e0910d",
   "metadata": {},
   "source": [
    "Задача:\n",
    "По находкам мы переделали hmm модель, и новые скоры кажутся нам более правильными для фильтрации.\n",
    "Нужно 'перескорить' находки. -- это сделано, куда записать эти новые скоры? \n",
    "Свойства:\n",
    "- новый битскор должен лежать в поле df со всеми находками\n",
    "- изначальные поля df беруться по начальному hmm по геномынм фастам\n",
    "- нам нужно только добавить новую колонку битскора\n",
    "- заставить фильтрующую функцию фильтровать по заданному полю (не только cutoff, но и имя поля)\n",
    "\n",
    "\n"
   ]
  },
  {
   "cell_type": "markdown",
   "id": "2f0d2925",
   "metadata": {},
   "source": [
    "# PF03116 RnfD"
   ]
  },
  {
   "cell_type": "code",
   "execution_count": null,
   "id": "c9118a9f",
   "metadata": {
    "scrolled": true
   },
   "outputs": [],
   "source": [
    "# [optional] Записать выравнивание\n",
    "\n",
    "hmm_name = 'PF03116'\n",
    "\n",
    "#Создали файл со всеми находками  -- \n",
    "write_records(df = FAMILIES.default[hmm_name].df_filt,\n",
    "            fasta_id    = 'fasta_id',\n",
    "            path        = 'path',\n",
    "            filename    =  f'alignments/{hmm_name}.fasta',\n",
    "            description = 'description'\n",
    "               )\n",
    "# Из файла с находками сделали модельку\n",
    "create_sample_hmm(f'alignments/{hmm_name}.fasta', f'hmms/{hmm_name}_50.hmm', sample = 50)\n",
    "# Выровняли находки по созданной модельке\n",
    "align_hmm(f'hmms/{hmm_name}_50.hmm', f'alignments/{hmm_name}.fasta', f'alignments/{hmm_name}.fasta')"
   ]
  },
  {
   "cell_type": "code",
   "execution_count": 27,
   "id": "2ab69468",
   "metadata": {},
   "outputs": [],
   "source": [
    "# вспомнить новые скоры\n",
    "hmm_name = 'PF03116'\n",
    "\n",
    "# new_bitscore = rescore_sequences(f'hmmsearch_results/{hmm_name}_50', \n",
    "#                                  f'alignments/{hmm_name}.fasta',\n",
    "#                                  f'hmms/{hmm_name}_50.hmm')\n",
    "new_bitscore = rescore_sequences(f'hmmsearch_results/{hmm_name}_50')\n",
    "\n",
    "FAMILIES.default[hmm_name].df['new_bitscore'] = FAMILIES.default[hmm_name].df.fasta_id.map(new_bitscore)\n",
    "FAMILIES.default[hmm_name].df['description'] =  make_description(FAMILIES.default[hmm_name].df,\n",
    "                                                                ['new_bitscore', 'kindom', 'species'])\n",
    "\n"
   ]
  },
  {
   "cell_type": "code",
   "execution_count": null,
   "id": "6c3966bf",
   "metadata": {},
   "outputs": [],
   "source": [
    "# [optional] доделать выравнивание с новыми скорами\n",
    "hmm_name = 'PF03116'\n",
    "\n",
    "new_desc = dict(zip(FAMILIES.default[hmm_name].df.fasta_id, FAMILIES.default[hmm_name].df.description))\n",
    "replace_description(f'alignments/{hmm_name}.fasta', new_desc, f'alignments/{hmm_name}_realigned.fasta')\n",
    "sort_alignment(f'alignments/{hmm_name}_realigned.fasta', 1)"
   ]
  },
  {
   "cell_type": "code",
   "execution_count": null,
   "id": "e30c43ec",
   "metadata": {},
   "outputs": [],
   "source": [
    "_, axs = plt.subplots(1, 2, figsize = (15, 4))\n",
    "FAMILIES.default.PF03116.df['bitscore'].plot.hist(bins = 1000, ax = axs[0], )\n",
    "axs[0].vlines(FAMILIES.default.PF03116.cutoff, 0, 100, color = 'red')\n",
    "axs[0].set_title('PF03116 pfam bitscore')\n",
    "\n",
    "FAMILIES.default.PF03116.df['new_bitscore'].hist(bins = 1000, ax = axs[1])\n",
    "# axs[1].vlines(250, 0, 40, color = 'red')\n",
    "axs[1].set_title('new bitscore')\n",
    "plt.show()"
   ]
  },
  {
   "cell_type": "code",
   "execution_count": 28,
   "id": "d2860b60",
   "metadata": {},
   "outputs": [
    {
     "name": "stdout",
     "output_type": "stream",
     "text": [
      "PF03598 bitscore > 21.3\n",
      "PF19436 bitscore > 26.8\n",
      "PF00374 bitscore > 25.8\n",
      "PF00346 bitscore > 24.0\n",
      "PF03116 bitscore > 27.7\n"
     ]
    }
   ],
   "source": [
    "# добавить новые колонки в df-filt\n",
    "filter_findings(FAMILIES.default, FAMILIES.default, INCLUDE+EXCLUDE)"
   ]
  },
  {
   "cell_type": "code",
   "execution_count": null,
   "id": "95145f3e",
   "metadata": {},
   "outputs": [],
   "source": [
    "#[optional] выравнивание выборочное для иллюстрации\n",
    "df = FAMILIES.default.PF03116.df_filt\n",
    "sample1 = df[(df.new_bitscore > 60) & (df.new_bitscore < 85 )].sample(20)\n",
    "sample2 = df[(df.new_bitscore) > 350 & (df.new_bitscore < 430 )].sample(20)\n",
    "\n",
    "write_records(df = pd.concat([sample1, sample2]),\n",
    "            fasta_id    = 'fasta_id',\n",
    "            path        = 'path',\n",
    "            filename    =  f'alignments/PF03116_sample.fasta',\n",
    "            description = 'description'\n",
    "               )\n",
    "subprocess.run('muscle -quiet -in alignments/PF03116_sample.fasta -out alignments/PF03116_sample.fasta', shell = True)\n",
    "sort_alignment('alignments/PF03116_sample.fasta', 1)\n",
    "# subprocess.run('muscle  -quiet  -profile -in1 alignments/PF03116_sample.fasta  -in2 hmms/PF03116_seed.fasta -out alignments/PF03116_sample.fasta', shell = True)\n"
   ]
  },
  {
   "cell_type": "markdown",
   "id": "9f9bc9df",
   "metadata": {},
   "source": [
    "# PF00374andPF00346"
   ]
  },
  {
   "cell_type": "code",
   "execution_count": null,
   "id": "b4790cda",
   "metadata": {},
   "outputs": [],
   "source": [
    "# sample_alignment('hmms/PF03116_seed.fasta', 'hmms/PF03116_seed_20.fasta', n = 20)"
   ]
  },
  {
   "cell_type": "code",
   "execution_count": null,
   "id": "e59c8800",
   "metadata": {},
   "outputs": [],
   "source": [
    "# [optional] Распределение находок в 2d\n",
    "initial = FAMILIES.default.PF00374andPF00346.df.dropna(subset = ['PF00374_score', 'PF00346_score'])\n",
    "initial.plot.scatter('PF00346_score','PF00374_score',alpha = 0.01, \n",
    "                             c = (initial['PF00374andPF00346']*initial['motifs']).map(\n",
    "                                 {0:'black', 1 : 'green', -1: 'orange'})\n",
    "                    )\n",
    "plt.ylim(0, 150);plt.xlim(0, 600)\n",
    "plt.show()"
   ]
  },
  {
   "cell_type": "code",
   "execution_count": null,
   "id": "ebdf209f",
   "metadata": {},
   "outputs": [],
   "source": [
    "# [optional] Распределение находок в 2d\n",
    "initial = FAMILIES.default.PF00374andPF00346.df.dropna(subset = ['PF00374_score', 'PF00346_score'])\n",
    "initial.plot.scatter('PF00346_score','PF00374_score',alpha = .1, \n",
    "                             c = initial['new_bitscore_motifs'], cmap = 'viridis')\n",
    "plt.ylim(0, 150); plt.xlim(0, 600)\n",
    "plt.show()"
   ]
  },
  {
   "cell_type": "code",
   "execution_count": null,
   "id": "eccfe077",
   "metadata": {},
   "outputs": [],
   "source": []
  },
  {
   "cell_type": "code",
   "execution_count": null,
   "id": "d0322ee3",
   "metadata": {},
   "outputs": [],
   "source": [
    "make_description(FAMILIES.default.PF00374andPF00346.df, ['kindom', 'species'], col = 'description')"
   ]
  },
  {
   "cell_type": "code",
   "execution_count": null,
   "id": "5dd888b8",
   "metadata": {},
   "outputs": [],
   "source": [
    "filter_findings(FAMILIES.default, FAMILIES.default, ['PF00374andPF00346'])"
   ]
  },
  {
   "cell_type": "code",
   "execution_count": null,
   "id": "084e622f",
   "metadata": {},
   "outputs": [],
   "source": [
    "# [optional] записать все находки\n",
    "hmm_name = 'PF00374andPF00346'\n",
    "write_records(df = FAMILIES.default.PF00374andPF00346.df_filt,\n",
    "            fasta_id    = 'fasta_id',\n",
    "            path        = 'path',\n",
    "            filename    =  f'alignments/{hmm_name}.fasta',\n",
    "            description = 'description'\n",
    "               )\n",
    "hmm_name = 'PF00374andPF00346'\n",
    "# # Из файла с находками сделали модельку\n",
    "# create_sample_hmm(f'alignments/{hmm_name}.fasta', f'hmms/{hmm_name}_50.hmm', sample = 50)\n",
    "\n",
    "# Выровняли находки по созданной модельке\n",
    "align_hmm(f'hmms/{hmm_name}_50.hmm', f'alignments/{hmm_name}.fasta', f'alignments/{hmm_name}.fasta')"
   ]
  },
  {
   "cell_type": "code",
   "execution_count": 29,
   "id": "4cc0dbea",
   "metadata": {},
   "outputs": [],
   "source": [
    "# прочитать новые скоры\n",
    "hmm_name = 'PF00374andPF00346'\n",
    "\n",
    "# new_bitscore = rescore_sequences(f'hmmsearch_results/{hmm_name}_50', \n",
    "#                                  f'alignments/{hmm_name}.fasta',\n",
    "#                                  f'hmms/{hmm_name}_50.hmm')\n",
    "new_bitscore = rescore_sequences(f'hmmsearch_results/{hmm_name}_50')\n",
    "\n",
    "FAMILIES.default[hmm_name].df['new_bitscore'] = FAMILIES.default[hmm_name].df.fasta_id.map(new_bitscore)\n",
    "make_description(FAMILIES.default[hmm_name].df, ['new_bitscore', 'kindom', 'species'], 'description')\n"
   ]
  },
  {
   "cell_type": "code",
   "execution_count": null,
   "id": "1a943a29",
   "metadata": {},
   "outputs": [],
   "source": [
    "new_desc = dict(zip(FAMILIES.default[hmm_name].df.fasta_id, FAMILIES.default[hmm_name].df.description))\n",
    "replace_description(f'alignments/{hmm_name}.fasta', new_desc, f'alignments/{hmm_name}_realigned.fasta')\n",
    "sort_alignment(f'alignments/{hmm_name}_realigned.fasta', 1)"
   ]
  },
  {
   "cell_type": "markdown",
   "id": "642a8e8d",
   "metadata": {},
   "source": [
    "## Motifs"
   ]
  },
  {
   "cell_type": "code",
   "execution_count": 30,
   "id": "0f1b80b1",
   "metadata": {},
   "outputs": [
    {
     "name": "stdout",
     "output_type": "stream",
     "text": [
      "(6355, 37)\n"
     ]
    }
   ],
   "source": [
    "import regex\n",
    "def find_CC(a):\n",
    "    data = pd.DataFrame()\n",
    "    for seq in a:\n",
    "        i = seq.id\n",
    "        data.at[i, 'start0'] = None\n",
    "        for j, find in enumerate(regex.finditer('C-*[^-]-*[^-]-*C', str(seq.seq), overlapped=True)):\n",
    "                data.at[i, f'start{j}'] = find.span()[0]\n",
    "                data.at[i,   f'seq{j}'] = find.group()\n",
    "    for seq in a:\n",
    "        i = seq.id\n",
    "        for j, find in enumerate(regex.finditer('C-*[^-]-*[^-]-*C', str(seq.seq), overlapped=True)):\n",
    "                data.at[i,   f'{find.span()[0]}'] = find.group()\n",
    "    return data\n",
    "\n",
    "\n",
    "a = AlignIO.read('alignments/PF00374andPF00346.fasta', 'fasta')\n",
    "data = find_CC(a)\n",
    "print(data.shape)\n",
    "\n",
    "# меняю порядок колонок вручную -- в поселдовательностях встречалось максимум три мотива\n",
    "data = data[list(data.columns[:8]) + sorted(data.columns[8:], key = lambda x: int(x))]"
   ]
  },
  {
   "cell_type": "code",
   "execution_count": 31,
   "id": "bf8f0abb",
   "metadata": {},
   "outputs": [],
   "source": [
    "# найти колонки с самыми частыми цистеиновыми мотивами\n",
    "# data.notna().sum()"
   ]
  },
  {
   "cell_type": "code",
   "execution_count": 32,
   "id": "c2ae4a71",
   "metadata": {},
   "outputs": [
    {
     "name": "stdout",
     "output_type": "stream",
     "text": [
      "(4252, 37)\n",
      "(4249, 37)\n"
     ]
    }
   ],
   "source": [
    "# это последовательности с двумя мотивами\n",
    "data1 = data[data.start0.notna() & data.start1.notna()].copy()\n",
    "print(data1.shape)\n",
    "\n",
    "# последовательности с нужными мотивами, которые выровнялись\n",
    "data2 = data[ data['739'].notna() & data['1714'].notna()].copy()\n",
    "print(data2.shape)"
   ]
  },
  {
   "cell_type": "code",
   "execution_count": 33,
   "id": "b2d3b773",
   "metadata": {},
   "outputs": [],
   "source": [
    "# какие последовательности имеют два мотива, но не в тех места?"
   ]
  },
  {
   "cell_type": "code",
   "execution_count": 34,
   "id": "0d39e054",
   "metadata": {},
   "outputs": [
    {
     "data": {
      "text/plain": [
       "{'QMUJ01000021.1_1', 'RQOI01000160.1_1', 'USMA01000296.1_2'}"
      ]
     },
     "execution_count": 34,
     "metadata": {},
     "output_type": "execute_result"
    }
   ],
   "source": [
    "set(data1.index) - set(data2.index)"
   ]
  },
  {
   "cell_type": "raw",
   "id": "3776ddd6",
   "metadata": {},
   "source": [
    "QMUJ01000021.1_1 -- нет C конуа, пробластить?\n",
    "RQOI01000160.1_1 -- нет C конуа, пробластить?\n",
    "USMA01000296.1_2 -- \n",
    "Вообще у многих последовательностей нет C концов -- это надо бластом проверять?"
   ]
  },
  {
   "cell_type": "code",
   "execution_count": null,
   "id": "b5f56545",
   "metadata": {},
   "outputs": [],
   "source": [
    "# df = FAMILIES.default.PF00374andPF00346.df\n",
    "# df = df[df.fasta_id.isin(data2.index)]\n",
    "# write_records(df, 'fasta_id', 'path', 'alignments/PF00374andPF00346_motifs.fasta', 'description')\n",
    "# align_hmm('hmms/PF00374andPF00346_50.hmm', 'alignments/PF00374andPF00346_motifs.fasta', 'alignments/PF00374andPF00346_motifs.fasta')\n",
    "# sort_alignment('alignments/PF00374andPF00346_motifs.fasta', 1)"
   ]
  },
  {
   "cell_type": "code",
   "execution_count": 35,
   "id": "e664ac32",
   "metadata": {},
   "outputs": [
    {
     "name": "stdout",
     "output_type": "stream",
     "text": [
      "PF00374andPF00346 PF00374andPF00346 > 0.5\n"
     ]
    }
   ],
   "source": [
    "#Заассайнить данные про мотивы\n",
    "\n",
    "FAMILIES.default.PF00374andPF00346.df.at[FAMILIES.default.PF00374andPF00346.df.fasta_id.isin(data2.index), 'motifs'] = 1\n",
    "FAMILIES.default.PF00374andPF00346.df.motifs.fillna(-1, inplace = True)\n",
    "FAMILIES.default.PF00374andPF00346.df['new_bitscore_motifs'] = FAMILIES.default.PF00374andPF00346.df.apply(lambda x: x.motifs * x.new_bitscore, axis = 1)\n",
    "filter_findings(FAMILIES.default, FAMILIES.default, ['PF00374andPF00346'])"
   ]
  },
  {
   "cell_type": "markdown",
   "id": "dd1dfa05",
   "metadata": {},
   "source": [
    "## Research with motifs information"
   ]
  },
  {
   "cell_type": "code",
   "execution_count": 78,
   "id": "392740b7",
   "metadata": {},
   "outputs": [],
   "source": [
    "# FAMILIES.default[hmm_name].df_filt.new_bitscore_motifs.hist(bins = 1000)\n",
    "# plt.title(hmm_name + ' findings bitscore distribution')"
   ]
  },
  {
   "cell_type": "code",
   "execution_count": null,
   "id": "ce436b28",
   "metadata": {},
   "outputs": [],
   "source": [
    "hmm_name = 'PF00374andPF00346'\n",
    "df = FAMILIES.default[hmm_name].df_filt\n",
    "sample = df[df.new_bitscore_motifs > 0].sample(20)\n",
    "fn = f'alignments/{hmm_name}_sample.fasta'\n",
    "write_records(df = sample,\n",
    "            fasta_id    = 'fasta_id', path        = 'path',\n",
    "            filename    =  fn,\n",
    "            description = 'description'\n",
    "               )\n",
    "subprocess.run(f'muscle  -quiet -in {fn} -out {fn}', shell = True)\n",
    "subprocess.run(f'muscle  -quiet -profile -in1 {fn}  -in2 hmms/PF00374_seed_20.fasta -out alignments/{hmm_name}_samplePF00374.fasta', shell = True)\n",
    "subprocess.run(f'muscle  -quiet -profile -in1 {fn}  -in2 hmms/PF00346_seed_20.fasta -out alignments/{hmm_name}_samplePF00346.fasta', shell = True)\n"
   ]
  },
  {
   "cell_type": "code",
   "execution_count": null,
   "id": "1621c605",
   "metadata": {},
   "outputs": [],
   "source": []
  },
  {
   "cell_type": "code",
   "execution_count": null,
   "id": "5d619438",
   "metadata": {},
   "outputs": [],
   "source": [
    "! ls alignments"
   ]
  },
  {
   "cell_type": "code",
   "execution_count": null,
   "id": "eaa2b9fb",
   "metadata": {},
   "outputs": [],
   "source": [
    "initial = FAMILIES.default.PF00374andPF00346.df_filt.dropna(subset = ['PF00374_score', 'PF00346_score'])\n",
    "initial = initial.merge(TAXONOMY, left_on = 'genome', right_on = 'accession')\n",
    "initial.d.value_counts()"
   ]
  },
  {
   "cell_type": "raw",
   "id": "4ba94398",
   "metadata": {},
   "source": [
    "'utf-8' codec can't decode byte 0xcc in position 775: invalid continuation byte\n",
    "/media/pc208/es/litvinanna/gtdb-202/genomic_files_reps/protein_faa_reps/bacteria/GB_GCA_011322715.1_protein.faa\n",
    "['DRLX01000579.1_2', 'DRLX01000062.1_6', 'DRLX01000411.1_1', 'DRLX01000535.1_5']\n",
    "\n",
    "'utf-8' codec can't decode byte 0xcc in position 775: invalid continuation byte\n",
    "/media/pc208/es/litvinanna/gtdb-202/genomic_files_reps/protein_faa_reps/bacteria/GB_GCA_011322715.1_protein.faa\n",
    "['DRLX01000373.1_4']"
   ]
  },
  {
   "cell_type": "markdown",
   "id": "222f1819",
   "metadata": {},
   "source": [
    "# Более жесткие отсечки"
   ]
  },
  {
   "cell_type": "code",
   "execution_count": 36,
   "id": "f684e576",
   "metadata": {},
   "outputs": [],
   "source": [
    "def make_final(group, keys):\n",
    "    # В inct для каждого семейства я записала число находок в каждом геноме\n",
    "    inct = Dict()\n",
    "    for key in keys:\n",
    "        inct[key] = group[key].df_filt.genome.value_counts()\n",
    "        inct[key].name = key\n",
    "\n",
    "    # Делаю датасет с числами вхождений всех семейств\n",
    "    final_incl = pd.DataFrame()\n",
    "    for key in keys:\n",
    "        final_incl = final_incl.merge(inct[key], how = 'outer', left_index = True, right_index = True)\n",
    "    final_incl.fillna(0, inplace = True)\n",
    "    \n",
    "    group.inclusion = final_incl\n",
    "    return"
   ]
  },
  {
   "cell_type": "code",
   "execution_count": 51,
   "id": "5fc07b2b",
   "metadata": {},
   "outputs": [
    {
     "data": {
      "text/plain": [
       "0       1043.7\n",
       "1          NaN\n",
       "2          NaN\n",
       "3          NaN\n",
       "4       1090.6\n",
       "         ...  \n",
       "5004       NaN\n",
       "5005    1097.2\n",
       "5006    1058.6\n",
       "5007    1040.0\n",
       "5008       NaN\n",
       "Name: new_bitscore, Length: 5009, dtype: float64"
      ]
     },
     "execution_count": 51,
     "metadata": {},
     "output_type": "execute_result"
    }
   ],
   "source": [
    "FAMILIES.default.PF03116.df_filt.bitscore\n",
    "FAMILIES.default.PF00374andPF00346.df_filt.new_bitscore_motifs\n",
    "FAMILIES.default.PF03598.df.new_bitscore"
   ]
  },
  {
   "cell_type": "code",
   "execution_count": 50,
   "id": "2e8bf0a8",
   "metadata": {},
   "outputs": [
    {
     "name": "stdout",
     "output_type": "stream",
     "text": [
      "PF03598 bitscore > 21.3\n"
     ]
    }
   ],
   "source": [
    "filter_findings(FAMILIES.default, FAMILIES.default, ['PF03598'])"
   ]
  },
  {
   "cell_type": "code",
   "execution_count": 52,
   "id": "defdf074",
   "metadata": {},
   "outputs": [
    {
     "name": "stdout",
     "output_type": "stream",
     "text": [
      "PF03598 new_bitscore > 200\n",
      "PF03116 bitscore > 27.7\n",
      "PF00374andPF00346 new_bitscore_motifs > 0\n"
     ]
    }
   ],
   "source": [
    "FAMILIES.group2.update(Dict(   \n",
    "{\n",
    " 'PF03598': {'cutoff': 200, 'cutoff_name' : 'new_bitscore'},\n",
    "#  'PF00374': {'cutoff': 25.8, 'cutoff_name' : 'bitscore'},\n",
    "#  'PF00346': {'cutoff': 24.0, 'cutoff_name' : 'bitscore'},\n",
    " 'PF03116': {'cutoff': 27.7, 'cutoff_name' : 'bitscore'},\n",
    " 'PF00374andPF00346': {'cutoff': 0, 'cutoff_name' : 'new_bitscore_motifs'},\n",
    "#  'PF03598andPF19436': {'cutoff': 0, 'cutoff_name' : 'new_bitscore'},\n",
    "}\n",
    "))\n",
    "# # Логический отбор по наличию/отсутствию белков\n",
    "# Create cutoff filtered datasets\n",
    "filter_findings(FAMILIES.group2, FAMILIES.default, ['PF03598','PF03116', 'PF00374andPF00346'])\n",
    "# Логический отбор по наличию/отсутствию белков\n",
    "make_final(FAMILIES.group2,  ['PF03598','PF03116', 'PF00374andPF00346', ])\n",
    "\n",
    "logical_selection(FAMILIES.group2, ['PF03598'], ['PF03116', 'PF00374andPF00346'])"
   ]
  },
  {
   "cell_type": "code",
   "execution_count": 56,
   "id": "bddeec02",
   "metadata": {},
   "outputs": [
    {
     "data": {
      "text/plain": [
       "(692, 3)"
      ]
     },
     "execution_count": 56,
     "metadata": {},
     "output_type": "execute_result"
    }
   ],
   "source": [
    "FAMILIES.group2.final_list.shape"
   ]
  },
  {
   "cell_type": "code",
   "execution_count": 57,
   "id": "21c31b99",
   "metadata": {},
   "outputs": [],
   "source": [
    "FAMILIES.group2.taxonomy = TAXONOMY[TAXONOMY.accession.isin(FAMILIES.group2.final_list.index)]\n",
    "g2 = FAMILIES.group2.taxonomy"
   ]
  },
  {
   "cell_type": "code",
   "execution_count": 58,
   "id": "4939a7cf",
   "metadata": {},
   "outputs": [
    {
     "data": {
      "text/plain": [
       "d__Bacteria    485\n",
       "d__Archaea     207\n",
       "Name: d, dtype: int64"
      ]
     },
     "execution_count": 58,
     "metadata": {},
     "output_type": "execute_result"
    }
   ],
   "source": [
    "g2.d.value_counts()"
   ]
  },
  {
   "cell_type": "code",
   "execution_count": 95,
   "id": "bbccdfe7",
   "metadata": {},
   "outputs": [],
   "source": [
    "# g2[['d', 'p']].value_counts().sort_index()"
   ]
  },
  {
   "cell_type": "markdown",
   "id": "79a04afd",
   "metadata": {},
   "source": [
    "# Microbiologists data"
   ]
  },
  {
   "cell_type": "code",
   "execution_count": 59,
   "id": "6baec6f2",
   "metadata": {},
   "outputs": [],
   "source": [
    "micro_data = pd.read_excel('info/ACS( )ECH(-)RnfD(-)RnfC(-).xlsx')\n",
    "micro_data[micro_data['REQUIRED SET (1/0)'] == 1].iloc[0].SUBJECT\n",
    "\n",
    "micro_data_yes = micro_data[micro_data['REQUIRED SET (1/0)'] == 1][['SUBJECT','REQUIRED SET (1/0)']].copy()\n",
    "micro_data_yes['id']      = micro_data_yes.SUBJECT.apply(lambda x: x.split()[0][1:])\n",
    "micro_data_yes['genus']   = micro_data_yes.SUBJECT.apply(lambda x: x.split()[1])\n",
    "micro_data_yes['spesies'] = micro_data_yes.SUBJECT.apply(lambda x: x.split()[2])\n",
    "\n",
    "\n",
    "micro_data_yes = micro_data_yes.merge(pd.read_csv('micro_data_yes'), how = 'left')\n",
    "micro_data_yes = micro_data_yes.merge(pathes[['accession','assembly', 'species']], how = 'left')"
   ]
  },
  {
   "cell_type": "code",
   "execution_count": 60,
   "id": "443f9259",
   "metadata": {},
   "outputs": [
    {
     "data": {
      "text/plain": [
       "(28, 8)"
      ]
     },
     "execution_count": 60,
     "metadata": {},
     "output_type": "execute_result"
    }
   ],
   "source": [
    "micro_data_yes.shape"
   ]
  },
  {
   "cell_type": "code",
   "execution_count": 61,
   "id": "4848d100",
   "metadata": {},
   "outputs": [],
   "source": [
    "# pd.options.display.max_columns = 150"
   ]
  },
  {
   "cell_type": "code",
   "execution_count": 62,
   "id": "9810e872",
   "metadata": {},
   "outputs": [],
   "source": [
    "# Desulfotomaculum kuznetsovii DSM 6115, complete genome\n",
    "# Record removed. This record was removed by RefSeq staff. \n",
    "# Please contact info@ncbi.nlm.nih.gov for further details."
   ]
  },
  {
   "cell_type": "code",
   "execution_count": 63,
   "id": "2a5675b1",
   "metadata": {},
   "outputs": [
    {
     "data": {
      "text/plain": [
       "<matplotlib_venn._common.VennDiagram at 0x7f29e349adf0>"
      ]
     },
     "execution_count": 63,
     "metadata": {},
     "output_type": "execute_result"
    },
    {
     "data": {
      "image/png": "[encoded data removed]",
      "text/plain": [
       "<Figure size 432x288 with 1 Axes>"
      ]
     },
     "metadata": {},
     "output_type": "display_data"
    }
   ],
   "source": [
    "from matplotlib_venn import venn2_unweighted\n",
    "venn2_unweighted([set(micro_data_yes.accession.dropna()),set(g2.accession)], \n",
    "                 set_labels = ['28 species?', f'gtdb {len(g2)} sp'])"
   ]
  },
  {
   "cell_type": "code",
   "execution_count": null,
   "id": "ba14cefc",
   "metadata": {},
   "outputs": [],
   "source": [
    "# micro_data_yes.accession.shape, micro_data_yes.accession.notna().sum()"
   ]
  },
  {
   "cell_type": "code",
   "execution_count": null,
   "id": "ece184e7",
   "metadata": {},
   "outputs": [],
   "source": [
    "set(micro_data_yes.accession.dropna()) - set(g2.accession)"
   ]
  },
  {
   "cell_type": "code",
   "execution_count": null,
   "id": "17c80386",
   "metadata": {},
   "outputs": [],
   "source": [
    "TAXONOMY[TAXONOMY.accession.isin(['RS_GCF_000092205.1'])]"
   ]
  },
  {
   "cell_type": "code",
   "execution_count": null,
   "id": "d269918b",
   "metadata": {},
   "outputs": [],
   "source": [
    "FAMILIES.group2.inclusion\\\n",
    ".loc[['RS_GCF_000092205.1']]"
   ]
  },
  {
   "cell_type": "code",
   "execution_count": null,
   "id": "62d2f404",
   "metadata": {},
   "outputs": [],
   "source": []
  },
  {
   "cell_type": "code",
   "execution_count": null,
   "id": "b29fdf36",
   "metadata": {},
   "outputs": [],
   "source": [
    "df = FAMILIES.default.PF03116.df\n",
    "df = df[df.genome == 'RS_GCF_000092205.1']\n",
    "write_records(df, fasta_id = 'fasta_id', path = 'path', filename = 'alignments/special_PF03116.fasta', \n",
    "              description='description')\n",
    "subprocess.run('muscle -quiet -profile -in1 alignments/special_PF03116.fasta -in2 hmms/PF03116_seed_20.fasta -out alignments/special_PF03116.fasta', shell = True)\n"
   ]
  },
  {
   "cell_type": "code",
   "execution_count": null,
   "id": "4ded6eb2",
   "metadata": {},
   "outputs": [],
   "source": [
    "df = FAMILIES.default.PF00374andPF00346.df_filt\n",
    "df = df[df.genome.isin(four)]\n",
    "fn = 'alignments/special_PF00374andPF00346.fasta'\n",
    "write_records(df, fasta_id = 'fasta_id', path = 'path', filename = fn, \n",
    "              description='description')\n",
    "subprocess.run(f'muscle -quiet -profile -in2 {fn} -in1 hmms/PF00374_seed_20.fasta -out {fn}', shell = True)\n",
    "subprocess.run(f'muscle -quiet -profile -in1 {fn} -in2 hmms/PF00346_seed_20.fasta -out {fn}', shell = True)"
   ]
  },
  {
   "cell_type": "code",
   "execution_count": null,
   "id": "b201b4e7",
   "metadata": {},
   "outputs": [],
   "source": [
    "# filter_findings(FAMILIES.default, FAMILIES.default, ['PF00374andPF00346'])"
   ]
  },
  {
   "cell_type": "code",
   "execution_count": 65,
   "id": "12703f2b",
   "metadata": {},
   "outputs": [],
   "source": [
    "g2 = g2.sort_values(['d', 'p', 'c', 'o', 'f', 's'])"
   ]
  },
  {
   "cell_type": "code",
   "execution_count": 111,
   "id": "91de3526",
   "metadata": {},
   "outputs": [],
   "source": [
    "g2.to_csv('groups/v1_taxonomy.tsv', index = False, sep = '\\t')"
   ]
  },
  {
   "cell_type": "code",
   "execution_count": 110,
   "id": "fd86f990",
   "metadata": {},
   "outputs": [
    {
     "data": {
      "text/plain": [
       "(692, 9)"
      ]
     },
     "execution_count": 110,
     "metadata": {},
     "output_type": "execute_result"
    }
   ],
   "source": [
    "g2.shape"
   ]
  },
  {
   "cell_type": "markdown",
   "id": "41d1da73",
   "metadata": {},
   "source": [
    "# Research phenotypes"
   ]
  },
  {
   "cell_type": "code",
   "execution_count": 70,
   "id": "9c71dc05",
   "metadata": {},
   "outputs": [],
   "source": [
    "pheno1 = pheno[pheno.species.isin(g2.species)][pheno_cols + ['species']].merge(g2)"
   ]
  },
  {
   "cell_type": "code",
   "execution_count": 71,
   "id": "2cdb4c39",
   "metadata": {},
   "outputs": [
    {
     "data": {
      "text/plain": [
       "d__Bacteria    37\n",
       "d__Archaea     35\n",
       "Name: d, dtype: int64"
      ]
     },
     "execution_count": 71,
     "metadata": {},
     "output_type": "execute_result"
    }
   ],
   "source": [
    "pheno1.d.value_counts()"
   ]
  },
  {
   "cell_type": "code",
   "execution_count": 72,
   "id": "9c6e341d",
   "metadata": {},
   "outputs": [
    {
     "data": {
      "text/plain": [
       "array([<AxesSubplot:title={'center':'d__Archaea'}>,\n",
       "       <AxesSubplot:title={'center':'d__Bacteria'}>], dtype=object)"
      ]
     },
     "execution_count": 72,
     "metadata": {},
     "output_type": "execute_result"
    },
    {
     "data": {
      "image/png": "[encoded data removed]",
      "text/plain": [
       "<Figure size 432x288 with 2 Axes>"
      ]
     },
     "metadata": {
      "needs_background": "light"
     },
     "output_type": "display_data"
    }
   ],
   "source": [
    "pheno1.hist('growth_tmp', by = 'd')"
   ]
  },
  {
   "cell_type": "code",
   "execution_count": 73,
   "id": "0e036ea8",
   "metadata": {},
   "outputs": [],
   "source": [
    "# pheno1.notna().sum()"
   ]
  },
  {
   "cell_type": "code",
   "execution_count": 74,
   "id": "302f9381",
   "metadata": {
    "scrolled": true
   },
   "outputs": [
    {
     "data": {
      "text/plain": [
       "sediment_marine_hydrothermal    7\n",
       "wastewater                      6\n",
       "bioreactor/digester             3\n",
       "water                           2\n",
       "petroleum                       2\n",
       "water_marine_hydrothermal       2\n",
       "soil                            2\n",
       "sediment_hypersaline            1\n",
       "rock_deep                       1\n",
       "sediment_marine                 1\n",
       "water_fresh                     1\n",
       "water_hotspring                 1\n",
       "food_fermented                  1\n",
       "volcanic_active                 1\n",
       "soil_organic_permafrost         1\n",
       "Name: isolation_source, dtype: int64"
      ]
     },
     "execution_count": 74,
     "metadata": {},
     "output_type": "execute_result"
    }
   ],
   "source": [
    "pheno1.isolation_source.value_counts()"
   ]
  },
  {
   "cell_type": "code",
   "execution_count": 75,
   "id": "bd076029",
   "metadata": {},
   "outputs": [
    {
     "data": {
      "text/plain": [
       "26"
      ]
     },
     "execution_count": 75,
     "metadata": {},
     "output_type": "execute_result"
    }
   ],
   "source": [
    "pheno1.pathways.notna().sum()"
   ]
  },
  {
   "cell_type": "code",
   "execution_count": 76,
   "id": "132a4323",
   "metadata": {},
   "outputs": [
    {
     "data": {
      "text/plain": [
       "anaerobic             33\n",
       "obligate anaerobic     3\n",
       "Name: metabolism, dtype: int64"
      ]
     },
     "execution_count": 76,
     "metadata": {},
     "output_type": "execute_result"
    }
   ],
   "source": [
    "pheno1.metabolism.value_counts()"
   ]
  },
  {
   "cell_type": "code",
   "execution_count": 80,
   "id": "020a9fa8",
   "metadata": {},
   "outputs": [
    {
     "data": {
      "text/plain": [
       "d__Bacteria    23\n",
       "d__Archaea     13\n",
       "Name: d, dtype: int64"
      ]
     },
     "execution_count": 80,
     "metadata": {},
     "output_type": "execute_result"
    }
   ],
   "source": [
    "pheno1.dropna(subset = ['metabolism']).d.value_counts()"
   ]
  },
  {
   "cell_type": "code",
   "execution_count": 91,
   "id": "06d856fd",
   "metadata": {},
   "outputs": [
    {
     "data": {
      "text/plain": [
       "(26,)"
      ]
     },
     "execution_count": 91,
     "metadata": {},
     "output_type": "execute_result"
    }
   ],
   "source": [
    "pheno1.pathways.dropna().shape"
   ]
  },
  {
   "cell_type": "code",
   "execution_count": 92,
   "id": "387d9d90",
   "metadata": {},
   "outputs": [],
   "source": [
    "# pheno1.pathways.dropna().apply(lambda x: x.split(',')).explode().value_counts()"
   ]
  },
  {
   "cell_type": "code",
   "execution_count": 81,
   "id": "4d2c6c89",
   "metadata": {},
   "outputs": [],
   "source": [
    "pheno1[['pathways', 'isolation_source', 'growth_tmp' , 'species', 'd', 'p']] \\\n",
    ".dropna(how = 'all', subset = ['pathways', 'isolation_source', 'growth_tmp' ])\\\n",
    ".sort_values(['d', 'p']).to_csv('groups/pheno.csv', index = False, sep = '\\t')"
   ]
  },
  {
   "cell_type": "code",
   "execution_count": 112,
   "id": "942839c4",
   "metadata": {},
   "outputs": [],
   "source": [
    "# ! sed 's/,/\\t/g' groups/711_taxonomy.csv >> groups/711_taxonomy.tsv "
   ]
  },
  {
   "cell_type": "code",
   "execution_count": 109,
   "id": "8336f737",
   "metadata": {},
   "outputs": [],
   "source": [
    "# ! ls groups/711_taxonomy.csv "
   ]
  },
  {
   "cell_type": "code",
   "execution_count": 113,
   "id": "d37af873",
   "metadata": {},
   "outputs": [],
   "source": [
    "# pheno1.to_csv('groups/v1_phenome.csv')"
   ]
  },
  {
   "cell_type": "code",
   "execution_count": null,
   "id": "922006e6",
   "metadata": {},
   "outputs": [],
   "source": []
  }
 ],
 "metadata": {
  "kernelspec": {
   "display_name": "Python 3 (ipykernel)",
   "language": "python",
   "name": "python3"
  },
  "language_info": {
   "codemirror_mode": {
    "name": "ipython",
    "version": 3
   },
   "file_extension": ".py",
   "mimetype": "text/x-python",
   "name": "python",
   "nbconvert_exporter": "python",
   "pygments_lexer": "ipython3",
   "version": "3.9.5"
  }
 },
 "nbformat": 4,
 "nbformat_minor": 5
}
